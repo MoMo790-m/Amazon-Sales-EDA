{
 "cells": [
  {
   "cell_type": "markdown",
   "metadata": {},
   "source": [
    "# ***DATA EXPLORATION***\n"
   ]
  },
  {
   "cell_type": "code",
   "execution_count": 1,
   "metadata": {},
   "outputs": [],
   "source": [
    "import pandas as pd\n",
    "import matplotlib.pyplot as plt\n",
    "import seaborn as sns\n",
    "import re\n",
    "from textblob import TextBlob\n",
    "import plotly.express as px"
   ]
  },
  {
   "cell_type": "markdown",
   "metadata": {},
   "source": [
    "***We will cover this in the dataset***"
   ]
  },
  {
   "cell_type": "code",
   "execution_count": 2,
   "metadata": {},
   "outputs": [
    {
     "data": {
      "application/vnd.microsoft.datawrangler.viewer.v0+json": {
       "columns": [
        {
         "name": "index",
         "rawType": "int64",
         "type": "integer"
        },
        {
         "name": "product_id",
         "rawType": "object",
         "type": "string"
        },
        {
         "name": "product_name",
         "rawType": "object",
         "type": "string"
        },
        {
         "name": "category",
         "rawType": "object",
         "type": "string"
        },
        {
         "name": "discounted_price",
         "rawType": "object",
         "type": "string"
        },
        {
         "name": "actual_price",
         "rawType": "object",
         "type": "string"
        },
        {
         "name": "discount_percentage",
         "rawType": "object",
         "type": "string"
        },
        {
         "name": "rating",
         "rawType": "object",
         "type": "string"
        },
        {
         "name": "rating_count",
         "rawType": "object",
         "type": "string"
        },
        {
         "name": "about_product",
         "rawType": "object",
         "type": "string"
        },
        {
         "name": "user_id",
         "rawType": "object",
         "type": "string"
        },
        {
         "name": "user_name",
         "rawType": "object",
         "type": "string"
        },
        {
         "name": "review_id",
         "rawType": "object",
         "type": "string"
        },
        {
         "name": "review_title",
         "rawType": "object",
         "type": "string"
        },
        {
         "name": "review_content",
         "rawType": "object",
         "type": "string"
        },
        {
         "name": "img_link",
         "rawType": "object",
         "type": "string"
        },
        {
         "name": "product_link",
         "rawType": "object",
         "type": "string"
        }
       ],
       "conversionMethod": "pd.DataFrame",
       "ref": "74ccce8e-976d-418a-a208-c7b944e72974",
       "rows": [
        [
         "0",
         "B07JW9H4J1",
         "Wayona Nylon Braided USB to Lightning Fast Charging and Data Sync Cable Compatible for iPhone 13, 12,11, X, 8, 7, 6, 5, iPad Air, Pro, Mini (3 FT Pack of 1, Grey)",
         "Computers&Accessories|Accessories&Peripherals|Cables&Accessories|Cables|USBCables",
         "₹399",
         "₹1,099",
         "64%",
         "4.2",
         "24,269",
         "High Compatibility : Compatible With iPhone 12, 11, X/XsMax/Xr ,iPhone 8/8 Plus,iPhone 7/7 Plus,iPhone 6s/6s Plus,iPhone 6/6 Plus,iPhone 5/5s/5c/se,iPad Pro,iPad Air 1/2,iPad mini 1/2/3,iPod nano7,iPod touch and more apple devices.|Fast Charge&Data Sync : It can charge and sync simultaneously at a rapid speed, Compatible with any charging adaptor, multi-port charging station or power bank.|Durability : Durable nylon braided design with premium aluminum housing and toughened nylon fiber wound tightly around the cord lending it superior durability and adding a bit to its flexibility.|High Security Level : It is designed to fully protect your device from damaging excessive current.Copper core thick+Multilayer shielding, Anti-interference, Protective circuit equipment.|WARRANTY: 12 months warranty and friendly customer services, ensures the long-time enjoyment of your purchase. If you meet any question or problem, please don't hesitate to contact us.",
         "AG3D6O4STAQKAY2UVGEUV46KN35Q,AHMY5CWJMMK5BJRBBSNLYT3ONILA,AHCTC6ULH4XB6YHDY6PCH2R772LQ,AGYHHIERNXKA6P5T7CZLXKVPT7IQ,AG4OGOFWXJZTQ2HKYIOCOY3KXF2Q,AENGU523SXMOS7JPDTW52PNNVWGQ,AEQJHCVTNINBS4FKTBGQRQTGTE5Q,AFC3FFC5PKFF5PMA52S3VCHOZ5FQ",
         "Manav,Adarsh gupta,Sundeep,S.Sayeed Ahmed,jaspreet singh,Khaja moin,Anand,S.ARUMUGAM",
         "R3HXWT0LRP0NMF,R2AJM3LFTLZHFO,R6AQJGUP6P86,R1KD19VHEDV0OR,R3C02RMYQMK6FC,R39GQRVBUZBWGY,R2K9EDOE15QIRJ,R3OI7YT648TL8I",
         "Satisfied,Charging is really fast,Value for money,Product review,Good quality,Good product,Good Product,As of now seems good",
         "Looks durable Charging is fine tooNo complains,Charging is really fast, good product.,Till now satisfied with the quality.,This is a good product . The charging speed is slower than the original iPhone cable,Good quality, would recommend,https://m.media-amazon.com/images/W/WEBP_402378-T1/images/I/81---F1ZgHL._SY88.jpg,Product had worked well till date and was having no issue.Cable is also sturdy enough...Have asked for replacement and company is doing the same...,Value for money",
         "https://m.media-amazon.com/images/W/WEBP_402378-T1/images/I/51UsScvHQNL._SX300_SY300_QL70_FMwebp_.jpg",
         "https://www.amazon.in/Wayona-Braided-WN3LG1-Syncing-Charging/dp/B07JW9H4J1/ref=sr_1_1?qid=1672909124&s=electronics&sr=1-1"
        ],
        [
         "1",
         "B098NS6PVG",
         "Ambrane Unbreakable 60W / 3A Fast Charging 1.5m Braided Type C Cable for Smartphones, Tablets, Laptops & other Type C devices, PD Technology, 480Mbps Data Sync, Quick Charge 3.0 (RCT15A, Black)",
         "Computers&Accessories|Accessories&Peripherals|Cables&Accessories|Cables|USBCables",
         "₹199",
         "₹349",
         "43%",
         "4.0",
         "43,994",
         "Compatible with all Type C enabled devices, be it an android smartphone (Mi, Samsung, Oppo, Vivo, Realme, OnePlus, etc), tablet, laptop (Macbook, Chromebook, etc)|Supports Quick Charging (2.0/3.0)|Unbreakable – Made of special braided outer with rugged interior bindings, it is ultra-durable cable that won’t be affected by daily rough usage|Ideal Length – It has ideal length of 1.5 meters which is neither too short like your typical 1meter cable or too long like a 2meters cable|Supports maximum 3A fast charging and 480 Mbps data transfer speed|6 months manufacturer warranty from the date of purchase",
         "AECPFYFQVRUWC3KGNLJIOREFP5LQ,AGYYVPDD7YG7FYNBXNGXZJT525AQ,AHONIZU3ICIEHQIGQ6R2VFRSBXOQ,AFPHD2CRPDZMWMBL7WXRSVYWS5JA,AEZ346GX3HJ4O4XNRPHCNHXQURMQ,AEPSWFPNECKO34PUC7I56ITGXR6Q,AHWVEHR5DYLVFTO2KF3IZATFQSWQ,AH4QT33M55677I7ISQOAKEQWACYQ",
         "ArdKn,Nirbhay kumar,Sagar Viswanathan,Asp,Placeholder,BharanI,sonia,Niam",
         "RGIQEG07R9HS2,R1SMWZQ86XIN8U,R2J3Y1WL29GWDE,RYGGS0M09S3KY,R17KQRUTAN5DKS,R3AAQGS6HP2QUK,R1HDNOG6TO2CCA,R3PHKXYA5AFEOU",
         "A Good Braided Cable for Your Type C Device,Good quality product from ambrane,Super cable,As,Good quality,Good product,its good,Good quality for the price but one issue with my unit",
         "I ordered this cable to connect my phone to Android Auto of car. The cable is really strong and the connection ports are really well made. I already has a Micro USB cable from Ambrane and it's still in good shape. I connected my phone to the car using the cable and it got connected well and no issues. I also connected it to the charging port and yes it has Fast Charging support.,It quality is good at this price and the main thing is that i didn't ever thought that this cable will be so long it's good one and charging power is too good and also supports fast charging,Value for money, with extra length👍,Good, working fine,Product quality is good,Good,very good,Bought for my daughter's old phone.Brand new cable it was not charging, I already repacked and requested for replacement.I checked again, and there was some green colour paste/fungus inside the micro USB connector. I cleaned with an alcoholic and starts working again.Checked the ampere of charging speed got around 1400ma-1500ma - not bad, came with braided 1.5m long cable, pretty impressive for the price.Can't blame the manufacturer.But quality issues by the distributor, they might have stored in very humid place.",
         "https://m.media-amazon.com/images/W/WEBP_402378-T2/images/I/31zOsqQOAOL._SY445_SX342_QL70_FMwebp_.jpg",
         "https://www.amazon.in/Ambrane-Unbreakable-Charging-Braided-Cable/dp/B098NS6PVG/ref=sr_1_2?qid=1672909124&s=electronics&sr=1-2"
        ],
        [
         "2",
         "B096MSW6CT",
         "Sounce Fast Phone Charging Cable & Data Sync USB Cable Compatible for iPhone 13, 12,11, X, 8, 7, 6, 5, iPad Air, Pro, Mini & iOS Devices",
         "Computers&Accessories|Accessories&Peripherals|Cables&Accessories|Cables|USBCables",
         "₹199",
         "₹1,899",
         "90%",
         "3.9",
         "7,928",
         "【 Fast Charger& Data Sync】-With built-in safety proctections and four-core copper wires promote maximum signal quality and strength and enhance charging & data transfer speed with up to 480 mb/s transferring speed.|【 Compatibility】-Compatible with iPhone 13, 12,11, X, 8, 7, 6, 5, iPad Air, Pro, Mini & iOS devices.|【 Sturdy & Durable】-The jacket and enforced connector made of TPE and premium copper, are resistant to repeatedly bending and coiling.|【 Ultra High Quality】: According to the experimental results, the fishbone design can accept at least 20,000 bending and insertion tests for extra protection and durability. Upgraded 3D aluminum connector and exclusive laser welding technology, which to ensure the metal part won't break and also have a tighter connection which fits well even with a protective case on and will never loose connection.|【 Good After Sales Service】-Our friendly and reliable customer service will respond to you within 24 hours ! you can purchase with confidence,and every sale includes a 365-day worry-free Service to prove the importance we set on quality.",
         "AGU3BBQ2V2DDAMOAKGFAWDDQ6QHA,AESFLDV2PT363T2AQLWQOWZ4N3OA,AHTPQRIMGUD4BYR5YIHBH3CCGEFQ,AEUVWXYP5LT7PZLLZENEO2NODPBQ,AHC7MPW55DOO6WNCOQVA2VHOD26A,AFDI6FRPFBTNBG7BAEB7JDJSMKDQ,AFQKCEEEKXCOHTDG4WUN3XPPHJQQ,AHKUUFNMBZIDLSSPA4FEHIO2EC7Q",
         "Kunal,Himanshu,viswanath,sai niharka,saqib malik,Aashiq,Ramu Challa,Sanjay gupta",
         "R3J3EQQ9TZI5ZJ,R3E7WBGK7ID0KV,RWU79XKQ6I1QF,R25X4TBMPY91LX,R27OK7G99VK0TR,R207CYDCHJJTCJ,R3PCU8XMU173BT,R1IMONDOWRNU5V",
         "Good speed for earlier versions,Good Product,Working good,Good for the price,Good,Worth for money,Working nice,it's a really nice product",
         "Not quite durable and sturdy,https://m.media-amazon.com/images/W/WEBP_402378-T1/images/I/71rIggrbUCL._SY88.jpg,Working good,https://m.media-amazon.com/images/W/WEBP_402378-T1/images/I/61bKp9YO6wL._SY88.jpg,Product,Very nice product,Working well,It's a really nice product",
         "https://m.media-amazon.com/images/W/WEBP_402378-T1/images/I/31IvNJZnmdL._SY445_SX342_QL70_FMwebp_.jpg",
         "https://www.amazon.in/Sounce-iPhone-Charging-Compatible-Devices/dp/B096MSW6CT/ref=sr_1_3?qid=1672909124&s=electronics&sr=1-3"
        ],
        [
         "3",
         "B08HDJ86NZ",
         "boAt Deuce USB 300 2 in 1 Type-C & Micro USB Stress Resistant, Tangle-Free, Sturdy Cable with 3A Fast Charging & 480mbps Data Transmission, 10000+ Bends Lifespan and Extended 1.5m Length(Martian Red)",
         "Computers&Accessories|Accessories&Peripherals|Cables&Accessories|Cables|USBCables",
         "₹329",
         "₹699",
         "53%",
         "4.2",
         "94,363",
         "The boAt Deuce USB 300 2 in 1 cable is compatible with smartphones, tablets, PC peripherals, Bluetooth speakers, power banks and all other devices with Type-C as well as Micro USB port|It ensures 3A fast charging and data transmissions with rapid sync at 480 mbps|The premium Nylon braided skin makes it sturdy and invincible against external damage|Its Aluminium alloy shell housing makes it last longer with 10000+ Bends Lifespan with extended frame protection for strain relief|The resilient and flexible design offers a tangle free experience seamlessly|Deuce USB 300 cable offers a perfect 1.5 meters in length for smooth & hassle-free user experience|2 years warranty from the date of purchase",
         "AEWAZDZZJLQUYVOVGBEUKSLXHQ5A,AG5HTSFRRE6NL3M5SGCUQBP7YSCA,AH725ST5NW2Y4JZPKUNTIJCUK2BA,AHV3TXIFCJPMS4D5JATCEUR266MQ,AGWIGDEMFIIUAOXYY2QATNBSUGHA,AFSTSLQUV4EVEXWKBOLEFHL2H5YQ,AGAKDNBHY2FKX7I4ACRGILU7QL7A,AFNWJUWJRHCC6HN52KMG5AKZY37Q",
         "Omkar dhale,JD,HEMALATHA,Ajwadh a.,amar singh chouhan,Ravi Siddan,Himanshu Goel,Udaykumar",
         "R3EEUZKKK9J36I,R3HJVYCLYOY554,REDECAZ7AMPQC,R1CLH2ULIVG5U3,R2DMKIBGFKBD6R,RC89B5IAJUTR5,R3B3DDON5FH8DS,R13WAEJDI5RS36",
         "Good product,Good one,Nice,Really nice product,Very first time change,Good,Fine product but could be better,Very nice it's charging like jet",
         "Good product,long wire,Charges good,Nice,I bought this cable for Rs.339 worthy product for this price, i tested it in various charger adapters 33w and 18w it supports fast charging as well.,Good,Ok,I had got this at good price on sale on Amazon and product is useful with warranty but for warranty you need to go very far not practical for such a cost and mine micro to type c connector stopped working after few days only.,I like this product",
         "https://m.media-amazon.com/images/I/41V5FtEWPkL._SX300_SY300_QL70_FMwebp_.jpg",
         "https://www.amazon.in/Deuce-300-Resistant-Tangle-Free-Transmission/dp/B08HDJ86NZ/ref=sr_1_4?qid=1672909124&s=electronics&sr=1-4"
        ],
        [
         "4",
         "B08CF3B7N1",
         "Portronics Konnect L 1.2M Fast Charging 3A 8 Pin USB Cable with Charge & Sync Function for iPhone, iPad (Grey)",
         "Computers&Accessories|Accessories&Peripherals|Cables&Accessories|Cables|USBCables",
         "₹154",
         "₹399",
         "61%",
         "4.2",
         "16,905",
         "[CHARGE & SYNC FUNCTION]- This cable comes with charging & Data sync function|[HIGH QUALITY MATERIAL]- TPE + Nylon Material to make sure that the life of the cable is enhanced significantly|[LONG CORD]- The Cable is extra thick 1.2 meter long, optimized for an easy use for your comfort at home or office|[MORE DURABLE]-This cable is unique interms of design and multi-use and is positioned to provide the best comfort and performance while using|[UNIVERSAL COMPATIBILITY]- Compatible with all devices like iPhone XS, X, XR, 8, 7, 6S, 6, 5S, iPad Pro, iPad mini and iPad Air",
         "AE3Q6KSUK5P75D5HFYHCRAOLODSA,AFUGIFH5ZAFXRDSZHM4QB2KPKFUQ,AFK4NJOLFSJGWLOJIUIAROJF6YVA,AFUOTYRFUXVPEBGIXVZZ7DR3CZUA,AFDLRSXKDZ6U3U3KD46SQLFGZQRA,AH5VLM66SIK7J3IRG4NY7XVOQ55A,AE3MQNNHHLUHXURL5S7IAR7JTGNQ,AFSEOFZY67MYC7UAJU264Z5NFTLA",
         "rahuls6099,Swasat Borah,Ajay Wadke,Pranali,RVK,Bhargav,Durai Vignesh,Amazon Customer",
         "R1BP4L2HH9TFUP,R16PVJEXKV6QZS,R2UPDB81N66T4P,R3KK4GT934ST3I,RCFHMWUSBIJO,RDO7DACXMAJ84,R3A6MEZL3LY66Z,R1ESIEKPGAYA29",
         "As good as original,Decent,Good one for secondary use,Best quality,GOOD,Amazing product at a mind blowing price!,Nice Quality,Good product",
         "Bought this instead of original apple, does the work for 150rs, not as fast as apple charger but its a good option if you want cheap and good product, bought it for iPad pro 10.5 and it's working flawlessly, build quality is ok, its not like i am gonna hang my clothes on it and i want a very strong cable, even a braided cable stop working after a year, i have used both Anker and Apple store strong braided cable they all stop working after a year so please don't buy high end cables just for that instead choose a this one and even if it's stops working withing a year you only loose 150rs compares to 2000rs.UPDATE------------------------------------pin has stopped charging from one side, now i have to slip the pin to charge from other side, but i will update and let know for how long does it work,,It’s good. Not sure about durability as the pin area feels a bit fragile,Does not support apple carplaySo was little disappointed about thatOther than that cable is made up of very good quality,Best to buy,100% NOT FATHFUL,Writing this review post 10 months and 3 orders of the same product.Honestly Portronics Konnect L lightning cable works like magic with the original Apple charging brick.Seeing the price of the cable I initially hesitated buying as it was as low as ₹99/- with the offers and so I wasn’t sure if it would work well with my iPhone 12 or whether it would impact my iPhone’s battery health because all the other lightning cable brands were costing over ₹350/- like Wayona, Amazon Basics, etc.Earlier I was using Wayona Brand lightning cable with eventually frayed and stopped working.Charging Speed:Charges my iPhone fast enough almost similar compared to the original cable level when used with 12W Original Apple power adapter.Quality and Durability:Great quality braided cable and doesn’t tangle easily and can withstand day-to-day usage.L-Shaped pin:This is very innovative by Portronics and it makes sure the cable doesn’t get damaged even if used while charging.CarPlay and Data Sync:Works smoothly with CarPlay and syncs data effortlessly.PS: I have used this cable only with the Original Apple Charging Brick and extremely satisfied with its performance.,Better than I expect the product I like that Quality and I plan to buy same type cable come with usb C to Lighting cable for emergency purpose that much I love this cable. Buy for this cable only emergency uses only since Good one,Good product and value for money",
         "https://m.media-amazon.com/images/W/WEBP_402378-T2/images/I/31VzNhhqifL._SX300_SY300_QL70_FMwebp_.jpg",
         "https://www.amazon.in/Portronics-Konnect-POR-1080-Charging-Function/dp/B08CF3B7N1/ref=sr_1_5?qid=1672909124&s=electronics&sr=1-5"
        ]
       ],
       "shape": {
        "columns": 16,
        "rows": 5
       }
      },
      "text/html": [
       "<div>\n",
       "<style scoped>\n",
       "    .dataframe tbody tr th:only-of-type {\n",
       "        vertical-align: middle;\n",
       "    }\n",
       "\n",
       "    .dataframe tbody tr th {\n",
       "        vertical-align: top;\n",
       "    }\n",
       "\n",
       "    .dataframe thead th {\n",
       "        text-align: right;\n",
       "    }\n",
       "</style>\n",
       "<table border=\"1\" class=\"dataframe\">\n",
       "  <thead>\n",
       "    <tr style=\"text-align: right;\">\n",
       "      <th></th>\n",
       "      <th>product_id</th>\n",
       "      <th>product_name</th>\n",
       "      <th>category</th>\n",
       "      <th>discounted_price</th>\n",
       "      <th>actual_price</th>\n",
       "      <th>discount_percentage</th>\n",
       "      <th>rating</th>\n",
       "      <th>rating_count</th>\n",
       "      <th>about_product</th>\n",
       "      <th>user_id</th>\n",
       "      <th>user_name</th>\n",
       "      <th>review_id</th>\n",
       "      <th>review_title</th>\n",
       "      <th>review_content</th>\n",
       "      <th>img_link</th>\n",
       "      <th>product_link</th>\n",
       "    </tr>\n",
       "  </thead>\n",
       "  <tbody>\n",
       "    <tr>\n",
       "      <th>0</th>\n",
       "      <td>B07JW9H4J1</td>\n",
       "      <td>Wayona Nylon Braided USB to Lightning Fast Cha...</td>\n",
       "      <td>Computers&amp;Accessories|Accessories&amp;Peripherals|...</td>\n",
       "      <td>₹399</td>\n",
       "      <td>₹1,099</td>\n",
       "      <td>64%</td>\n",
       "      <td>4.2</td>\n",
       "      <td>24,269</td>\n",
       "      <td>High Compatibility : Compatible With iPhone 12...</td>\n",
       "      <td>AG3D6O4STAQKAY2UVGEUV46KN35Q,AHMY5CWJMMK5BJRBB...</td>\n",
       "      <td>Manav,Adarsh gupta,Sundeep,S.Sayeed Ahmed,jasp...</td>\n",
       "      <td>R3HXWT0LRP0NMF,R2AJM3LFTLZHFO,R6AQJGUP6P86,R1K...</td>\n",
       "      <td>Satisfied,Charging is really fast,Value for mo...</td>\n",
       "      <td>Looks durable Charging is fine tooNo complains...</td>\n",
       "      <td>https://m.media-amazon.com/images/W/WEBP_40237...</td>\n",
       "      <td>https://www.amazon.in/Wayona-Braided-WN3LG1-Sy...</td>\n",
       "    </tr>\n",
       "    <tr>\n",
       "      <th>1</th>\n",
       "      <td>B098NS6PVG</td>\n",
       "      <td>Ambrane Unbreakable 60W / 3A Fast Charging 1.5...</td>\n",
       "      <td>Computers&amp;Accessories|Accessories&amp;Peripherals|...</td>\n",
       "      <td>₹199</td>\n",
       "      <td>₹349</td>\n",
       "      <td>43%</td>\n",
       "      <td>4.0</td>\n",
       "      <td>43,994</td>\n",
       "      <td>Compatible with all Type C enabled devices, be...</td>\n",
       "      <td>AECPFYFQVRUWC3KGNLJIOREFP5LQ,AGYYVPDD7YG7FYNBX...</td>\n",
       "      <td>ArdKn,Nirbhay kumar,Sagar Viswanathan,Asp,Plac...</td>\n",
       "      <td>RGIQEG07R9HS2,R1SMWZQ86XIN8U,R2J3Y1WL29GWDE,RY...</td>\n",
       "      <td>A Good Braided Cable for Your Type C Device,Go...</td>\n",
       "      <td>I ordered this cable to connect my phone to An...</td>\n",
       "      <td>https://m.media-amazon.com/images/W/WEBP_40237...</td>\n",
       "      <td>https://www.amazon.in/Ambrane-Unbreakable-Char...</td>\n",
       "    </tr>\n",
       "    <tr>\n",
       "      <th>2</th>\n",
       "      <td>B096MSW6CT</td>\n",
       "      <td>Sounce Fast Phone Charging Cable &amp; Data Sync U...</td>\n",
       "      <td>Computers&amp;Accessories|Accessories&amp;Peripherals|...</td>\n",
       "      <td>₹199</td>\n",
       "      <td>₹1,899</td>\n",
       "      <td>90%</td>\n",
       "      <td>3.9</td>\n",
       "      <td>7,928</td>\n",
       "      <td>【 Fast Charger&amp; Data Sync】-With built-in safet...</td>\n",
       "      <td>AGU3BBQ2V2DDAMOAKGFAWDDQ6QHA,AESFLDV2PT363T2AQ...</td>\n",
       "      <td>Kunal,Himanshu,viswanath,sai niharka,saqib mal...</td>\n",
       "      <td>R3J3EQQ9TZI5ZJ,R3E7WBGK7ID0KV,RWU79XKQ6I1QF,R2...</td>\n",
       "      <td>Good speed for earlier versions,Good Product,W...</td>\n",
       "      <td>Not quite durable and sturdy,https://m.media-a...</td>\n",
       "      <td>https://m.media-amazon.com/images/W/WEBP_40237...</td>\n",
       "      <td>https://www.amazon.in/Sounce-iPhone-Charging-C...</td>\n",
       "    </tr>\n",
       "    <tr>\n",
       "      <th>3</th>\n",
       "      <td>B08HDJ86NZ</td>\n",
       "      <td>boAt Deuce USB 300 2 in 1 Type-C &amp; Micro USB S...</td>\n",
       "      <td>Computers&amp;Accessories|Accessories&amp;Peripherals|...</td>\n",
       "      <td>₹329</td>\n",
       "      <td>₹699</td>\n",
       "      <td>53%</td>\n",
       "      <td>4.2</td>\n",
       "      <td>94,363</td>\n",
       "      <td>The boAt Deuce USB 300 2 in 1 cable is compati...</td>\n",
       "      <td>AEWAZDZZJLQUYVOVGBEUKSLXHQ5A,AG5HTSFRRE6NL3M5S...</td>\n",
       "      <td>Omkar dhale,JD,HEMALATHA,Ajwadh a.,amar singh ...</td>\n",
       "      <td>R3EEUZKKK9J36I,R3HJVYCLYOY554,REDECAZ7AMPQC,R1...</td>\n",
       "      <td>Good product,Good one,Nice,Really nice product...</td>\n",
       "      <td>Good product,long wire,Charges good,Nice,I bou...</td>\n",
       "      <td>https://m.media-amazon.com/images/I/41V5FtEWPk...</td>\n",
       "      <td>https://www.amazon.in/Deuce-300-Resistant-Tang...</td>\n",
       "    </tr>\n",
       "    <tr>\n",
       "      <th>4</th>\n",
       "      <td>B08CF3B7N1</td>\n",
       "      <td>Portronics Konnect L 1.2M Fast Charging 3A 8 P...</td>\n",
       "      <td>Computers&amp;Accessories|Accessories&amp;Peripherals|...</td>\n",
       "      <td>₹154</td>\n",
       "      <td>₹399</td>\n",
       "      <td>61%</td>\n",
       "      <td>4.2</td>\n",
       "      <td>16,905</td>\n",
       "      <td>[CHARGE &amp; SYNC FUNCTION]- This cable comes wit...</td>\n",
       "      <td>AE3Q6KSUK5P75D5HFYHCRAOLODSA,AFUGIFH5ZAFXRDSZH...</td>\n",
       "      <td>rahuls6099,Swasat Borah,Ajay Wadke,Pranali,RVK...</td>\n",
       "      <td>R1BP4L2HH9TFUP,R16PVJEXKV6QZS,R2UPDB81N66T4P,R...</td>\n",
       "      <td>As good as original,Decent,Good one for second...</td>\n",
       "      <td>Bought this instead of original apple, does th...</td>\n",
       "      <td>https://m.media-amazon.com/images/W/WEBP_40237...</td>\n",
       "      <td>https://www.amazon.in/Portronics-Konnect-POR-1...</td>\n",
       "    </tr>\n",
       "  </tbody>\n",
       "</table>\n",
       "</div>"
      ],
      "text/plain": [
       "   product_id                                       product_name  \\\n",
       "0  B07JW9H4J1  Wayona Nylon Braided USB to Lightning Fast Cha...   \n",
       "1  B098NS6PVG  Ambrane Unbreakable 60W / 3A Fast Charging 1.5...   \n",
       "2  B096MSW6CT  Sounce Fast Phone Charging Cable & Data Sync U...   \n",
       "3  B08HDJ86NZ  boAt Deuce USB 300 2 in 1 Type-C & Micro USB S...   \n",
       "4  B08CF3B7N1  Portronics Konnect L 1.2M Fast Charging 3A 8 P...   \n",
       "\n",
       "                                            category discounted_price  \\\n",
       "0  Computers&Accessories|Accessories&Peripherals|...             ₹399   \n",
       "1  Computers&Accessories|Accessories&Peripherals|...             ₹199   \n",
       "2  Computers&Accessories|Accessories&Peripherals|...             ₹199   \n",
       "3  Computers&Accessories|Accessories&Peripherals|...             ₹329   \n",
       "4  Computers&Accessories|Accessories&Peripherals|...             ₹154   \n",
       "\n",
       "  actual_price discount_percentage rating rating_count  \\\n",
       "0       ₹1,099                 64%    4.2       24,269   \n",
       "1         ₹349                 43%    4.0       43,994   \n",
       "2       ₹1,899                 90%    3.9        7,928   \n",
       "3         ₹699                 53%    4.2       94,363   \n",
       "4         ₹399                 61%    4.2       16,905   \n",
       "\n",
       "                                       about_product  \\\n",
       "0  High Compatibility : Compatible With iPhone 12...   \n",
       "1  Compatible with all Type C enabled devices, be...   \n",
       "2  【 Fast Charger& Data Sync】-With built-in safet...   \n",
       "3  The boAt Deuce USB 300 2 in 1 cable is compati...   \n",
       "4  [CHARGE & SYNC FUNCTION]- This cable comes wit...   \n",
       "\n",
       "                                             user_id  \\\n",
       "0  AG3D6O4STAQKAY2UVGEUV46KN35Q,AHMY5CWJMMK5BJRBB...   \n",
       "1  AECPFYFQVRUWC3KGNLJIOREFP5LQ,AGYYVPDD7YG7FYNBX...   \n",
       "2  AGU3BBQ2V2DDAMOAKGFAWDDQ6QHA,AESFLDV2PT363T2AQ...   \n",
       "3  AEWAZDZZJLQUYVOVGBEUKSLXHQ5A,AG5HTSFRRE6NL3M5S...   \n",
       "4  AE3Q6KSUK5P75D5HFYHCRAOLODSA,AFUGIFH5ZAFXRDSZH...   \n",
       "\n",
       "                                           user_name  \\\n",
       "0  Manav,Adarsh gupta,Sundeep,S.Sayeed Ahmed,jasp...   \n",
       "1  ArdKn,Nirbhay kumar,Sagar Viswanathan,Asp,Plac...   \n",
       "2  Kunal,Himanshu,viswanath,sai niharka,saqib mal...   \n",
       "3  Omkar dhale,JD,HEMALATHA,Ajwadh a.,amar singh ...   \n",
       "4  rahuls6099,Swasat Borah,Ajay Wadke,Pranali,RVK...   \n",
       "\n",
       "                                           review_id  \\\n",
       "0  R3HXWT0LRP0NMF,R2AJM3LFTLZHFO,R6AQJGUP6P86,R1K...   \n",
       "1  RGIQEG07R9HS2,R1SMWZQ86XIN8U,R2J3Y1WL29GWDE,RY...   \n",
       "2  R3J3EQQ9TZI5ZJ,R3E7WBGK7ID0KV,RWU79XKQ6I1QF,R2...   \n",
       "3  R3EEUZKKK9J36I,R3HJVYCLYOY554,REDECAZ7AMPQC,R1...   \n",
       "4  R1BP4L2HH9TFUP,R16PVJEXKV6QZS,R2UPDB81N66T4P,R...   \n",
       "\n",
       "                                        review_title  \\\n",
       "0  Satisfied,Charging is really fast,Value for mo...   \n",
       "1  A Good Braided Cable for Your Type C Device,Go...   \n",
       "2  Good speed for earlier versions,Good Product,W...   \n",
       "3  Good product,Good one,Nice,Really nice product...   \n",
       "4  As good as original,Decent,Good one for second...   \n",
       "\n",
       "                                      review_content  \\\n",
       "0  Looks durable Charging is fine tooNo complains...   \n",
       "1  I ordered this cable to connect my phone to An...   \n",
       "2  Not quite durable and sturdy,https://m.media-a...   \n",
       "3  Good product,long wire,Charges good,Nice,I bou...   \n",
       "4  Bought this instead of original apple, does th...   \n",
       "\n",
       "                                            img_link  \\\n",
       "0  https://m.media-amazon.com/images/W/WEBP_40237...   \n",
       "1  https://m.media-amazon.com/images/W/WEBP_40237...   \n",
       "2  https://m.media-amazon.com/images/W/WEBP_40237...   \n",
       "3  https://m.media-amazon.com/images/I/41V5FtEWPk...   \n",
       "4  https://m.media-amazon.com/images/W/WEBP_40237...   \n",
       "\n",
       "                                        product_link  \n",
       "0  https://www.amazon.in/Wayona-Braided-WN3LG1-Sy...  \n",
       "1  https://www.amazon.in/Ambrane-Unbreakable-Char...  \n",
       "2  https://www.amazon.in/Sounce-iPhone-Charging-C...  \n",
       "3  https://www.amazon.in/Deuce-300-Resistant-Tang...  \n",
       "4  https://www.amazon.in/Portronics-Konnect-POR-1...  "
      ]
     },
     "metadata": {},
     "output_type": "display_data"
    }
   ],
   "source": [
    "#Importing the dataset\n",
    "path = 'amazon.csv'\n",
    "df_amazon = pd.read_csv(path)\n",
    "\n",
    "display(df_amazon.head())"
   ]
  },
  {
   "cell_type": "code",
   "execution_count": 3,
   "metadata": {},
   "outputs": [
    {
     "name": "stdout",
     "output_type": "stream",
     "text": [
      "\n",
      "The Datset consists of 16 features & 1465 samples.\n"
     ]
    }
   ],
   "source": [
    "# Calculate the number of columns (features) and rows (samples)\n",
    "ncolumns = df_amazon.shape[1]\n",
    "nrows = df_amazon.shape[0]\n",
    "\n",
    "print(f\"\\nThe Datset consists of {ncolumns} features & {nrows} samples.\")"
   ]
  },
  {
   "cell_type": "code",
   "execution_count": 4,
   "metadata": {},
   "outputs": [
    {
     "name": "stdout",
     "output_type": "stream",
     "text": [
      "Column names:\n",
      "['product_id', 'product_name', 'category', 'discounted_price', 'actual_price', 'discount_percentage', 'rating', 'rating_count', 'about_product', 'user_id', 'user_name', 'review_id', 'review_title', 'review_content', 'img_link', 'product_link']\n"
     ]
    }
   ],
   "source": [
    "# Display the column names\n",
    "print(\"\\\n",
    "Column names:\")\n",
    "print(df_amazon.columns.tolist())"
   ]
  },
  {
   "cell_type": "code",
   "execution_count": 5,
   "metadata": {},
   "outputs": [
    {
     "name": "stdout",
     "output_type": "stream",
     "text": [
      "Index([], dtype='object')\n"
     ]
    }
   ],
   "source": [
    "# Get the numeric columns\n",
    "numeric_columns = df_amazon.select_dtypes(include=['int64', 'float64']).columns\n",
    "\n",
    "print(numeric_columns)"
   ]
  },
  {
   "cell_type": "markdown",
   "metadata": {},
   "source": [
    "***This indicates that there are no numerical columns in the DataFrame, which is illogical because we actually have columns that should be numerical, such as actual_price, discounted_price, discount_percentage, rating, and rating_count***"
   ]
  },
  {
   "cell_type": "code",
   "execution_count": 6,
   "metadata": {},
   "outputs": [
    {
     "name": "stdout",
     "output_type": "stream",
     "text": [
      "<class 'pandas.core.frame.DataFrame'>\n",
      "RangeIndex: 1465 entries, 0 to 1464\n",
      "Data columns (total 16 columns):\n",
      " #   Column               Non-Null Count  Dtype \n",
      "---  ------               --------------  ----- \n",
      " 0   product_id           1465 non-null   object\n",
      " 1   product_name         1465 non-null   object\n",
      " 2   category             1465 non-null   object\n",
      " 3   discounted_price     1465 non-null   object\n",
      " 4   actual_price         1465 non-null   object\n",
      " 5   discount_percentage  1465 non-null   object\n",
      " 6   rating               1465 non-null   object\n",
      " 7   rating_count         1463 non-null   object\n",
      " 8   about_product        1465 non-null   object\n",
      " 9   user_id              1465 non-null   object\n",
      " 10  user_name            1465 non-null   object\n",
      " 11  review_id            1465 non-null   object\n",
      " 12  review_title         1465 non-null   object\n",
      " 13  review_content       1465 non-null   object\n",
      " 14  img_link             1465 non-null   object\n",
      " 15  product_link         1465 non-null   object\n",
      "dtypes: object(16)\n",
      "memory usage: 183.3+ KB\n"
     ]
    }
   ],
   "source": [
    "# Checking the dtypes of all the columns\n",
    "df_amazon.info()"
   ]
  },
  {
   "cell_type": "code",
   "execution_count": 7,
   "metadata": {},
   "outputs": [
    {
     "data": {
      "text/plain": [
       "product_link           1465\n",
       "img_link               1412\n",
       "product_id             1351\n",
       "product_name           1337\n",
       "about_product          1293\n",
       "review_content         1212\n",
       "user_name              1194\n",
       "review_id              1194\n",
       "user_id                1194\n",
       "review_title           1194\n",
       "rating_count           1143\n",
       "discounted_price        550\n",
       "actual_price            449\n",
       "category                211\n",
       "discount_percentage      92\n",
       "rating                   28\n",
       "dtype: int64"
      ]
     },
     "execution_count": 7,
     "metadata": {},
     "output_type": "execute_result"
    }
   ],
   "source": [
    "# Checking number of unique rows in each feature\n",
    "df_amazon.nunique().sort_values(ascending = False)"
   ]
  },
  {
   "cell_type": "markdown",
   "metadata": {},
   "source": [
    "***The output shows a lot of variety in the df_amazon dataset, with 1,465 unique product links and 1,412 unique images, indicating a wide range of available products. It also highlights that there are 1,212 unique reviews, reflecting significant user engagement with these products , Wow!***"
   ]
  },
  {
   "cell_type": "code",
   "execution_count": 8,
   "metadata": {},
   "outputs": [
    {
     "name": "stdout",
     "output_type": "stream",
     "text": [
      "\n",
      "There are 0 duplicated rows in the dataset\n"
     ]
    }
   ],
   "source": [
    "# Count the number of duplicated rows \n",
    "num_duplicates = df_amazon.duplicated().sum()\n",
    "\n",
    "print(f\"\\nThere are {num_duplicates} duplicated rows in the dataset\")"
   ]
  },
  {
   "cell_type": "code",
   "execution_count": 9,
   "metadata": {},
   "outputs": [
    {
     "name": "stdout",
     "output_type": "stream",
     "text": [
      "Number of missing values : \n",
      "\n",
      "rating_count           2\n",
      "product_id             0\n",
      "category               0\n",
      "product_name           0\n",
      "discounted_price       0\n",
      "actual_price           0\n",
      "discount_percentage    0\n",
      "rating                 0\n",
      "about_product          0\n",
      "user_id                0\n",
      "user_name              0\n",
      "review_id              0\n",
      "review_title           0\n",
      "review_content         0\n",
      "img_link               0\n",
      "product_link           0\n",
      "dtype: int64 \n"
     ]
    }
   ],
   "source": [
    "# Count the number of missing values for each column\n",
    "num_missing_value = df_amazon.isna().sum()\n",
    "\n",
    "print(f'Number of missing values : \\n\\n{num_missing_value.sort_values(ascending = False)} ')"
   ]
  },
  {
   "cell_type": "markdown",
   "metadata": {},
   "source": [
    "***The output reveals 2 missing values in the rating_count column, while all other columns are complete, making our analysis easier***"
   ]
  },
  {
   "cell_type": "markdown",
   "metadata": {},
   "source": [
    "# ***DATA TRANSFORMATION***"
   ]
  },
  {
   "cell_type": "code",
   "execution_count": 10,
   "metadata": {},
   "outputs": [
    {
     "data": {
      "application/vnd.microsoft.datawrangler.viewer.v0+json": {
       "columns": [
        {
         "name": "index",
         "rawType": "int64",
         "type": "integer"
        },
        {
         "name": "discounted_price",
         "rawType": "bool",
         "type": "boolean"
        },
        {
         "name": "actual_price",
         "rawType": "bool",
         "type": "boolean"
        },
        {
         "name": "discount_percentage",
         "rawType": "bool",
         "type": "boolean"
        }
       ],
       "conversionMethod": "pd.DataFrame",
       "ref": "90865a23-6a74-4369-bddb-0cf0bbd62515",
       "rows": [
        [
         "0",
         "False",
         "False",
         "False"
        ],
        [
         "1",
         "False",
         "False",
         "False"
        ],
        [
         "2",
         "False",
         "False",
         "False"
        ],
        [
         "3",
         "False",
         "False",
         "False"
        ],
        [
         "4",
         "False",
         "False",
         "False"
        ],
        [
         "5",
         "False",
         "False",
         "False"
        ],
        [
         "6",
         "False",
         "False",
         "False"
        ],
        [
         "7",
         "False",
         "False",
         "False"
        ],
        [
         "8",
         "False",
         "False",
         "False"
        ],
        [
         "9",
         "False",
         "False",
         "False"
        ],
        [
         "10",
         "False",
         "False",
         "False"
        ],
        [
         "11",
         "False",
         "False",
         "False"
        ],
        [
         "12",
         "False",
         "False",
         "False"
        ],
        [
         "13",
         "False",
         "False",
         "False"
        ],
        [
         "14",
         "False",
         "False",
         "False"
        ],
        [
         "15",
         "False",
         "False",
         "False"
        ],
        [
         "16",
         "False",
         "False",
         "False"
        ],
        [
         "17",
         "False",
         "False",
         "False"
        ],
        [
         "18",
         "False",
         "False",
         "False"
        ],
        [
         "19",
         "False",
         "False",
         "False"
        ],
        [
         "20",
         "False",
         "False",
         "False"
        ],
        [
         "21",
         "False",
         "False",
         "False"
        ],
        [
         "22",
         "False",
         "False",
         "False"
        ],
        [
         "23",
         "False",
         "False",
         "False"
        ],
        [
         "24",
         "False",
         "False",
         "False"
        ],
        [
         "25",
         "False",
         "False",
         "False"
        ],
        [
         "26",
         "False",
         "False",
         "False"
        ],
        [
         "27",
         "False",
         "False",
         "False"
        ],
        [
         "28",
         "False",
         "False",
         "False"
        ],
        [
         "29",
         "False",
         "False",
         "False"
        ],
        [
         "30",
         "False",
         "False",
         "False"
        ],
        [
         "31",
         "False",
         "False",
         "False"
        ],
        [
         "32",
         "False",
         "False",
         "False"
        ],
        [
         "33",
         "False",
         "False",
         "False"
        ],
        [
         "34",
         "False",
         "False",
         "False"
        ],
        [
         "35",
         "False",
         "False",
         "False"
        ],
        [
         "36",
         "False",
         "False",
         "False"
        ],
        [
         "37",
         "False",
         "False",
         "False"
        ],
        [
         "38",
         "False",
         "False",
         "False"
        ],
        [
         "39",
         "False",
         "False",
         "False"
        ],
        [
         "40",
         "False",
         "False",
         "False"
        ],
        [
         "41",
         "False",
         "False",
         "False"
        ],
        [
         "42",
         "False",
         "False",
         "False"
        ],
        [
         "43",
         "False",
         "False",
         "False"
        ],
        [
         "44",
         "False",
         "False",
         "False"
        ],
        [
         "45",
         "False",
         "False",
         "False"
        ],
        [
         "46",
         "False",
         "False",
         "False"
        ],
        [
         "47",
         "False",
         "False",
         "False"
        ],
        [
         "48",
         "False",
         "False",
         "False"
        ],
        [
         "49",
         "False",
         "False",
         "False"
        ]
       ],
       "shape": {
        "columns": 3,
        "rows": 1465
       }
      },
      "text/html": [
       "<div>\n",
       "<style scoped>\n",
       "    .dataframe tbody tr th:only-of-type {\n",
       "        vertical-align: middle;\n",
       "    }\n",
       "\n",
       "    .dataframe tbody tr th {\n",
       "        vertical-align: top;\n",
       "    }\n",
       "\n",
       "    .dataframe thead th {\n",
       "        text-align: right;\n",
       "    }\n",
       "</style>\n",
       "<table border=\"1\" class=\"dataframe\">\n",
       "  <thead>\n",
       "    <tr style=\"text-align: right;\">\n",
       "      <th></th>\n",
       "      <th>discounted_price</th>\n",
       "      <th>actual_price</th>\n",
       "      <th>discount_percentage</th>\n",
       "    </tr>\n",
       "  </thead>\n",
       "  <tbody>\n",
       "    <tr>\n",
       "      <th>0</th>\n",
       "      <td>False</td>\n",
       "      <td>False</td>\n",
       "      <td>False</td>\n",
       "    </tr>\n",
       "    <tr>\n",
       "      <th>1</th>\n",
       "      <td>False</td>\n",
       "      <td>False</td>\n",
       "      <td>False</td>\n",
       "    </tr>\n",
       "    <tr>\n",
       "      <th>2</th>\n",
       "      <td>False</td>\n",
       "      <td>False</td>\n",
       "      <td>False</td>\n",
       "    </tr>\n",
       "    <tr>\n",
       "      <th>3</th>\n",
       "      <td>False</td>\n",
       "      <td>False</td>\n",
       "      <td>False</td>\n",
       "    </tr>\n",
       "    <tr>\n",
       "      <th>4</th>\n",
       "      <td>False</td>\n",
       "      <td>False</td>\n",
       "      <td>False</td>\n",
       "    </tr>\n",
       "    <tr>\n",
       "      <th>...</th>\n",
       "      <td>...</td>\n",
       "      <td>...</td>\n",
       "      <td>...</td>\n",
       "    </tr>\n",
       "    <tr>\n",
       "      <th>1460</th>\n",
       "      <td>False</td>\n",
       "      <td>False</td>\n",
       "      <td>False</td>\n",
       "    </tr>\n",
       "    <tr>\n",
       "      <th>1461</th>\n",
       "      <td>False</td>\n",
       "      <td>False</td>\n",
       "      <td>False</td>\n",
       "    </tr>\n",
       "    <tr>\n",
       "      <th>1462</th>\n",
       "      <td>False</td>\n",
       "      <td>False</td>\n",
       "      <td>False</td>\n",
       "    </tr>\n",
       "    <tr>\n",
       "      <th>1463</th>\n",
       "      <td>False</td>\n",
       "      <td>False</td>\n",
       "      <td>False</td>\n",
       "    </tr>\n",
       "    <tr>\n",
       "      <th>1464</th>\n",
       "      <td>False</td>\n",
       "      <td>False</td>\n",
       "      <td>False</td>\n",
       "    </tr>\n",
       "  </tbody>\n",
       "</table>\n",
       "<p>1465 rows × 3 columns</p>\n",
       "</div>"
      ],
      "text/plain": [
       "      discounted_price  actual_price  discount_percentage\n",
       "0                False         False                False\n",
       "1                False         False                False\n",
       "2                False         False                False\n",
       "3                False         False                False\n",
       "4                False         False                False\n",
       "...                ...           ...                  ...\n",
       "1460             False         False                False\n",
       "1461             False         False                False\n",
       "1462             False         False                False\n",
       "1463             False         False                False\n",
       "1464             False         False                False\n",
       "\n",
       "[1465 rows x 3 columns]"
      ]
     },
     "execution_count": 10,
     "metadata": {},
     "output_type": "execute_result"
    }
   ],
   "source": [
    "df_amazon[['discounted_price','actual_price','discount_percentage']].apply(lambda col : col.str.isdigit())"
   ]
  },
  {
   "cell_type": "markdown",
   "metadata": {},
   "source": [
    "***Fine, let's convert them into numerical columns***"
   ]
  },
  {
   "cell_type": "code",
   "execution_count": 11,
   "metadata": {},
   "outputs": [],
   "source": [
    "def clean_price (value) :\n",
    "    value = value.replace('₹','')\n",
    "    value = value.replace(',','')\n",
    "    return float(value)\n",
    "\n",
    "\n",
    "df_amazon['discounted_price'] = df_amazon['discounted_price'].apply(clean_price)\n",
    "df_amazon['actual_price'] = df_amazon['actual_price'].apply(clean_price)"
   ]
  },
  {
   "cell_type": "code",
   "execution_count": 12,
   "metadata": {},
   "outputs": [],
   "source": [
    "df_amazon['discount_percentage'] = df_amazon['discount_percentage'].str.replace('%', '').astype('float64')\n",
    "\n",
    "\n",
    "df_amazon['discount_percentage'] = df_amazon['discount_percentage'] / 100"
   ]
  },
  {
   "cell_type": "code",
   "execution_count": 13,
   "metadata": {},
   "outputs": [
    {
     "data": {
      "text/plain": [
       "rating                 1\n",
       "product_id             0\n",
       "category               0\n",
       "product_name           0\n",
       "discounted_price       0\n",
       "actual_price           0\n",
       "discount_percentage    0\n",
       "rating_count           0\n",
       "about_product          0\n",
       "user_id                0\n",
       "user_name              0\n",
       "review_id              0\n",
       "review_title           0\n",
       "review_content         0\n",
       "img_link               0\n",
       "product_link           0\n",
       "dtype: int64"
      ]
     },
     "execution_count": 13,
     "metadata": {},
     "output_type": "execute_result"
    }
   ],
   "source": [
    "df_amazon[df_amazon == '|'].count().sort_values(ascending=False)"
   ]
  },
  {
   "cell_type": "code",
   "execution_count": 14,
   "metadata": {},
   "outputs": [],
   "source": [
    "df_amazon['rating'] = df_amazon['rating'].replace('|','3.9').astype('float64')"
   ]
  },
  {
   "cell_type": "code",
   "execution_count": 15,
   "metadata": {},
   "outputs": [
    {
     "data": {
      "text/plain": [
       "dtype('O')"
      ]
     },
     "execution_count": 15,
     "metadata": {},
     "output_type": "execute_result"
    }
   ],
   "source": [
    "df_amazon['rating_count'].dtype"
   ]
  },
  {
   "cell_type": "code",
   "execution_count": 16,
   "metadata": {},
   "outputs": [],
   "source": [
    "df_amazon['rating_count'] = df_amazon['rating_count'].replace(',','',regex=True).astype('float64')"
   ]
  },
  {
   "cell_type": "markdown",
   "metadata": {},
   "source": [
    "***Now they have become numerical columns***"
   ]
  },
  {
   "cell_type": "code",
   "execution_count": 17,
   "metadata": {},
   "outputs": [],
   "source": [
    "def clean_text(text):\n",
    "    text = re.sub(r'[^\\w\\s]', '', text)\n",
    "    text = re.sub(r'\\s+', ' ', text).strip()\n",
    "    return text\n",
    "\n",
    "\n",
    "text_columns = ['product_name', 'about_product', 'review_title', 'review_content','category']\n",
    "for col in text_columns:\n",
    "    df_amazon[col] = df_amazon[col].apply(clean_text)"
   ]
  },
  {
   "cell_type": "code",
   "execution_count": 18,
   "metadata": {},
   "outputs": [
    {
     "data": {
      "application/vnd.microsoft.datawrangler.viewer.v0+json": {
       "columns": [
        {
         "name": "index",
         "rawType": "int64",
         "type": "integer"
        },
        {
         "name": "product_name",
         "rawType": "object",
         "type": "string"
        },
        {
         "name": "about_product",
         "rawType": "object",
         "type": "string"
        },
        {
         "name": "review_title",
         "rawType": "object",
         "type": "string"
        },
        {
         "name": "review_content",
         "rawType": "object",
         "type": "string"
        },
        {
         "name": "category",
         "rawType": "object",
         "type": "string"
        }
       ],
       "conversionMethod": "pd.DataFrame",
       "ref": "9c8ce297-c498-4ed5-b565-b5a3c81ce57a",
       "rows": [
        [
         "0",
         "Wayona Nylon Braided USB to Lightning Fast Charging and Data Sync Cable Compatible for iPhone 13 1211 X 8 7 6 5 iPad Air Pro Mini 3 FT Pack of 1 Grey",
         "High Compatibility Compatible With iPhone 12 11 XXsMaxXr iPhone 88 PlusiPhone 77 PlusiPhone 6s6s PlusiPhone 66 PlusiPhone 55s5cseiPad ProiPad Air 12iPad mini 123iPod nano7iPod touch and more apple devicesFast ChargeData Sync It can charge and sync simultaneously at a rapid speed Compatible with any charging adaptor multiport charging station or power bankDurability Durable nylon braided design with premium aluminum housing and toughened nylon fiber wound tightly around the cord lending it superior durability and adding a bit to its flexibilityHigh Security Level It is designed to fully protect your device from damaging excessive currentCopper core thickMultilayer shielding Antiinterference Protective circuit equipmentWARRANTY 12 months warranty and friendly customer services ensures the longtime enjoyment of your purchase If you meet any question or problem please dont hesitate to contact us",
         "SatisfiedCharging is really fastValue for moneyProduct reviewGood qualityGood productGood ProductAs of now seems good",
         "Looks durable Charging is fine tooNo complainsCharging is really fast good productTill now satisfied with the qualityThis is a good product The charging speed is slower than the original iPhone cableGood quality would recommendhttpsmmediaamazoncomimagesWWEBP_402378T1imagesI81F1ZgHL_SY88jpgProduct had worked well till date and was having no issueCable is also sturdy enoughHave asked for replacement and company is doing the sameValue for money",
         "ComputersAccessoriesAccessoriesPeripheralsCablesAccessoriesCablesUSBCables"
        ],
        [
         "1",
         "Ambrane Unbreakable 60W 3A Fast Charging 15m Braided Type C Cable for Smartphones Tablets Laptops other Type C devices PD Technology 480Mbps Data Sync Quick Charge 30 RCT15A Black",
         "Compatible with all Type C enabled devices be it an android smartphone Mi Samsung Oppo Vivo Realme OnePlus etc tablet laptop Macbook Chromebook etcSupports Quick Charging 2030Unbreakable Made of special braided outer with rugged interior bindings it is ultradurable cable that wont be affected by daily rough usageIdeal Length It has ideal length of 15 meters which is neither too short like your typical 1meter cable or too long like a 2meters cableSupports maximum 3A fast charging and 480 Mbps data transfer speed6 months manufacturer warranty from the date of purchase",
         "A Good Braided Cable for Your Type C DeviceGood quality product from ambraneSuper cableAsGood qualityGood productits goodGood quality for the price but one issue with my unit",
         "I ordered this cable to connect my phone to Android Auto of car The cable is really strong and the connection ports are really well made I already has a Micro USB cable from Ambrane and its still in good shape I connected my phone to the car using the cable and it got connected well and no issues I also connected it to the charging port and yes it has Fast Charging supportIt quality is good at this price and the main thing is that i didnt ever thought that this cable will be so long its good one and charging power is too good and also supports fast chargingValue for money with extra lengthGood working fineProduct quality is goodGoodvery goodBought for my daughters old phoneBrand new cable it was not charging I already repacked and requested for replacementI checked again and there was some green colour pastefungus inside the micro USB connector I cleaned with an alcoholic and starts working againChecked the ampere of charging speed got around 1400ma1500ma not bad came with braided 15m long cable pretty impressive for the priceCant blame the manufacturerBut quality issues by the distributor they might have stored in very humid place",
         "ComputersAccessoriesAccessoriesPeripheralsCablesAccessoriesCablesUSBCables"
        ],
        [
         "2",
         "Sounce Fast Phone Charging Cable Data Sync USB Cable Compatible for iPhone 13 1211 X 8 7 6 5 iPad Air Pro Mini iOS Devices",
         "Fast Charger Data SyncWith builtin safety proctections and fourcore copper wires promote maximum signal quality and strength and enhance charging data transfer speed with up to 480 mbs transferring speed CompatibilityCompatible with iPhone 13 1211 X 8 7 6 5 iPad Air Pro Mini iOS devices Sturdy DurableThe jacket and enforced connector made of TPE and premium copper are resistant to repeatedly bending and coiling Ultra High Quality According to the experimental results the fishbone design can accept at least 20000 bending and insertion tests for extra protection and durability Upgraded 3D aluminum connector and exclusive laser welding technology which to ensure the metal part wont break and also have a tighter connection which fits well even with a protective case on and will never loose connection Good After Sales ServiceOur friendly and reliable customer service will respond to you within 24 hours you can purchase with confidenceand every sale includes a 365day worryfree Service to prove the importance we set on quality",
         "Good speed for earlier versionsGood ProductWorking goodGood for the priceGoodWorth for moneyWorking niceits a really nice product",
         "Not quite durable and sturdyhttpsmmediaamazoncomimagesWWEBP_402378T1imagesI71rIggrbUCL_SY88jpgWorking goodhttpsmmediaamazoncomimagesWWEBP_402378T1imagesI61bKp9YO6wL_SY88jpgProductVery nice productWorking wellIts a really nice product",
         "ComputersAccessoriesAccessoriesPeripheralsCablesAccessoriesCablesUSBCables"
        ],
        [
         "3",
         "boAt Deuce USB 300 2 in 1 TypeC Micro USB Stress Resistant TangleFree Sturdy Cable with 3A Fast Charging 480mbps Data Transmission 10000 Bends Lifespan and Extended 15m LengthMartian Red",
         "The boAt Deuce USB 300 2 in 1 cable is compatible with smartphones tablets PC peripherals Bluetooth speakers power banks and all other devices with TypeC as well as Micro USB portIt ensures 3A fast charging and data transmissions with rapid sync at 480 mbpsThe premium Nylon braided skin makes it sturdy and invincible against external damageIts Aluminium alloy shell housing makes it last longer with 10000 Bends Lifespan with extended frame protection for strain reliefThe resilient and flexible design offers a tangle free experience seamlesslyDeuce USB 300 cable offers a perfect 15 meters in length for smooth hasslefree user experience2 years warranty from the date of purchase",
         "Good productGood oneNiceReally nice productVery first time changeGoodFine product but could be betterVery nice its charging like jet",
         "Good productlong wireCharges goodNiceI bought this cable for Rs339 worthy product for this price i tested it in various charger adapters 33w and 18w it supports fast charging as wellGoodOkI had got this at good price on sale on Amazon and product is useful with warranty but for warranty you need to go very far not practical for such a cost and mine micro to type c connector stopped working after few days onlyI like this product",
         "ComputersAccessoriesAccessoriesPeripheralsCablesAccessoriesCablesUSBCables"
        ],
        [
         "4",
         "Portronics Konnect L 12M Fast Charging 3A 8 Pin USB Cable with Charge Sync Function for iPhone iPad Grey",
         "CHARGE SYNC FUNCTION This cable comes with charging Data sync functionHIGH QUALITY MATERIAL TPE Nylon Material to make sure that the life of the cable is enhanced significantlyLONG CORD The Cable is extra thick 12 meter long optimized for an easy use for your comfort at home or officeMORE DURABLEThis cable is unique interms of design and multiuse and is positioned to provide the best comfort and performance while usingUNIVERSAL COMPATIBILITY Compatible with all devices like iPhone XS X XR 8 7 6S 6 5S iPad Pro iPad mini and iPad Air",
         "As good as originalDecentGood one for secondary useBest qualityGOODAmazing product at a mind blowing priceNice QualityGood product",
         "Bought this instead of original apple does the work for 150rs not as fast as apple charger but its a good option if you want cheap and good product bought it for iPad pro 105 and its working flawlessly build quality is ok its not like i am gonna hang my clothes on it and i want a very strong cable even a braided cable stop working after a year i have used both Anker and Apple store strong braided cable they all stop working after a year so please dont buy high end cables just for that instead choose a this one and even if its stops working withing a year you only loose 150rs compares to 2000rsUPDATEpin has stopped charging from one side now i have to slip the pin to charge from other side but i will update and let know for how long does it workIts good Not sure about durability as the pin area feels a bit fragileDoes not support apple carplaySo was little disappointed about thatOther than that cable is made up of very good qualityBest to buy100 NOT FATHFULWriting this review post 10 months and 3 orders of the same productHonestly Portronics Konnect L lightning cable works like magic with the original Apple charging brickSeeing the price of the cable I initially hesitated buying as it was as low as 99 with the offers and so I wasnt sure if it would work well with my iPhone 12 or whether it would impact my iPhones battery health because all the other lightning cable brands were costing over 350 like Wayona Amazon Basics etcEarlier I was using Wayona Brand lightning cable with eventually frayed and stopped workingCharging SpeedCharges my iPhone fast enough almost similar compared to the original cable level when used with 12W Original Apple power adapterQuality and DurabilityGreat quality braided cable and doesnt tangle easily and can withstand daytoday usageLShaped pinThis is very innovative by Portronics and it makes sure the cable doesnt get damaged even if used while chargingCarPlay and Data SyncWorks smoothly with CarPlay and syncs data effortlesslyPS I have used this cable only with the Original Apple Charging Brick and extremely satisfied with its performanceBetter than I expect the product I like that Quality and I plan to buy same type cable come with usb C to Lighting cable for emergency purpose that much I love this cable Buy for this cable only emergency uses only since Good oneGood product and value for money",
         "ComputersAccessoriesAccessoriesPeripheralsCablesAccessoriesCablesUSBCables"
        ]
       ],
       "shape": {
        "columns": 5,
        "rows": 5
       }
      },
      "text/html": [
       "<div>\n",
       "<style scoped>\n",
       "    .dataframe tbody tr th:only-of-type {\n",
       "        vertical-align: middle;\n",
       "    }\n",
       "\n",
       "    .dataframe tbody tr th {\n",
       "        vertical-align: top;\n",
       "    }\n",
       "\n",
       "    .dataframe thead th {\n",
       "        text-align: right;\n",
       "    }\n",
       "</style>\n",
       "<table border=\"1\" class=\"dataframe\">\n",
       "  <thead>\n",
       "    <tr style=\"text-align: right;\">\n",
       "      <th></th>\n",
       "      <th>product_name</th>\n",
       "      <th>about_product</th>\n",
       "      <th>review_title</th>\n",
       "      <th>review_content</th>\n",
       "      <th>category</th>\n",
       "    </tr>\n",
       "  </thead>\n",
       "  <tbody>\n",
       "    <tr>\n",
       "      <th>0</th>\n",
       "      <td>Wayona Nylon Braided USB to Lightning Fast Cha...</td>\n",
       "      <td>High Compatibility Compatible With iPhone 12 1...</td>\n",
       "      <td>SatisfiedCharging is really fastValue for mone...</td>\n",
       "      <td>Looks durable Charging is fine tooNo complains...</td>\n",
       "      <td>ComputersAccessoriesAccessoriesPeripheralsCabl...</td>\n",
       "    </tr>\n",
       "    <tr>\n",
       "      <th>1</th>\n",
       "      <td>Ambrane Unbreakable 60W 3A Fast Charging 15m B...</td>\n",
       "      <td>Compatible with all Type C enabled devices be ...</td>\n",
       "      <td>A Good Braided Cable for Your Type C DeviceGoo...</td>\n",
       "      <td>I ordered this cable to connect my phone to An...</td>\n",
       "      <td>ComputersAccessoriesAccessoriesPeripheralsCabl...</td>\n",
       "    </tr>\n",
       "    <tr>\n",
       "      <th>2</th>\n",
       "      <td>Sounce Fast Phone Charging Cable Data Sync USB...</td>\n",
       "      <td>Fast Charger Data SyncWith builtin safety proc...</td>\n",
       "      <td>Good speed for earlier versionsGood ProductWor...</td>\n",
       "      <td>Not quite durable and sturdyhttpsmmediaamazonc...</td>\n",
       "      <td>ComputersAccessoriesAccessoriesPeripheralsCabl...</td>\n",
       "    </tr>\n",
       "    <tr>\n",
       "      <th>3</th>\n",
       "      <td>boAt Deuce USB 300 2 in 1 TypeC Micro USB Stre...</td>\n",
       "      <td>The boAt Deuce USB 300 2 in 1 cable is compati...</td>\n",
       "      <td>Good productGood oneNiceReally nice productVer...</td>\n",
       "      <td>Good productlong wireCharges goodNiceI bought ...</td>\n",
       "      <td>ComputersAccessoriesAccessoriesPeripheralsCabl...</td>\n",
       "    </tr>\n",
       "    <tr>\n",
       "      <th>4</th>\n",
       "      <td>Portronics Konnect L 12M Fast Charging 3A 8 Pi...</td>\n",
       "      <td>CHARGE SYNC FUNCTION This cable comes with cha...</td>\n",
       "      <td>As good as originalDecentGood one for secondar...</td>\n",
       "      <td>Bought this instead of original apple does the...</td>\n",
       "      <td>ComputersAccessoriesAccessoriesPeripheralsCabl...</td>\n",
       "    </tr>\n",
       "  </tbody>\n",
       "</table>\n",
       "</div>"
      ],
      "text/plain": [
       "                                        product_name  \\\n",
       "0  Wayona Nylon Braided USB to Lightning Fast Cha...   \n",
       "1  Ambrane Unbreakable 60W 3A Fast Charging 15m B...   \n",
       "2  Sounce Fast Phone Charging Cable Data Sync USB...   \n",
       "3  boAt Deuce USB 300 2 in 1 TypeC Micro USB Stre...   \n",
       "4  Portronics Konnect L 12M Fast Charging 3A 8 Pi...   \n",
       "\n",
       "                                       about_product  \\\n",
       "0  High Compatibility Compatible With iPhone 12 1...   \n",
       "1  Compatible with all Type C enabled devices be ...   \n",
       "2  Fast Charger Data SyncWith builtin safety proc...   \n",
       "3  The boAt Deuce USB 300 2 in 1 cable is compati...   \n",
       "4  CHARGE SYNC FUNCTION This cable comes with cha...   \n",
       "\n",
       "                                        review_title  \\\n",
       "0  SatisfiedCharging is really fastValue for mone...   \n",
       "1  A Good Braided Cable for Your Type C DeviceGoo...   \n",
       "2  Good speed for earlier versionsGood ProductWor...   \n",
       "3  Good productGood oneNiceReally nice productVer...   \n",
       "4  As good as originalDecentGood one for secondar...   \n",
       "\n",
       "                                      review_content  \\\n",
       "0  Looks durable Charging is fine tooNo complains...   \n",
       "1  I ordered this cable to connect my phone to An...   \n",
       "2  Not quite durable and sturdyhttpsmmediaamazonc...   \n",
       "3  Good productlong wireCharges goodNiceI bought ...   \n",
       "4  Bought this instead of original apple does the...   \n",
       "\n",
       "                                            category  \n",
       "0  ComputersAccessoriesAccessoriesPeripheralsCabl...  \n",
       "1  ComputersAccessoriesAccessoriesPeripheralsCabl...  \n",
       "2  ComputersAccessoriesAccessoriesPeripheralsCabl...  \n",
       "3  ComputersAccessoriesAccessoriesPeripheralsCabl...  \n",
       "4  ComputersAccessoriesAccessoriesPeripheralsCabl...  "
      ]
     },
     "execution_count": 18,
     "metadata": {},
     "output_type": "execute_result"
    }
   ],
   "source": [
    "df_amazon[['product_name', 'about_product', 'review_title', 'review_content','category']].head()"
   ]
  },
  {
   "cell_type": "markdown",
   "metadata": {},
   "source": [
    "***get rid of some columns we don’t need***"
   ]
  },
  {
   "cell_type": "code",
   "execution_count": 19,
   "metadata": {},
   "outputs": [],
   "source": [
    "unnessery_column = ['img_link','product_link','review_id'\n",
    "                                    ,'product_id','user_name','user_id']\n",
    "\n",
    "df_amazon = df_amazon.drop(columns=unnessery_column,axis=1)"
   ]
  },
  {
   "cell_type": "code",
   "execution_count": 20,
   "metadata": {},
   "outputs": [
    {
     "data": {
      "application/vnd.microsoft.datawrangler.viewer.v0+json": {
       "columns": [
        {
         "name": "index",
         "rawType": "int64",
         "type": "integer"
        },
        {
         "name": "product_name",
         "rawType": "object",
         "type": "string"
        },
        {
         "name": "category",
         "rawType": "object",
         "type": "string"
        },
        {
         "name": "discounted_price",
         "rawType": "float64",
         "type": "float"
        },
        {
         "name": "actual_price",
         "rawType": "float64",
         "type": "float"
        },
        {
         "name": "discount_percentage",
         "rawType": "float64",
         "type": "float"
        },
        {
         "name": "rating",
         "rawType": "float64",
         "type": "float"
        },
        {
         "name": "rating_count",
         "rawType": "float64",
         "type": "float"
        },
        {
         "name": "about_product",
         "rawType": "object",
         "type": "string"
        },
        {
         "name": "review_title",
         "rawType": "object",
         "type": "string"
        },
        {
         "name": "review_content",
         "rawType": "object",
         "type": "string"
        }
       ],
       "conversionMethod": "pd.DataFrame",
       "ref": "b733217c-cf17-47b2-adf9-e06916ea4d55",
       "rows": [
        [
         "0",
         "Wayona Nylon Braided USB to Lightning Fast Charging and Data Sync Cable Compatible for iPhone 13 1211 X 8 7 6 5 iPad Air Pro Mini 3 FT Pack of 1 Grey",
         "ComputersAccessoriesAccessoriesPeripheralsCablesAccessoriesCablesUSBCables",
         "399.0",
         "1099.0",
         "0.64",
         "4.2",
         "24269.0",
         "High Compatibility Compatible With iPhone 12 11 XXsMaxXr iPhone 88 PlusiPhone 77 PlusiPhone 6s6s PlusiPhone 66 PlusiPhone 55s5cseiPad ProiPad Air 12iPad mini 123iPod nano7iPod touch and more apple devicesFast ChargeData Sync It can charge and sync simultaneously at a rapid speed Compatible with any charging adaptor multiport charging station or power bankDurability Durable nylon braided design with premium aluminum housing and toughened nylon fiber wound tightly around the cord lending it superior durability and adding a bit to its flexibilityHigh Security Level It is designed to fully protect your device from damaging excessive currentCopper core thickMultilayer shielding Antiinterference Protective circuit equipmentWARRANTY 12 months warranty and friendly customer services ensures the longtime enjoyment of your purchase If you meet any question or problem please dont hesitate to contact us",
         "SatisfiedCharging is really fastValue for moneyProduct reviewGood qualityGood productGood ProductAs of now seems good",
         "Looks durable Charging is fine tooNo complainsCharging is really fast good productTill now satisfied with the qualityThis is a good product The charging speed is slower than the original iPhone cableGood quality would recommendhttpsmmediaamazoncomimagesWWEBP_402378T1imagesI81F1ZgHL_SY88jpgProduct had worked well till date and was having no issueCable is also sturdy enoughHave asked for replacement and company is doing the sameValue for money"
        ],
        [
         "1",
         "Ambrane Unbreakable 60W 3A Fast Charging 15m Braided Type C Cable for Smartphones Tablets Laptops other Type C devices PD Technology 480Mbps Data Sync Quick Charge 30 RCT15A Black",
         "ComputersAccessoriesAccessoriesPeripheralsCablesAccessoriesCablesUSBCables",
         "199.0",
         "349.0",
         "0.43",
         "4.0",
         "43994.0",
         "Compatible with all Type C enabled devices be it an android smartphone Mi Samsung Oppo Vivo Realme OnePlus etc tablet laptop Macbook Chromebook etcSupports Quick Charging 2030Unbreakable Made of special braided outer with rugged interior bindings it is ultradurable cable that wont be affected by daily rough usageIdeal Length It has ideal length of 15 meters which is neither too short like your typical 1meter cable or too long like a 2meters cableSupports maximum 3A fast charging and 480 Mbps data transfer speed6 months manufacturer warranty from the date of purchase",
         "A Good Braided Cable for Your Type C DeviceGood quality product from ambraneSuper cableAsGood qualityGood productits goodGood quality for the price but one issue with my unit",
         "I ordered this cable to connect my phone to Android Auto of car The cable is really strong and the connection ports are really well made I already has a Micro USB cable from Ambrane and its still in good shape I connected my phone to the car using the cable and it got connected well and no issues I also connected it to the charging port and yes it has Fast Charging supportIt quality is good at this price and the main thing is that i didnt ever thought that this cable will be so long its good one and charging power is too good and also supports fast chargingValue for money with extra lengthGood working fineProduct quality is goodGoodvery goodBought for my daughters old phoneBrand new cable it was not charging I already repacked and requested for replacementI checked again and there was some green colour pastefungus inside the micro USB connector I cleaned with an alcoholic and starts working againChecked the ampere of charging speed got around 1400ma1500ma not bad came with braided 15m long cable pretty impressive for the priceCant blame the manufacturerBut quality issues by the distributor they might have stored in very humid place"
        ],
        [
         "2",
         "Sounce Fast Phone Charging Cable Data Sync USB Cable Compatible for iPhone 13 1211 X 8 7 6 5 iPad Air Pro Mini iOS Devices",
         "ComputersAccessoriesAccessoriesPeripheralsCablesAccessoriesCablesUSBCables",
         "199.0",
         "1899.0",
         "0.9",
         "3.9",
         "7928.0",
         "Fast Charger Data SyncWith builtin safety proctections and fourcore copper wires promote maximum signal quality and strength and enhance charging data transfer speed with up to 480 mbs transferring speed CompatibilityCompatible with iPhone 13 1211 X 8 7 6 5 iPad Air Pro Mini iOS devices Sturdy DurableThe jacket and enforced connector made of TPE and premium copper are resistant to repeatedly bending and coiling Ultra High Quality According to the experimental results the fishbone design can accept at least 20000 bending and insertion tests for extra protection and durability Upgraded 3D aluminum connector and exclusive laser welding technology which to ensure the metal part wont break and also have a tighter connection which fits well even with a protective case on and will never loose connection Good After Sales ServiceOur friendly and reliable customer service will respond to you within 24 hours you can purchase with confidenceand every sale includes a 365day worryfree Service to prove the importance we set on quality",
         "Good speed for earlier versionsGood ProductWorking goodGood for the priceGoodWorth for moneyWorking niceits a really nice product",
         "Not quite durable and sturdyhttpsmmediaamazoncomimagesWWEBP_402378T1imagesI71rIggrbUCL_SY88jpgWorking goodhttpsmmediaamazoncomimagesWWEBP_402378T1imagesI61bKp9YO6wL_SY88jpgProductVery nice productWorking wellIts a really nice product"
        ],
        [
         "3",
         "boAt Deuce USB 300 2 in 1 TypeC Micro USB Stress Resistant TangleFree Sturdy Cable with 3A Fast Charging 480mbps Data Transmission 10000 Bends Lifespan and Extended 15m LengthMartian Red",
         "ComputersAccessoriesAccessoriesPeripheralsCablesAccessoriesCablesUSBCables",
         "329.0",
         "699.0",
         "0.53",
         "4.2",
         "94363.0",
         "The boAt Deuce USB 300 2 in 1 cable is compatible with smartphones tablets PC peripherals Bluetooth speakers power banks and all other devices with TypeC as well as Micro USB portIt ensures 3A fast charging and data transmissions with rapid sync at 480 mbpsThe premium Nylon braided skin makes it sturdy and invincible against external damageIts Aluminium alloy shell housing makes it last longer with 10000 Bends Lifespan with extended frame protection for strain reliefThe resilient and flexible design offers a tangle free experience seamlesslyDeuce USB 300 cable offers a perfect 15 meters in length for smooth hasslefree user experience2 years warranty from the date of purchase",
         "Good productGood oneNiceReally nice productVery first time changeGoodFine product but could be betterVery nice its charging like jet",
         "Good productlong wireCharges goodNiceI bought this cable for Rs339 worthy product for this price i tested it in various charger adapters 33w and 18w it supports fast charging as wellGoodOkI had got this at good price on sale on Amazon and product is useful with warranty but for warranty you need to go very far not practical for such a cost and mine micro to type c connector stopped working after few days onlyI like this product"
        ],
        [
         "4",
         "Portronics Konnect L 12M Fast Charging 3A 8 Pin USB Cable with Charge Sync Function for iPhone iPad Grey",
         "ComputersAccessoriesAccessoriesPeripheralsCablesAccessoriesCablesUSBCables",
         "154.0",
         "399.0",
         "0.61",
         "4.2",
         "16905.0",
         "CHARGE SYNC FUNCTION This cable comes with charging Data sync functionHIGH QUALITY MATERIAL TPE Nylon Material to make sure that the life of the cable is enhanced significantlyLONG CORD The Cable is extra thick 12 meter long optimized for an easy use for your comfort at home or officeMORE DURABLEThis cable is unique interms of design and multiuse and is positioned to provide the best comfort and performance while usingUNIVERSAL COMPATIBILITY Compatible with all devices like iPhone XS X XR 8 7 6S 6 5S iPad Pro iPad mini and iPad Air",
         "As good as originalDecentGood one for secondary useBest qualityGOODAmazing product at a mind blowing priceNice QualityGood product",
         "Bought this instead of original apple does the work for 150rs not as fast as apple charger but its a good option if you want cheap and good product bought it for iPad pro 105 and its working flawlessly build quality is ok its not like i am gonna hang my clothes on it and i want a very strong cable even a braided cable stop working after a year i have used both Anker and Apple store strong braided cable they all stop working after a year so please dont buy high end cables just for that instead choose a this one and even if its stops working withing a year you only loose 150rs compares to 2000rsUPDATEpin has stopped charging from one side now i have to slip the pin to charge from other side but i will update and let know for how long does it workIts good Not sure about durability as the pin area feels a bit fragileDoes not support apple carplaySo was little disappointed about thatOther than that cable is made up of very good qualityBest to buy100 NOT FATHFULWriting this review post 10 months and 3 orders of the same productHonestly Portronics Konnect L lightning cable works like magic with the original Apple charging brickSeeing the price of the cable I initially hesitated buying as it was as low as 99 with the offers and so I wasnt sure if it would work well with my iPhone 12 or whether it would impact my iPhones battery health because all the other lightning cable brands were costing over 350 like Wayona Amazon Basics etcEarlier I was using Wayona Brand lightning cable with eventually frayed and stopped workingCharging SpeedCharges my iPhone fast enough almost similar compared to the original cable level when used with 12W Original Apple power adapterQuality and DurabilityGreat quality braided cable and doesnt tangle easily and can withstand daytoday usageLShaped pinThis is very innovative by Portronics and it makes sure the cable doesnt get damaged even if used while chargingCarPlay and Data SyncWorks smoothly with CarPlay and syncs data effortlesslyPS I have used this cable only with the Original Apple Charging Brick and extremely satisfied with its performanceBetter than I expect the product I like that Quality and I plan to buy same type cable come with usb C to Lighting cable for emergency purpose that much I love this cable Buy for this cable only emergency uses only since Good oneGood product and value for money"
        ]
       ],
       "shape": {
        "columns": 10,
        "rows": 5
       }
      },
      "text/html": [
       "<div>\n",
       "<style scoped>\n",
       "    .dataframe tbody tr th:only-of-type {\n",
       "        vertical-align: middle;\n",
       "    }\n",
       "\n",
       "    .dataframe tbody tr th {\n",
       "        vertical-align: top;\n",
       "    }\n",
       "\n",
       "    .dataframe thead th {\n",
       "        text-align: right;\n",
       "    }\n",
       "</style>\n",
       "<table border=\"1\" class=\"dataframe\">\n",
       "  <thead>\n",
       "    <tr style=\"text-align: right;\">\n",
       "      <th></th>\n",
       "      <th>product_name</th>\n",
       "      <th>category</th>\n",
       "      <th>discounted_price</th>\n",
       "      <th>actual_price</th>\n",
       "      <th>discount_percentage</th>\n",
       "      <th>rating</th>\n",
       "      <th>rating_count</th>\n",
       "      <th>about_product</th>\n",
       "      <th>review_title</th>\n",
       "      <th>review_content</th>\n",
       "    </tr>\n",
       "  </thead>\n",
       "  <tbody>\n",
       "    <tr>\n",
       "      <th>0</th>\n",
       "      <td>Wayona Nylon Braided USB to Lightning Fast Cha...</td>\n",
       "      <td>ComputersAccessoriesAccessoriesPeripheralsCabl...</td>\n",
       "      <td>399.0</td>\n",
       "      <td>1099.0</td>\n",
       "      <td>0.64</td>\n",
       "      <td>4.2</td>\n",
       "      <td>24269.0</td>\n",
       "      <td>High Compatibility Compatible With iPhone 12 1...</td>\n",
       "      <td>SatisfiedCharging is really fastValue for mone...</td>\n",
       "      <td>Looks durable Charging is fine tooNo complains...</td>\n",
       "    </tr>\n",
       "    <tr>\n",
       "      <th>1</th>\n",
       "      <td>Ambrane Unbreakable 60W 3A Fast Charging 15m B...</td>\n",
       "      <td>ComputersAccessoriesAccessoriesPeripheralsCabl...</td>\n",
       "      <td>199.0</td>\n",
       "      <td>349.0</td>\n",
       "      <td>0.43</td>\n",
       "      <td>4.0</td>\n",
       "      <td>43994.0</td>\n",
       "      <td>Compatible with all Type C enabled devices be ...</td>\n",
       "      <td>A Good Braided Cable for Your Type C DeviceGoo...</td>\n",
       "      <td>I ordered this cable to connect my phone to An...</td>\n",
       "    </tr>\n",
       "    <tr>\n",
       "      <th>2</th>\n",
       "      <td>Sounce Fast Phone Charging Cable Data Sync USB...</td>\n",
       "      <td>ComputersAccessoriesAccessoriesPeripheralsCabl...</td>\n",
       "      <td>199.0</td>\n",
       "      <td>1899.0</td>\n",
       "      <td>0.90</td>\n",
       "      <td>3.9</td>\n",
       "      <td>7928.0</td>\n",
       "      <td>Fast Charger Data SyncWith builtin safety proc...</td>\n",
       "      <td>Good speed for earlier versionsGood ProductWor...</td>\n",
       "      <td>Not quite durable and sturdyhttpsmmediaamazonc...</td>\n",
       "    </tr>\n",
       "    <tr>\n",
       "      <th>3</th>\n",
       "      <td>boAt Deuce USB 300 2 in 1 TypeC Micro USB Stre...</td>\n",
       "      <td>ComputersAccessoriesAccessoriesPeripheralsCabl...</td>\n",
       "      <td>329.0</td>\n",
       "      <td>699.0</td>\n",
       "      <td>0.53</td>\n",
       "      <td>4.2</td>\n",
       "      <td>94363.0</td>\n",
       "      <td>The boAt Deuce USB 300 2 in 1 cable is compati...</td>\n",
       "      <td>Good productGood oneNiceReally nice productVer...</td>\n",
       "      <td>Good productlong wireCharges goodNiceI bought ...</td>\n",
       "    </tr>\n",
       "    <tr>\n",
       "      <th>4</th>\n",
       "      <td>Portronics Konnect L 12M Fast Charging 3A 8 Pi...</td>\n",
       "      <td>ComputersAccessoriesAccessoriesPeripheralsCabl...</td>\n",
       "      <td>154.0</td>\n",
       "      <td>399.0</td>\n",
       "      <td>0.61</td>\n",
       "      <td>4.2</td>\n",
       "      <td>16905.0</td>\n",
       "      <td>CHARGE SYNC FUNCTION This cable comes with cha...</td>\n",
       "      <td>As good as originalDecentGood one for secondar...</td>\n",
       "      <td>Bought this instead of original apple does the...</td>\n",
       "    </tr>\n",
       "  </tbody>\n",
       "</table>\n",
       "</div>"
      ],
      "text/plain": [
       "                                        product_name  \\\n",
       "0  Wayona Nylon Braided USB to Lightning Fast Cha...   \n",
       "1  Ambrane Unbreakable 60W 3A Fast Charging 15m B...   \n",
       "2  Sounce Fast Phone Charging Cable Data Sync USB...   \n",
       "3  boAt Deuce USB 300 2 in 1 TypeC Micro USB Stre...   \n",
       "4  Portronics Konnect L 12M Fast Charging 3A 8 Pi...   \n",
       "\n",
       "                                            category  discounted_price  \\\n",
       "0  ComputersAccessoriesAccessoriesPeripheralsCabl...             399.0   \n",
       "1  ComputersAccessoriesAccessoriesPeripheralsCabl...             199.0   \n",
       "2  ComputersAccessoriesAccessoriesPeripheralsCabl...             199.0   \n",
       "3  ComputersAccessoriesAccessoriesPeripheralsCabl...             329.0   \n",
       "4  ComputersAccessoriesAccessoriesPeripheralsCabl...             154.0   \n",
       "\n",
       "   actual_price  discount_percentage  rating  rating_count  \\\n",
       "0        1099.0                 0.64     4.2       24269.0   \n",
       "1         349.0                 0.43     4.0       43994.0   \n",
       "2        1899.0                 0.90     3.9        7928.0   \n",
       "3         699.0                 0.53     4.2       94363.0   \n",
       "4         399.0                 0.61     4.2       16905.0   \n",
       "\n",
       "                                       about_product  \\\n",
       "0  High Compatibility Compatible With iPhone 12 1...   \n",
       "1  Compatible with all Type C enabled devices be ...   \n",
       "2  Fast Charger Data SyncWith builtin safety proc...   \n",
       "3  The boAt Deuce USB 300 2 in 1 cable is compati...   \n",
       "4  CHARGE SYNC FUNCTION This cable comes with cha...   \n",
       "\n",
       "                                        review_title  \\\n",
       "0  SatisfiedCharging is really fastValue for mone...   \n",
       "1  A Good Braided Cable for Your Type C DeviceGoo...   \n",
       "2  Good speed for earlier versionsGood ProductWor...   \n",
       "3  Good productGood oneNiceReally nice productVer...   \n",
       "4  As good as originalDecentGood one for secondar...   \n",
       "\n",
       "                                      review_content  \n",
       "0  Looks durable Charging is fine tooNo complains...  \n",
       "1  I ordered this cable to connect my phone to An...  \n",
       "2  Not quite durable and sturdyhttpsmmediaamazonc...  \n",
       "3  Good productlong wireCharges goodNiceI bought ...  \n",
       "4  Bought this instead of original apple does the...  "
      ]
     },
     "execution_count": 20,
     "metadata": {},
     "output_type": "execute_result"
    }
   ],
   "source": [
    "df_amazon.head()"
   ]
  },
  {
   "cell_type": "markdown",
   "metadata": {},
   "source": [
    "***The data's all cleaned up now***"
   ]
  },
  {
   "cell_type": "markdown",
   "metadata": {},
   "source": [
    "# ***Data Visualisation***"
   ]
  },
  {
   "cell_type": "code",
   "execution_count": 21,
   "metadata": {},
   "outputs": [
    {
     "data": {
      "text/plain": [
       "Text(0, 0.5, 'Frequency')"
      ]
     },
     "execution_count": 21,
     "metadata": {},
     "output_type": "execute_result"
    },
    {
     "data": {
      "image/png": "[encoded data removed]",
      "text/plain": [
       "<Figure size 1200x600 with 1 Axes>"
      ]
     },
     "metadata": {},
     "output_type": "display_data"
    },
    {
     "data": {
      "image/png": "[encoded data removed]",
      "text/plain": [
       "<Figure size 1200x600 with 1 Axes>"
      ]
     },
     "metadata": {},
     "output_type": "display_data"
    }
   ],
   "source": [
    "# Plot the distribution of discounted prices\n",
    "plt.figure(figsize=(12, 6))\n",
    "sns.histplot(df_amazon['discounted_price'], bins=50, kde=True, color='blue')\n",
    "plt.title('Distribution of Discounted Prices')\n",
    "plt.xlabel('Discounted Price (₹)')\n",
    "plt.ylabel('Frequency')\n",
    "\n",
    "\n",
    "# Plot the distribution of actual prices\n",
    "plt.figure(figsize=(12, 6))\n",
    "sns.histplot(df_amazon['actual_price'], bins=50, kde=True, color='green')\n",
    "plt.title('Distribution of Actual Prices')\n",
    "plt.xlabel('Actual Price (₹)')\n",
    "plt.ylabel('Frequency')"
   ]
  },
  {
   "cell_type": "markdown",
   "metadata": {},
   "source": [
    "<p align=\"left\">\n",
    "  <img src=\"EDA plot\\plot1.png\">\n",
    "  <br>\n",
    "</p>  "
   ]
  },
  {
   "cell_type": "markdown",
   "metadata": {},
   "source": [
    "<p align=\"left\">\n",
    "  <img src=\"EDA plot\\plot2.png\">\n",
    "  <br>\n",
    "</p> "
   ]
  },
  {
   "cell_type": "markdown",
   "metadata": {},
   "source": [
    "- 1 :The discounted prices show a right-skewed distribution, meaning most products have lower discounted prices with just a few having really high discounts. Most of the discounts are in the **lower range**, so most products get smaller cuts in price. There are a few products with really high discounts (outliers) which could mess with statistical analysis if they’re not handled properly. There’s a wide range in discounted prices, showing a big variety in pricing across different products.\n"
   ]
  },
  {
   "cell_type": "markdown",
   "metadata": {},
   "source": [
    "- 2 :  Distribution The actual prices show a right-skewed distribution meaning most products have low prices with just a few having really high prices Concentration Most of the prices are on the lower end so most products have low prices Outliers There are a few products with really high prices (outliers) which could mess with statistical analysis if not handled properly Spread There’s a big spread in prices showing a lot of variety in pricing across different products"
   ]
  },
  {
   "cell_type": "markdown",
   "metadata": {},
   "source": [
    "***It makes sense since we’re more interested in some products than others***"
   ]
  },
  {
   "cell_type": "code",
   "execution_count": 22,
   "metadata": {},
   "outputs": [
    {
     "data": {
      "text/plain": [
       "Text(0, 0.5, 'Frequency')"
      ]
     },
     "execution_count": 22,
     "metadata": {},
     "output_type": "execute_result"
    },
    {
     "data": {
      "image/png": "[encoded data removed]",
      "text/plain": [
       "<Figure size 1200x600 with 1 Axes>"
      ]
     },
     "metadata": {},
     "output_type": "display_data"
    }
   ],
   "source": [
    "df_amazon['review_sentiment'] = df_amazon['review_content'].apply(lambda x: TextBlob(str(x)).sentiment.polarity)\n",
    "\n",
    "\n",
    "plt.figure(figsize=(12, 6))\n",
    "sns.histplot(df_amazon['review_sentiment'], bins=50, kde=True, color='purple')\n",
    "plt.title('Distribution of Review Sentiments')\n",
    "plt.xlabel('Sentiment Polarity')\n",
    "plt.ylabel('Frequency')"
   ]
  },
  {
   "cell_type": "markdown",
   "metadata": {},
   "source": [
    "<p align=\"left\">\n",
    "  <img src=\"EDA plot\\plot3.png\">\n",
    "  <br>\n",
    "</p> "
   ]
  },
  {
   "cell_type": "markdown",
   "metadata": {},
   "source": [
    "***The distribution looks pretty close to a normal distribution with most opinions clustering around the neutral point (zero) and fewer opinions as we move away from zero in either the positive or negative direction. There’s a slight tilt towards positive opinions with just a bit more positive reviews than negative ones. There are very few reviews with extreme emotional bias (either really positive or really negative).***\n"
   ]
  },
  {
   "cell_type": "markdown",
   "metadata": {},
   "source": [
    "***Most online ratings show Voluntary Response Bias in statistics***"
   ]
  },
  {
   "cell_type": "code",
   "execution_count": 23,
   "metadata": {},
   "outputs": [
    {
     "data": {
      "application/vnd.plotly.v1+json": {
       "config": {
        "plotlyServerURL": "https://plot.ly"
       },
       "data": [
        {
         "alignmentgroup": "True",
         "hovertemplate": "x=%{x}<br>category=%{y}<extra></extra>",
         "legendgroup": "",
         "marker": {
          "color": "#636efa",
          "pattern": {
           "shape": ""
          }
         },
         "name": "",
         "offsetgroup": "",
         "orientation": "h",
         "showlegend": false,
         "textposition": "outside",
         "texttemplate": "%{x:.2s}",
         "type": "bar",
         "x": [
          24,
          24,
          24,
          27,
          49,
          52,
          63,
          68,
          76,
          233
         ],
         "xaxis": "x",
         "y": [
          "HomeKitchenKitchenHomeAppliancesVacuumCleaningIroningIronsSteamersAccessoriesIronsDryIrons",
          "ElectronicsHomeTheaterTVVideoAccessoriesCablesHDMICables",
          "ComputersAccessoriesAccessoriesPeripheralsKeyboardsMiceInputDevicesMice",
          "HomeKitchenKitchenHomeAppliancesSmallKitchenAppliancesMixerGrinders",
          "ElectronicsHomeTheaterTVVideoAccessoriesRemoteControls",
          "ElectronicsHeadphonesEarbudsAccessoriesHeadphonesInEar",
          "ElectronicsHomeTheaterTVVideoTelevisionsSmartTelevisions",
          "ElectronicsMobilesAccessoriesSmartphonesBasicMobilesSmartphones",
          "ElectronicsWearableTechnologySmartWatches",
          "ComputersAccessoriesAccessoriesPeripheralsCablesAccessoriesCablesUSBCables"
         ],
         "yaxis": "y"
        }
       ],
       "layout": {
        "barmode": "relative",
        "font": {
         "color": "black",
         "family": "Arial",
         "size": 14
        },
        "height": 500,
        "legend": {
         "tracegroupgap": 0
        },
        "template": {
         "data": {
          "bar": [
           {
            "error_x": {
             "color": "#2a3f5f"
            },
            "error_y": {
             "color": "#2a3f5f"
            },
            "marker": {
             "line": {
              "color": "#E5ECF6",
              "width": 0.5
             },
             "pattern": {
              "fillmode": "overlay",
              "size": 10,
              "solidity": 0.2
             }
            },
            "type": "bar"
           }
          ],
          "barpolar": [
           {
            "marker": {
             "line": {
              "color": "#E5ECF6",
              "width": 0.5
             },
             "pattern": {
              "fillmode": "overlay",
              "size": 10,
              "solidity": 0.2
             }
            },
            "type": "barpolar"
           }
          ],
          "carpet": [
           {
            "aaxis": {
             "endlinecolor": "#2a3f5f",
             "gridcolor": "white",
             "linecolor": "white",
             "minorgridcolor": "white",
             "startlinecolor": "#2a3f5f"
            },
            "baxis": {
             "endlinecolor": "#2a3f5f",
             "gridcolor": "white",
             "linecolor": "white",
             "minorgridcolor": "white",
             "startlinecolor": "#2a3f5f"
            },
            "type": "carpet"
           }
          ],
          "choropleth": [
           {
            "colorbar": {
             "outlinewidth": 0,
             "ticks": ""
            },
            "type": "choropleth"
           }
          ],
          "contour": [
           {
            "colorbar": {
             "outlinewidth": 0,
             "ticks": ""
            },
            "colorscale": [
             [
              0,
              "#0d0887"
             ],
             [
              0.1111111111111111,
              "#46039f"
             ],
             [
              0.2222222222222222,
              "#7201a8"
             ],
             [
              0.3333333333333333,
              "#9c179e"
             ],
             [
              0.4444444444444444,
              "#bd3786"
             ],
             [
              0.5555555555555556,
              "#d8576b"
             ],
             [
              0.6666666666666666,
              "#ed7953"
             ],
             [
              0.7777777777777778,
              "#fb9f3a"
             ],
             [
              0.8888888888888888,
              "#fdca26"
             ],
             [
              1,
              "#f0f921"
             ]
            ],
            "type": "contour"
           }
          ],
          "contourcarpet": [
           {
            "colorbar": {
             "outlinewidth": 0,
             "ticks": ""
            },
            "type": "contourcarpet"
           }
          ],
          "heatmap": [
           {
            "colorbar": {
             "outlinewidth": 0,
             "ticks": ""
            },
            "colorscale": [
             [
              0,
              "#0d0887"
             ],
             [
              0.1111111111111111,
              "#46039f"
             ],
             [
              0.2222222222222222,
              "#7201a8"
             ],
             [
              0.3333333333333333,
              "#9c179e"
             ],
             [
              0.4444444444444444,
              "#bd3786"
             ],
             [
              0.5555555555555556,
              "#d8576b"
             ],
             [
              0.6666666666666666,
              "#ed7953"
             ],
             [
              0.7777777777777778,
              "#fb9f3a"
             ],
             [
              0.8888888888888888,
              "#fdca26"
             ],
             [
              1,
              "#f0f921"
             ]
            ],
            "type": "heatmap"
           }
          ],
          "heatmapgl": [
           {
            "colorbar": {
             "outlinewidth": 0,
             "ticks": ""
            },
            "colorscale": [
             [
              0,
              "#0d0887"
             ],
             [
              0.1111111111111111,
              "#46039f"
             ],
             [
              0.2222222222222222,
              "#7201a8"
             ],
             [
              0.3333333333333333,
              "#9c179e"
             ],
             [
              0.4444444444444444,
              "#bd3786"
             ],
             [
              0.5555555555555556,
              "#d8576b"
             ],
             [
              0.6666666666666666,
              "#ed7953"
             ],
             [
              0.7777777777777778,
              "#fb9f3a"
             ],
             [
              0.8888888888888888,
              "#fdca26"
             ],
             [
              1,
              "#f0f921"
             ]
            ],
            "type": "heatmapgl"
           }
          ],
          "histogram": [
           {
            "marker": {
             "pattern": {
              "fillmode": "overlay",
              "size": 10,
              "solidity": 0.2
             }
            },
            "type": "histogram"
           }
          ],
          "histogram2d": [
           {
            "colorbar": {
             "outlinewidth": 0,
             "ticks": ""
            },
            "colorscale": [
             [
              0,
              "#0d0887"
             ],
             [
              0.1111111111111111,
              "#46039f"
             ],
             [
              0.2222222222222222,
              "#7201a8"
             ],
             [
              0.3333333333333333,
              "#9c179e"
             ],
             [
              0.4444444444444444,
              "#bd3786"
             ],
             [
              0.5555555555555556,
              "#d8576b"
             ],
             [
              0.6666666666666666,
              "#ed7953"
             ],
             [
              0.7777777777777778,
              "#fb9f3a"
             ],
             [
              0.8888888888888888,
              "#fdca26"
             ],
             [
              1,
              "#f0f921"
             ]
            ],
            "type": "histogram2d"
           }
          ],
          "histogram2dcontour": [
           {
            "colorbar": {
             "outlinewidth": 0,
             "ticks": ""
            },
            "colorscale": [
             [
              0,
              "#0d0887"
             ],
             [
              0.1111111111111111,
              "#46039f"
             ],
             [
              0.2222222222222222,
              "#7201a8"
             ],
             [
              0.3333333333333333,
              "#9c179e"
             ],
             [
              0.4444444444444444,
              "#bd3786"
             ],
             [
              0.5555555555555556,
              "#d8576b"
             ],
             [
              0.6666666666666666,
              "#ed7953"
             ],
             [
              0.7777777777777778,
              "#fb9f3a"
             ],
             [
              0.8888888888888888,
              "#fdca26"
             ],
             [
              1,
              "#f0f921"
             ]
            ],
            "type": "histogram2dcontour"
           }
          ],
          "mesh3d": [
           {
            "colorbar": {
             "outlinewidth": 0,
             "ticks": ""
            },
            "type": "mesh3d"
           }
          ],
          "parcoords": [
           {
            "line": {
             "colorbar": {
              "outlinewidth": 0,
              "ticks": ""
             }
            },
            "type": "parcoords"
           }
          ],
          "pie": [
           {
            "automargin": true,
            "type": "pie"
           }
          ],
          "scatter": [
           {
            "fillpattern": {
             "fillmode": "overlay",
             "size": 10,
             "solidity": 0.2
            },
            "type": "scatter"
           }
          ],
          "scatter3d": [
           {
            "line": {
             "colorbar": {
              "outlinewidth": 0,
              "ticks": ""
             }
            },
            "marker": {
             "colorbar": {
              "outlinewidth": 0,
              "ticks": ""
             }
            },
            "type": "scatter3d"
           }
          ],
          "scattercarpet": [
           {
            "marker": {
             "colorbar": {
              "outlinewidth": 0,
              "ticks": ""
             }
            },
            "type": "scattercarpet"
           }
          ],
          "scattergeo": [
           {
            "marker": {
             "colorbar": {
              "outlinewidth": 0,
              "ticks": ""
             }
            },
            "type": "scattergeo"
           }
          ],
          "scattergl": [
           {
            "marker": {
             "colorbar": {
              "outlinewidth": 0,
              "ticks": ""
             }
            },
            "type": "scattergl"
           }
          ],
          "scattermapbox": [
           {
            "marker": {
             "colorbar": {
              "outlinewidth": 0,
              "ticks": ""
             }
            },
            "type": "scattermapbox"
           }
          ],
          "scatterpolar": [
           {
            "marker": {
             "colorbar": {
              "outlinewidth": 0,
              "ticks": ""
             }
            },
            "type": "scatterpolar"
           }
          ],
          "scatterpolargl": [
           {
            "marker": {
             "colorbar": {
              "outlinewidth": 0,
              "ticks": ""
             }
            },
            "type": "scatterpolargl"
           }
          ],
          "scatterternary": [
           {
            "marker": {
             "colorbar": {
              "outlinewidth": 0,
              "ticks": ""
             }
            },
            "type": "scatterternary"
           }
          ],
          "surface": [
           {
            "colorbar": {
             "outlinewidth": 0,
             "ticks": ""
            },
            "colorscale": [
             [
              0,
              "#0d0887"
             ],
             [
              0.1111111111111111,
              "#46039f"
             ],
             [
              0.2222222222222222,
              "#7201a8"
             ],
             [
              0.3333333333333333,
              "#9c179e"
             ],
             [
              0.4444444444444444,
              "#bd3786"
             ],
             [
              0.5555555555555556,
              "#d8576b"
             ],
             [
              0.6666666666666666,
              "#ed7953"
             ],
             [
              0.7777777777777778,
              "#fb9f3a"
             ],
             [
              0.8888888888888888,
              "#fdca26"
             ],
             [
              1,
              "#f0f921"
             ]
            ],
            "type": "surface"
           }
          ],
          "table": [
           {
            "cells": {
             "fill": {
              "color": "#EBF0F8"
             },
             "line": {
              "color": "white"
             }
            },
            "header": {
             "fill": {
              "color": "#C8D4E3"
             },
             "line": {
              "color": "white"
             }
            },
            "type": "table"
           }
          ]
         },
         "layout": {
          "annotationdefaults": {
           "arrowcolor": "#2a3f5f",
           "arrowhead": 0,
           "arrowwidth": 1
          },
          "autotypenumbers": "strict",
          "coloraxis": {
           "colorbar": {
            "outlinewidth": 0,
            "ticks": ""
           }
          },
          "colorscale": {
           "diverging": [
            [
             0,
             "#8e0152"
            ],
            [
             0.1,
             "#c51b7d"
            ],
            [
             0.2,
             "#de77ae"
            ],
            [
             0.3,
             "#f1b6da"
            ],
            [
             0.4,
             "#fde0ef"
            ],
            [
             0.5,
             "#f7f7f7"
            ],
            [
             0.6,
             "#e6f5d0"
            ],
            [
             0.7,
             "#b8e186"
            ],
            [
             0.8,
             "#7fbc41"
            ],
            [
             0.9,
             "#4d9221"
            ],
            [
             1,
             "#276419"
            ]
           ],
           "sequential": [
            [
             0,
             "#0d0887"
            ],
            [
             0.1111111111111111,
             "#46039f"
            ],
            [
             0.2222222222222222,
             "#7201a8"
            ],
            [
             0.3333333333333333,
             "#9c179e"
            ],
            [
             0.4444444444444444,
             "#bd3786"
            ],
            [
             0.5555555555555556,
             "#d8576b"
            ],
            [
             0.6666666666666666,
             "#ed7953"
            ],
            [
             0.7777777777777778,
             "#fb9f3a"
            ],
            [
             0.8888888888888888,
             "#fdca26"
            ],
            [
             1,
             "#f0f921"
            ]
           ],
           "sequentialminus": [
            [
             0,
             "#0d0887"
            ],
            [
             0.1111111111111111,
             "#46039f"
            ],
            [
             0.2222222222222222,
             "#7201a8"
            ],
            [
             0.3333333333333333,
             "#9c179e"
            ],
            [
             0.4444444444444444,
             "#bd3786"
            ],
            [
             0.5555555555555556,
             "#d8576b"
            ],
            [
             0.6666666666666666,
             "#ed7953"
            ],
            [
             0.7777777777777778,
             "#fb9f3a"
            ],
            [
             0.8888888888888888,
             "#fdca26"
            ],
            [
             1,
             "#f0f921"
            ]
           ]
          },
          "colorway": [
           "#636efa",
           "#EF553B",
           "#00cc96",
           "#ab63fa",
           "#FFA15A",
           "#19d3f3",
           "#FF6692",
           "#B6E880",
           "#FF97FF",
           "#FECB52"
          ],
          "font": {
           "color": "#2a3f5f"
          },
          "geo": {
           "bgcolor": "white",
           "lakecolor": "white",
           "landcolor": "#E5ECF6",
           "showlakes": true,
           "showland": true,
           "subunitcolor": "white"
          },
          "hoverlabel": {
           "align": "left"
          },
          "hovermode": "closest",
          "mapbox": {
           "style": "light"
          },
          "paper_bgcolor": "white",
          "plot_bgcolor": "#E5ECF6",
          "polar": {
           "angularaxis": {
            "gridcolor": "white",
            "linecolor": "white",
            "ticks": ""
           },
           "bgcolor": "#E5ECF6",
           "radialaxis": {
            "gridcolor": "white",
            "linecolor": "white",
            "ticks": ""
           }
          },
          "scene": {
           "xaxis": {
            "backgroundcolor": "#E5ECF6",
            "gridcolor": "white",
            "gridwidth": 2,
            "linecolor": "white",
            "showbackground": true,
            "ticks": "",
            "zerolinecolor": "white"
           },
           "yaxis": {
            "backgroundcolor": "#E5ECF6",
            "gridcolor": "white",
            "gridwidth": 2,
            "linecolor": "white",
            "showbackground": true,
            "ticks": "",
            "zerolinecolor": "white"
           },
           "zaxis": {
            "backgroundcolor": "#E5ECF6",
            "gridcolor": "white",
            "gridwidth": 2,
            "linecolor": "white",
            "showbackground": true,
            "ticks": "",
            "zerolinecolor": "white"
           }
          },
          "shapedefaults": {
           "line": {
            "color": "#2a3f5f"
           }
          },
          "ternary": {
           "aaxis": {
            "gridcolor": "white",
            "linecolor": "white",
            "ticks": ""
           },
           "baxis": {
            "gridcolor": "white",
            "linecolor": "white",
            "ticks": ""
           },
           "bgcolor": "#E5ECF6",
           "caxis": {
            "gridcolor": "white",
            "linecolor": "white",
            "ticks": ""
           }
          },
          "title": {
           "x": 0.05
          },
          "xaxis": {
           "automargin": true,
           "gridcolor": "white",
           "linecolor": "white",
           "ticks": "",
           "title": {
            "standoff": 15
           },
           "zerolinecolor": "white",
           "zerolinewidth": 2
          },
          "yaxis": {
           "automargin": true,
           "gridcolor": "white",
           "linecolor": "white",
           "ticks": "",
           "title": {
            "standoff": 15
           },
           "zerolinecolor": "white",
           "zerolinewidth": 2
          }
         }
        },
        "title": {
         "text": "Top 10 Product Categories"
        },
        "width": 1200,
        "xaxis": {
         "anchor": "y",
         "domain": [
          0,
          1
         ],
         "title": {
          "text": "Number of Products"
         }
        },
        "yaxis": {
         "anchor": "x",
         "domain": [
          0,
          1
         ],
         "title": {
          "text": "Category"
         }
        }
       }
      }
     },
     "metadata": {},
     "output_type": "display_data"
    }
   ],
   "source": [
    "category_counts = df_amazon['category'].value_counts().head(10)\n",
    "category_counts = category_counts.iloc[::-1]\n",
    "\n",
    "\n",
    "\n",
    "fig1 = px.bar(category_counts,\n",
    "              x=category_counts.values, y=category_counts.index, \n",
    "              text_auto=\".2s\",\n",
    "              title=\"Top 10 Product Categories\")\n",
    "\n",
    "\n",
    "fig1.update_xaxes(title_text  = 'Number of Products')\n",
    "fig1.update_yaxes(title_text = 'Category')\n",
    "fig1.update_layout(width = 1200,height = 500,font = dict(family = 'Arial', size = 14, color = 'black'))\n",
    "fig1.update_traces(textposition = 'outside')"
   ]
  },
  {
   "cell_type": "markdown",
   "metadata": {},
   "source": [
    "<p align=\"left\">\n",
    "  <img src=\"EDA plot\\plot4.png\">\n",
    "  <br>\n",
    "</p> "
   ]
  },
  {
   "cell_type": "markdown",
   "metadata": {},
   "source": [
    "***Electronics make up the biggest chunk of sales, especially with a focus on smartphones, smartwatches, and smart TVs. Computers and accessories come in second, mainly focusing on cables, keyboards, and mice. Home appliances include small items like blenders and vacuum cleaners***"
   ]
  },
  {
   "cell_type": "code",
   "execution_count": 24,
   "metadata": {},
   "outputs": [
    {
     "data": {
      "application/vnd.plotly.v1+json": {
       "config": {
        "plotlyServerURL": "https://plot.ly"
       },
       "data": [
        {
         "alignmentgroup": "True",
         "hovertemplate": "x=%{x}<br>category=%{y}<extra></extra>",
         "legendgroup": "",
         "marker": {
          "color": "#636efa",
          "pattern": {
           "shape": ""
          }
         },
         "name": "",
         "offsetgroup": "",
         "orientation": "h",
         "showlegend": false,
         "textposition": "outside",
         "texttemplate": "%{x}",
         "type": "bar",
         "x": [
          13,
          14,
          19,
          20,
          21,
          21,
          45,
          49,
          57,
          158
         ],
         "xaxis": "x",
         "y": [
          "ComputersAccessoriesNetworkingDevicesNetworkAdaptersWirelessUSBAdapters",
          "HomeKitchenKitchenHomeAppliancesVacuumCleaningIroningIronsSteamersAccessoriesLintShavers",
          "HomeKitchenKitchenHomeAppliancesVacuumCleaningIroningIronsSteamersAccessoriesIronsDryIrons",
          "ComputersAccessoriesAccessoriesPeripheralsKeyboardsMiceInputDevicesMice",
          "ElectronicsHeadphonesEarbudsAccessoriesHeadphonesInEar",
          "ElectronicsHomeTheaterTVVideoAccessoriesCablesHDMICables",
          "ElectronicsWearableTechnologySmartWatches",
          "ElectronicsMobilesAccessoriesSmartphonesBasicMobilesSmartphones",
          "ElectronicsHomeTheaterTVVideoTelevisionsSmartTelevisions",
          "ComputersAccessoriesAccessoriesPeripheralsCablesAccessoriesCablesUSBCables"
         ],
         "yaxis": "y"
        }
       ],
       "layout": {
        "barmode": "relative",
        "font": {
         "color": "black",
         "family": "Arial",
         "size": 14
        },
        "legend": {
         "tracegroupgap": 0
        },
        "template": {
         "data": {
          "bar": [
           {
            "error_x": {
             "color": "#2a3f5f"
            },
            "error_y": {
             "color": "#2a3f5f"
            },
            "marker": {
             "line": {
              "color": "#E5ECF6",
              "width": 0.5
             },
             "pattern": {
              "fillmode": "overlay",
              "size": 10,
              "solidity": 0.2
             }
            },
            "type": "bar"
           }
          ],
          "barpolar": [
           {
            "marker": {
             "line": {
              "color": "#E5ECF6",
              "width": 0.5
             },
             "pattern": {
              "fillmode": "overlay",
              "size": 10,
              "solidity": 0.2
             }
            },
            "type": "barpolar"
           }
          ],
          "carpet": [
           {
            "aaxis": {
             "endlinecolor": "#2a3f5f",
             "gridcolor": "white",
             "linecolor": "white",
             "minorgridcolor": "white",
             "startlinecolor": "#2a3f5f"
            },
            "baxis": {
             "endlinecolor": "#2a3f5f",
             "gridcolor": "white",
             "linecolor": "white",
             "minorgridcolor": "white",
             "startlinecolor": "#2a3f5f"
            },
            "type": "carpet"
           }
          ],
          "choropleth": [
           {
            "colorbar": {
             "outlinewidth": 0,
             "ticks": ""
            },
            "type": "choropleth"
           }
          ],
          "contour": [
           {
            "colorbar": {
             "outlinewidth": 0,
             "ticks": ""
            },
            "colorscale": [
             [
              0,
              "#0d0887"
             ],
             [
              0.1111111111111111,
              "#46039f"
             ],
             [
              0.2222222222222222,
              "#7201a8"
             ],
             [
              0.3333333333333333,
              "#9c179e"
             ],
             [
              0.4444444444444444,
              "#bd3786"
             ],
             [
              0.5555555555555556,
              "#d8576b"
             ],
             [
              0.6666666666666666,
              "#ed7953"
             ],
             [
              0.7777777777777778,
              "#fb9f3a"
             ],
             [
              0.8888888888888888,
              "#fdca26"
             ],
             [
              1,
              "#f0f921"
             ]
            ],
            "type": "contour"
           }
          ],
          "contourcarpet": [
           {
            "colorbar": {
             "outlinewidth": 0,
             "ticks": ""
            },
            "type": "contourcarpet"
           }
          ],
          "heatmap": [
           {
            "colorbar": {
             "outlinewidth": 0,
             "ticks": ""
            },
            "colorscale": [
             [
              0,
              "#0d0887"
             ],
             [
              0.1111111111111111,
              "#46039f"
             ],
             [
              0.2222222222222222,
              "#7201a8"
             ],
             [
              0.3333333333333333,
              "#9c179e"
             ],
             [
              0.4444444444444444,
              "#bd3786"
             ],
             [
              0.5555555555555556,
              "#d8576b"
             ],
             [
              0.6666666666666666,
              "#ed7953"
             ],
             [
              0.7777777777777778,
              "#fb9f3a"
             ],
             [
              0.8888888888888888,
              "#fdca26"
             ],
             [
              1,
              "#f0f921"
             ]
            ],
            "type": "heatmap"
           }
          ],
          "heatmapgl": [
           {
            "colorbar": {
             "outlinewidth": 0,
             "ticks": ""
            },
            "colorscale": [
             [
              0,
              "#0d0887"
             ],
             [
              0.1111111111111111,
              "#46039f"
             ],
             [
              0.2222222222222222,
              "#7201a8"
             ],
             [
              0.3333333333333333,
              "#9c179e"
             ],
             [
              0.4444444444444444,
              "#bd3786"
             ],
             [
              0.5555555555555556,
              "#d8576b"
             ],
             [
              0.6666666666666666,
              "#ed7953"
             ],
             [
              0.7777777777777778,
              "#fb9f3a"
             ],
             [
              0.8888888888888888,
              "#fdca26"
             ],
             [
              1,
              "#f0f921"
             ]
            ],
            "type": "heatmapgl"
           }
          ],
          "histogram": [
           {
            "marker": {
             "pattern": {
              "fillmode": "overlay",
              "size": 10,
              "solidity": 0.2
             }
            },
            "type": "histogram"
           }
          ],
          "histogram2d": [
           {
            "colorbar": {
             "outlinewidth": 0,
             "ticks": ""
            },
            "colorscale": [
             [
              0,
              "#0d0887"
             ],
             [
              0.1111111111111111,
              "#46039f"
             ],
             [
              0.2222222222222222,
              "#7201a8"
             ],
             [
              0.3333333333333333,
              "#9c179e"
             ],
             [
              0.4444444444444444,
              "#bd3786"
             ],
             [
              0.5555555555555556,
              "#d8576b"
             ],
             [
              0.6666666666666666,
              "#ed7953"
             ],
             [
              0.7777777777777778,
              "#fb9f3a"
             ],
             [
              0.8888888888888888,
              "#fdca26"
             ],
             [
              1,
              "#f0f921"
             ]
            ],
            "type": "histogram2d"
           }
          ],
          "histogram2dcontour": [
           {
            "colorbar": {
             "outlinewidth": 0,
             "ticks": ""
            },
            "colorscale": [
             [
              0,
              "#0d0887"
             ],
             [
              0.1111111111111111,
              "#46039f"
             ],
             [
              0.2222222222222222,
              "#7201a8"
             ],
             [
              0.3333333333333333,
              "#9c179e"
             ],
             [
              0.4444444444444444,
              "#bd3786"
             ],
             [
              0.5555555555555556,
              "#d8576b"
             ],
             [
              0.6666666666666666,
              "#ed7953"
             ],
             [
              0.7777777777777778,
              "#fb9f3a"
             ],
             [
              0.8888888888888888,
              "#fdca26"
             ],
             [
              1,
              "#f0f921"
             ]
            ],
            "type": "histogram2dcontour"
           }
          ],
          "mesh3d": [
           {
            "colorbar": {
             "outlinewidth": 0,
             "ticks": ""
            },
            "type": "mesh3d"
           }
          ],
          "parcoords": [
           {
            "line": {
             "colorbar": {
              "outlinewidth": 0,
              "ticks": ""
             }
            },
            "type": "parcoords"
           }
          ],
          "pie": [
           {
            "automargin": true,
            "type": "pie"
           }
          ],
          "scatter": [
           {
            "fillpattern": {
             "fillmode": "overlay",
             "size": 10,
             "solidity": 0.2
            },
            "type": "scatter"
           }
          ],
          "scatter3d": [
           {
            "line": {
             "colorbar": {
              "outlinewidth": 0,
              "ticks": ""
             }
            },
            "marker": {
             "colorbar": {
              "outlinewidth": 0,
              "ticks": ""
             }
            },
            "type": "scatter3d"
           }
          ],
          "scattercarpet": [
           {
            "marker": {
             "colorbar": {
              "outlinewidth": 0,
              "ticks": ""
             }
            },
            "type": "scattercarpet"
           }
          ],
          "scattergeo": [
           {
            "marker": {
             "colorbar": {
              "outlinewidth": 0,
              "ticks": ""
             }
            },
            "type": "scattergeo"
           }
          ],
          "scattergl": [
           {
            "marker": {
             "colorbar": {
              "outlinewidth": 0,
              "ticks": ""
             }
            },
            "type": "scattergl"
           }
          ],
          "scattermapbox": [
           {
            "marker": {
             "colorbar": {
              "outlinewidth": 0,
              "ticks": ""
             }
            },
            "type": "scattermapbox"
           }
          ],
          "scatterpolar": [
           {
            "marker": {
             "colorbar": {
              "outlinewidth": 0,
              "ticks": ""
             }
            },
            "type": "scatterpolar"
           }
          ],
          "scatterpolargl": [
           {
            "marker": {
             "colorbar": {
              "outlinewidth": 0,
              "ticks": ""
             }
            },
            "type": "scatterpolargl"
           }
          ],
          "scatterternary": [
           {
            "marker": {
             "colorbar": {
              "outlinewidth": 0,
              "ticks": ""
             }
            },
            "type": "scatterternary"
           }
          ],
          "surface": [
           {
            "colorbar": {
             "outlinewidth": 0,
             "ticks": ""
            },
            "colorscale": [
             [
              0,
              "#0d0887"
             ],
             [
              0.1111111111111111,
              "#46039f"
             ],
             [
              0.2222222222222222,
              "#7201a8"
             ],
             [
              0.3333333333333333,
              "#9c179e"
             ],
             [
              0.4444444444444444,
              "#bd3786"
             ],
             [
              0.5555555555555556,
              "#d8576b"
             ],
             [
              0.6666666666666666,
              "#ed7953"
             ],
             [
              0.7777777777777778,
              "#fb9f3a"
             ],
             [
              0.8888888888888888,
              "#fdca26"
             ],
             [
              1,
              "#f0f921"
             ]
            ],
            "type": "surface"
           }
          ],
          "table": [
           {
            "cells": {
             "fill": {
              "color": "#EBF0F8"
             },
             "line": {
              "color": "white"
             }
            },
            "header": {
             "fill": {
              "color": "#C8D4E3"
             },
             "line": {
              "color": "white"
             }
            },
            "type": "table"
           }
          ]
         },
         "layout": {
          "annotationdefaults": {
           "arrowcolor": "#2a3f5f",
           "arrowhead": 0,
           "arrowwidth": 1
          },
          "autotypenumbers": "strict",
          "coloraxis": {
           "colorbar": {
            "outlinewidth": 0,
            "ticks": ""
           }
          },
          "colorscale": {
           "diverging": [
            [
             0,
             "#8e0152"
            ],
            [
             0.1,
             "#c51b7d"
            ],
            [
             0.2,
             "#de77ae"
            ],
            [
             0.3,
             "#f1b6da"
            ],
            [
             0.4,
             "#fde0ef"
            ],
            [
             0.5,
             "#f7f7f7"
            ],
            [
             0.6,
             "#e6f5d0"
            ],
            [
             0.7,
             "#b8e186"
            ],
            [
             0.8,
             "#7fbc41"
            ],
            [
             0.9,
             "#4d9221"
            ],
            [
             1,
             "#276419"
            ]
           ],
           "sequential": [
            [
             0,
             "#0d0887"
            ],
            [
             0.1111111111111111,
             "#46039f"
            ],
            [
             0.2222222222222222,
             "#7201a8"
            ],
            [
             0.3333333333333333,
             "#9c179e"
            ],
            [
             0.4444444444444444,
             "#bd3786"
            ],
            [
             0.5555555555555556,
             "#d8576b"
            ],
            [
             0.6666666666666666,
             "#ed7953"
            ],
            [
             0.7777777777777778,
             "#fb9f3a"
            ],
            [
             0.8888888888888888,
             "#fdca26"
            ],
            [
             1,
             "#f0f921"
            ]
           ],
           "sequentialminus": [
            [
             0,
             "#0d0887"
            ],
            [
             0.1111111111111111,
             "#46039f"
            ],
            [
             0.2222222222222222,
             "#7201a8"
            ],
            [
             0.3333333333333333,
             "#9c179e"
            ],
            [
             0.4444444444444444,
             "#bd3786"
            ],
            [
             0.5555555555555556,
             "#d8576b"
            ],
            [
             0.6666666666666666,
             "#ed7953"
            ],
            [
             0.7777777777777778,
             "#fb9f3a"
            ],
            [
             0.8888888888888888,
             "#fdca26"
            ],
            [
             1,
             "#f0f921"
            ]
           ]
          },
          "colorway": [
           "#636efa",
           "#EF553B",
           "#00cc96",
           "#ab63fa",
           "#FFA15A",
           "#19d3f3",
           "#FF6692",
           "#B6E880",
           "#FF97FF",
           "#FECB52"
          ],
          "font": {
           "color": "#2a3f5f"
          },
          "geo": {
           "bgcolor": "white",
           "lakecolor": "white",
           "landcolor": "#E5ECF6",
           "showlakes": true,
           "showland": true,
           "subunitcolor": "white"
          },
          "hoverlabel": {
           "align": "left"
          },
          "hovermode": "closest",
          "mapbox": {
           "style": "light"
          },
          "paper_bgcolor": "white",
          "plot_bgcolor": "#E5ECF6",
          "polar": {
           "angularaxis": {
            "gridcolor": "white",
            "linecolor": "white",
            "ticks": ""
           },
           "bgcolor": "#E5ECF6",
           "radialaxis": {
            "gridcolor": "white",
            "linecolor": "white",
            "ticks": ""
           }
          },
          "scene": {
           "xaxis": {
            "backgroundcolor": "#E5ECF6",
            "gridcolor": "white",
            "gridwidth": 2,
            "linecolor": "white",
            "showbackground": true,
            "ticks": "",
            "zerolinecolor": "white"
           },
           "yaxis": {
            "backgroundcolor": "#E5ECF6",
            "gridcolor": "white",
            "gridwidth": 2,
            "linecolor": "white",
            "showbackground": true,
            "ticks": "",
            "zerolinecolor": "white"
           },
           "zaxis": {
            "backgroundcolor": "#E5ECF6",
            "gridcolor": "white",
            "gridwidth": 2,
            "linecolor": "white",
            "showbackground": true,
            "ticks": "",
            "zerolinecolor": "white"
           }
          },
          "shapedefaults": {
           "line": {
            "color": "#2a3f5f"
           }
          },
          "ternary": {
           "aaxis": {
            "gridcolor": "white",
            "linecolor": "white",
            "ticks": ""
           },
           "baxis": {
            "gridcolor": "white",
            "linecolor": "white",
            "ticks": ""
           },
           "bgcolor": "#E5ECF6",
           "caxis": {
            "gridcolor": "white",
            "linecolor": "white",
            "ticks": ""
           }
          },
          "title": {
           "x": 0.05
          },
          "xaxis": {
           "automargin": true,
           "gridcolor": "white",
           "linecolor": "white",
           "ticks": "",
           "title": {
            "standoff": 15
           },
           "zerolinecolor": "white",
           "zerolinewidth": 2
          },
          "yaxis": {
           "automargin": true,
           "gridcolor": "white",
           "linecolor": "white",
           "ticks": "",
           "title": {
            "standoff": 15
           },
           "zerolinecolor": "white",
           "zerolinewidth": 2
          }
         }
        },
        "title": {
         "text": "Top 10 Product Categories with Ratings Above 4"
        },
        "xaxis": {
         "anchor": "y",
         "domain": [
          0,
          1
         ],
         "title": {
          "text": "Number of Products"
         }
        },
        "yaxis": {
         "anchor": "x",
         "domain": [
          0,
          1
         ],
         "title": {
          "text": "Product Category"
         }
        }
       }
      }
     },
     "metadata": {},
     "output_type": "display_data"
    }
   ],
   "source": [
    "high_rating = df_amazon[df_amazon['rating'] > 4]\n",
    "hight_rating_category = high_rating['category'].value_counts().head(10)\n",
    "hight_rating_category = hight_rating_category.iloc[::-1]\n",
    "\n",
    "\n",
    "\n",
    " \n",
    "fig2 = px.bar(hight_rating_category,\n",
    "              x=hight_rating_category.values , y = hight_rating_category.index ,\n",
    "              text_auto= True,\n",
    "              title=\"Top 10 Product Categories with Ratings Above 4\")\n",
    "\n",
    "\n",
    "fig2.update_xaxes(title_text = 'Number of Products')\n",
    "fig2.update_yaxes(title_text = 'Product Category')\n",
    "fig2.update_layout(font = dict(family = 'Arial', size = 14, color = 'black'))\n",
    "fig2.update_traces(textposition = 'outside')"
   ]
  },
  {
   "cell_type": "markdown",
   "metadata": {},
   "source": [
    "<p align=\"left\">\n",
    "  <img src=\"EDA plot\\plot5.png\">\n",
    "  <br>\n",
    "</p> "
   ]
  },
  {
   "cell_type": "markdown",
   "metadata": {},
   "source": [
    "***Electronics make up the majority of high-rated products, with a big focus on cables, accessories, and smart devices like smartwatches and smartphones. Computers and their accessories come in second, mainly with keyboards and mice. Home appliances include small items like vacuum cleaners and irons***\n",
    "\n",
    "\n",
    "\n",
    "\n",
    "\n",
    "\n"
   ]
  },
  {
   "cell_type": "code",
   "execution_count": 25,
   "metadata": {},
   "outputs": [
    {
     "data": {
      "application/vnd.plotly.v1+json": {
       "config": {
        "plotlyServerURL": "https://plot.ly"
       },
       "data": [
        {
         "hovertemplate": "discounted_price=%{x}<br>rating=%{y}<extra></extra>",
         "legendgroup": "",
         "marker": {
          "color": "#636efa",
          "symbol": "circle"
         },
         "mode": "markers",
         "name": "",
         "showlegend": false,
         "type": "scattergl",
         "x": [
          399,
          199,
          199,
          329,
          154,
          149,
          176.63,
          229,
          499,
          199,
          154,
          299,
          219,
          350,
          159,
          349,
          13999,
          249,
          199,
          13490,
          970,
          279,
          13490,
          59,
          11499,
          199,
          14999,
          299,
          970,
          299,
          199,
          179,
          389,
          599,
          199,
          99,
          899,
          199,
          32999,
          970,
          209,
          19999,
          399,
          999,
          59,
          333,
          507,
          309,
          399,
          199,
          1199,
          179,
          799,
          6999,
          199,
          230,
          649,
          15999,
          348,
          154,
          179,
          32990,
          139,
          329,
          13999,
          309,
          263,
          7999,
          1599,
          219,
          349,
          349,
          26999,
          115,
          399,
          199,
          179,
          10901,
          209,
          1434,
          399,
          139,
          7299,
          299,
          325,
          29999,
          27999,
          30990,
          199,
          649,
          269,
          24999,
          299,
          199,
          18990,
          290,
          249,
          345,
          1099,
          719,
          349,
          849,
          299,
          21999,
          349,
          399,
          449,
          299,
          37999,
          99,
          7390,
          273.1,
          15990,
          399,
          399,
          210,
          1299,
          347,
          149,
          228,
          1599,
          1499,
          8499,
          20990,
          32999,
          799,
          229,
          9999,
          349,
          489,
          23999,
          399,
          349,
          179,
          689,
          30990,
          249,
          999,
          399,
          349,
          399,
          1699,
          655,
          749,
          9999,
          195,
          999,
          499,
          416,
          368,
          29990,
          339,
          15490,
          499,
          249,
          399,
          1499,
          9490,
          637,
          399,
          1089,
          339,
          149,
          149,
          599,
          299,
          399,
          339,
          12499,
          249,
          1399,
          32999,
          149,
          325,
          399,
          199,
          88,
          399,
          57.89,
          799,
          205,
          299,
          849,
          949,
          499,
          299,
          949,
          379,
          8990,
          486,
          5699,
          709,
          47990,
          299,
          320,
          139,
          129,
          24999,
          999,
          225,
          547,
          259,
          239,
          349,
          467,
          449,
          11990,
          350,
          252,
          204,
          6490,
          235,
          299,
          799,
          299,
          6999,
          42999,
          173,
          209,
          848.99,
          649,
          299,
          399,
          249,
          1249,
          213,
          209,
          598,
          799,
          159,
          499,
          31999,
          32990,
          299,
          128.31,
          599,
          399,
          449,
          254,
          399,
          179,
          339,
          399,
          199,
          349,
          299,
          89,
          549,
          129,
          77990,
          349,
          499,
          299,
          182,
          96,
          54990,
          439,
          299,
          299,
          789,
          299,
          325,
          1299,
          790,
          4699,
          18999,
          199,
          269,
          1990,
          2299,
          35999,
          349,
          719,
          8999,
          917,
          399,
          45999,
          119,
          21999,
          299,
          21990,
          417.44,
          199,
          47990,
          215,
          99,
          18999,
          249,
          7999,
          649,
          1289,
          609,
          32990,
          599,
          349,
          29999,
          199,
          349,
          1850,
          13990,
          129,
          379,
          185,
          218,
          199,
          499,
          26999,
          893,
          10990,
          379,
          16999,
          699,
          2699,
          129,
          389,
          246,
          299,
          247,
          1369,
          199,
          299,
          14999,
          299,
          24990,
          249,
          61999,
          24499,
          10499,
          349,
          197,
          1299,
          1519,
          46999,
          299,
          1799,
          1998,
          1999,
          2049,
          6499,
          28999,
          28999,
          6499,
          6499,
          569,
          1898,
          1299,
          1499,
          599,
          9499,
          599,
          8999,
          349,
          349,
          959,
          9499,
          1499,
          1149,
          349,
          1219,
          1599,
          1499,
          18499,
          369,
          12999,
          1799,
          2199,
          16999,
          16499,
          1799,
          399,
          8499,
          6499,
          1799,
          8999,
          139,
          3999,
          2998,
          199,
          15499,
          199,
          1799,
          8999,
          873,
          12999,
          539,
          1999,
          15490,
          19999,
          1075,
          399,
          1999,
          1999,
          329,
          154,
          28999,
          2299,
          399,
          1149,
          529,
          13999,
          379,
          13999,
          3999,
          149,
          99,
          4790,
          33999,
          99,
          299,
          10999,
          34999,
          16999,
          199,
          999,
          1299,
          599,
          599,
          1799,
          176.63,
          10999,
          2999,
          1999,
          229,
          199,
          649,
          13999,
          119,
          12999,
          154,
          20999,
          249,
          99,
          489,
          369,
          15499,
          15499,
          22999,
          599,
          134,
          7499,
          1149,
          1324,
          13999,
          299,
          999,
          12999,
          15490,
          999,
          1599,
          1324,
          20999,
          999,
          12490,
          17999,
          350,
          1399,
          159,
          1499,
          1999,
          999,
          2099,
          337,
          2999,
          1299,
          349,
          16499,
          499,
          970,
          999,
          10499,
          249,
          251,
          199,
          6499,
          2999,
          279,
          269,
          8999,
          59,
          599,
          349,
          13999,
          349,
          499,
          2199,
          95,
          139,
          4499,
          89,
          15499,
          13999,
          1999,
          1399,
          599,
          199,
          1799,
          1499,
          20999,
          12999,
          16999,
          19999,
          12999,
          2999,
          299,
          970,
          329,
          1299,
          1989,
          1999,
          12999,
          1499,
          16999,
          1999,
          4999,
          99,
          2499,
          1399,
          1499,
          899,
          249,
          299,
          79,
          13999,
          949,
          99,
          2499,
          689,
          499,
          299,
          209,
          8499,
          2179,
          16999,
          44999,
          2599,
          2799,
          1399,
          649,
          799,
          149,
          799,
          3799,
          199,
          23999,
          29990,
          281,
          7998,
          249,
          299,
          499,
          899,
          1599,
          120,
          3999,
          12999,
          1599,
          699,
          99,
          7915,
          1499,
          1055,
          150,
          219,
          474,
          115,
          239,
          7499,
          265,
          37990,
          199,
          179,
          1799,
          8499,
          1999,
          3999,
          219,
          599,
          2499,
          89,
          2999,
          314,
          13999,
          139,
          2599,
          365,
          1499,
          1998,
          1799,
          289,
          599,
          217,
          1299,
          263,
          569,
          1999,
          1399,
          349,
          149,
          599,
          1220,
          1499,
          499,
          99,
          349,
          475,
          269,
          299,
          1599,
          1499,
          329,
          549,
          2199,
          299,
          798,
          399,
          266,
          50,
          130,
          449,
          3999,
          399,
          1399,
          199,
          199,
          2998,
          4098,
          499,
          299,
          329,
          699,
          799,
          1399,
          154,
          519,
          2299,
          399,
          1499,
          1295,
          1889,
          455,
          399,
          1059,
          149,
          717,
          99,
          39,
          889,
          1199,
          569,
          1499,
          149,
          399,
          191,
          129,
          199,
          999,
          899,
          1799,
          176.63,
          522,
          799,
          681,
          1199,
          2499,
          1799,
          429,
          100,
          329,
          229,
          139,
          1199,
          1049,
          119,
          154,
          225,
          656,
          1109,
          2999,
          169,
          309,
          599,
          299,
          449,
          799,
          219,
          157,
          369,
          599,
          479,
          350,
          1598,
          599,
          159,
          1299,
          1599,
          294,
          828,
          745,
          1549,
          349,
          970,
          1469,
          198,
          549,
          2999,
          12000,
          1299,
          269,
          799,
          6299,
          59,
          571,
          549,
          2099,
          13490,
          448,
          1499,
          299,
          579,
          2499,
          1199,
          399,
          279,
          13490,
          279,
          2499,
          137,
          59,
          299,
          1799,
          1999,
          199,
          399,
          1699,
          699,
          95,
          1149,
          1495,
          849,
          440,
          349,
          599,
          149,
          289,
          179,
          1499,
          399,
          599,
          949,
          2499,
          159,
          1329,
          570,
          899,
          449,
          549,
          1529,
          100,
          299,
          1295,
          699,
          252,
          190,
          1299,
          729,
          480,
          1799,
          999,
          299,
          238,
          1349,
          299,
          199,
          1999,
          99,
          499,
          1792,
          3299,
          125,
          399,
          1199,
          235,
          549,
          89,
          970,
          1299,
          230,
          119,
          449,
          1699,
          561,
          289,
          599,
          5599,
          1990,
          499,
          449,
          999,
          69,
          899,
          478,
          1399,
          199,
          149,
          1799,
          425,
          999,
          378,
          99,
          1499,
          1815,
          67,
          1889,
          499,
          499,
          5799,
          499,
          249,
          179,
          4449,
          299,
          629,
          2595,
          389,
          1799,
          90,
          599,
          1999,
          2099,
          179,
          1345,
          349,
          287,
          599,
          349,
          879,
          199,
          250,
          199,
          899,
          199,
          149,
          469,
          1187,
          849,
          328,
          269,
          299,
          549,
          114,
          120,
          970,
          209,
          1490,
          99,
          149,
          575,
          333,
          178,
          1599,
          499,
          199,
          2499,
          199,
          939,
          2499,
          1439,
          1099,
          157,
          999,
          115,
          175,
          1999,
          3999,
          899,
          299,
          3303,
          1890,
          90,
          1599,
          599,
          507,
          425,
          1499,
          549,
          199,
          1295,
          310,
          149,
          1149,
          499,
          999,
          1709,
          250,
          1199,
          90,
          2025,
          1495,
          799,
          899,
          349,
          900,
          2490,
          116,
          200,
          1249,
          649,
          2649,
          199,
          596,
          2499,
          4999,
          399,
          116,
          4499,
          330,
          649,
          1234,
          1399,
          272,
          99,
          3498,
          10099,
          449,
          150,
          348,
          1199,
          397,
          154,
          699,
          1679,
          354,
          1199,
          379,
          499,
          10389,
          649,
          1199,
          139,
          889,
          1409,
          549,
          749,
          329,
          379,
          5998,
          299,
          379,
          1399,
          699,
          300,
          999,
          535,
          13999,
          269,
          341,
          2499,
          349,
          5899,
          699,
          1565,
          326,
          120,
          657,
          1995,
          1500,
          2640,
          5299,
          263,
          1990,
          1289,
          165,
          1699,
          2299,
          219,
          39,
          26999,
          1490,
          398,
          349,
          770,
          279,
          249,
          115,
          230,
          399,
          599,
          598,
          399,
          499,
          199,
          579,
          179,
          90,
          899,
          1149,
          249,
          39,
          1599,
          1199,
          209,
          1099,
          120,
          1519,
          420,
          225,
          199,
          1799,
          8349,
          3307,
          325,
          449,
          380,
          499,
          37247,
          849,
          799,
          2599,
          199,
          269,
          298,
          1499,
          649,
          1199,
          1199,
          455,
          199,
          293,
          199,
          749,
          1399,
          749,
          1699,
          1043,
          499,
          1464,
          249,
          625,
          1290,
          3600,
          6549,
          1625,
          2599,
          1199,
          5499,
          1299,
          599,
          1999,
          549,
          999,
          398,
          539,
          699,
          2148,
          3599,
          351,
          1614,
          719,
          678,
          809,
          1969,
          1490,
          2499,
          1665,
          3229,
          1799,
          1260,
          749,
          3499,
          379,
          1099,
          749,
          1299,
          549,
          899,
          1321,
          1099,
          775,
          6299,
          3190,
          799,
          2699,
          599,
          749,
          6199,
          1819,
          1199,
          3249,
          349,
          1049,
          799,
          4999,
          6999,
          799,
          89,
          1400,
          355,
          2169,
          2799,
          899,
          2499,
          3599,
          499,
          653,
          4789,
          1409,
          753,
          353,
          1099,
          8799,
          1345,
          2095,
          1498,
          2199,
          3699,
          177,
          1149,
          244,
          1959,
          319,
          1499,
          469,
          1099,
          9590,
          999,
          1299,
          292,
          160,
          600,
          1130,
          3249,
          3599,
          368,
          3199,
          1599,
          1999,
          616,
          1499,
          199,
          610,
          999,
          8999,
          453,
          2464,
          2719,
          1439,
          2799,
          2088,
          2399,
          308,
          2599,
          479,
          245,
          179,
          3569,
          699,
          2089,
          2339,
          784,
          5499,
          899,
          1695,
          499,
          2699,
          1448,
          79,
          6990,
          2698,
          3199,
          1199,
          1414,
          999,
          5999,
          9970,
          698,
          2199,
          320,
          298,
          1199,
          1399,
          599,
          1499,
          14400,
          1699,
          649,
          3249,
          199,
          1099,
          664,
          260,
          6499,
          1484,
          999,
          3299,
          259,
          3249,
          4280,
          189,
          1449,
          199,
          474,
          279,
          1999,
          799,
          949,
          3657.66,
          1699,
          1849,
          12499,
          1099,
          8199,
          499,
          6999,
          1595,
          1049,
          1182,
          499,
          8799,
          1529,
          1199,
          1052,
          6499,
          239,
          699,
          2599,
          1547,
          499,
          510,
          1899,
          2599,
          1199,
          999,
          1999,
          210,
          14499,
          950,
          7199,
          2439,
          7799,
          1599,
          2899,
          9799,
          3299,
          669,
          5890,
          9199,
          351,
          899,
          1349,
          6236,
          2742,
          721,
          2903,
          1656,
          1399,
          2079,
          999,
          3179,
          1049,
          3599,
          4799,
          1699,
          664,
          948,
          850,
          600,
          3711,
          799,
          980,
          351,
          229,
          3349,
          5499,
          299,
          2249,
          699,
          1235,
          1349,
          6800,
          2099,
          1699,
          1069,
          1349,
          1499,
          2092,
          3859,
          499,
          1804,
          6525,
          4999,
          1189,
          2590,
          899,
          998,
          998.06,
          1099,
          5999,
          8886,
          475,
          4995,
          13999,
          8499,
          949,
          395,
          635,
          717,
          27900,
          649,
          193,
          1299,
          2449,
          1049,
          2399,
          2286,
          499,
          429,
          299,
          5395,
          559,
          660,
          419,
          7349,
          2899,
          1799,
          1474,
          15999,
          3645,
          375,
          2976,
          1099,
          2575,
          1649,
          799,
          765,
          999,
          587,
          12609,
          699,
          3799,
          640,
          979,
          5365,
          3199,
          979,
          929,
          3710,
          2033,
          9495,
          7799,
          949,
          2790,
          645,
          2237.81,
          8699,
          42990,
          825,
          161,
          697,
          688,
          2199,
          6850,
          2699,
          899,
          1090,
          295,
          479,
          2949,
          335,
          293,
          599,
          499,
          849,
          249,
          185,
          778,
          279,
          215,
          889,
          1449,
          1190,
          1799,
          6120,
          1799,
          2199,
          3685,
          649,
          8599,
          1110,
          1499,
          759,
          2669,
          929,
          199,
          279,
          549,
          85,
          499,
          5865,
          1260,
          1099,
          1928,
          3249,
          1199,
          1456,
          3349,
          4899,
          1199,
          3290,
          179,
          149,
          5490,
          379,
          8699,
          3041.67,
          1745,
          3180,
          4999,
          390,
          1999,
          1624,
          184,
          445,
          699,
          1601,
          231,
          369,
          809,
          1199,
          6120,
          1799,
          18999,
          1999,
          5999,
          2599,
          1199,
          219,
          799,
          6199,
          6790,
          1982.84,
          199,
          1180,
          2199,
          2999,
          253,
          499,
          1149,
          457,
          229,
          199,
          899,
          1499,
          426,
          2320,
          1563,
          3487.77,
          498,
          2695,
          949,
          199,
          379,
          2280,
          2219,
          1399,
          2863
         ],
         "xaxis": "x",
         "y": [
          4.2,
          4,
          3.9,
          4.2,
          4.2,
          3.9,
          4.1,
          4.3,
          4.2,
          4,
          4.3,
          4.2,
          4.4,
          4.2,
          4.1,
          4.4,
          4.2,
          4,
          4.1,
          4.3,
          4.5,
          3.7,
          4.3,
          4,
          4.3,
          4.2,
          4.2,
          4,
          4.4,
          4.3,
          4.5,
          4,
          4.3,
          4.3,
          3.9,
          3.9,
          4.4,
          4,
          4.2,
          4.2,
          4.5,
          4.3,
          4.2,
          4.3,
          4,
          3.3,
          4.1,
          4.4,
          3.6,
          4.2,
          4.4,
          4.2,
          4.3,
          4.2,
          4.1,
          3.7,
          4.2,
          4.2,
          4.2,
          4.3,
          3.7,
          4.3,
          4,
          4.2,
          4.2,
          4.4,
          4.1,
          4.3,
          4.2,
          4.3,
          4.5,
          4.1,
          4.2,
          4,
          4.1,
          4.1,
          4,
          4.1,
          3.9,
          4,
          4.2,
          4,
          3.4,
          4.4,
          4.2,
          4.2,
          4.3,
          4.3,
          4.5,
          4.2,
          3.6,
          4.2,
          4.2,
          4.1,
          4.2,
          3.7,
          3.8,
          3.7,
          4.5,
          4.1,
          4.3,
          4.3,
          4,
          4.2,
          4.2,
          4.3,
          4.2,
          4.3,
          4.3,
          3.9,
          4.1,
          4.3,
          4.3,
          4.1,
          4.5,
          4.1,
          3.6,
          3.5,
          4,
          3.8,
          4.4,
          3.7,
          4.3,
          4.1,
          4.2,
          4.1,
          4.3,
          4.2,
          4.2,
          4.4,
          4.3,
          4.3,
          4,
          3.9,
          4.2,
          4.3,
          3.9,
          4.6,
          3.9,
          4.3,
          4.1,
          4.4,
          3.2,
          4.2,
          4.2,
          3.7,
          4.5,
          4.2,
          4.2,
          4.2,
          4.1,
          4.3,
          4.3,
          4.3,
          3.4,
          4.3,
          4.4,
          3.9,
          4.1,
          3.9,
          4,
          4.3,
          4,
          3.9,
          4.5,
          3.9,
          4.2,
          4,
          4.3,
          4,
          4.4,
          4.3,
          4,
          4.3,
          5,
          3.7,
          4,
          4.1,
          4,
          3.3,
          3.8,
          4.1,
          4.1,
          4.4,
          4.3,
          4.3,
          4.4,
          4.3,
          3.9,
          4.2,
          4.2,
          4.1,
          4.3,
          3.7,
          4.1,
          3.9,
          4,
          4.2,
          4.4,
          4.1,
          4.3,
          3.8,
          4.4,
          4,
          4.4,
          4,
          4.2,
          3.9,
          3.7,
          3.6,
          4,
          3.5,
          4.5,
          4.2,
          3.8,
          3.8,
          4.1,
          4.3,
          4.4,
          3.9,
          4.2,
          3.8,
          4.1,
          4.1,
          4.3,
          3.7,
          4,
          4.2,
          4.1,
          4.3,
          4.4,
          4.3,
          4.3,
          3.5,
          3.9,
          4.5,
          3.4,
          4,
          4,
          4.4,
          4,
          4.3,
          4,
          4.2,
          3.8,
          4.4,
          3.9,
          4.2,
          3.9,
          4.7,
          3.6,
          3.7,
          4.2,
          4,
          3.6,
          4.3,
          4.2,
          4.3,
          4.2,
          4.2,
          4.4,
          4.2,
          4.4,
          3,
          4.5,
          4.3,
          4.2,
          4.4,
          4,
          3.8,
          4.3,
          4.2,
          4.1,
          4,
          4.2,
          3.3,
          4.3,
          3.8,
          4.2,
          3.7,
          4.3,
          3.9,
          3,
          4.3,
          3.5,
          3.9,
          4,
          4.3,
          3.8,
          4.3,
          3.3,
          4.5,
          4.1,
          4.2,
          4.1,
          4.4,
          4.2,
          3.9,
          4,
          4.5,
          3.7,
          4.2,
          4.2,
          4.2,
          4.3,
          4.4,
          4.2,
          4.3,
          3.7,
          4.3,
          4.2,
          4.4,
          3.5,
          4.1,
          4.3,
          4.2,
          4,
          3.9,
          3.3,
          3.8,
          4,
          4.3,
          3.9,
          4.2,
          5,
          4.1,
          3.9,
          4.2,
          4.3,
          3.8,
          4.3,
          4.4,
          4.3,
          4.3,
          4.2,
          4.3,
          3.8,
          4.3,
          4,
          4.3,
          4.3,
          4,
          4,
          4.4,
          4.1,
          4,
          3.9,
          4.1,
          4.2,
          3.9,
          4,
          4,
          4.1,
          4.4,
          4.2,
          4.3,
          4.3,
          3.9,
          4.4,
          4,
          4.2,
          4.1,
          4.4,
          4.1,
          4.2,
          4.2,
          4.1,
          4,
          4.2,
          4.2,
          4.1,
          4.1,
          4.2,
          4,
          4.3,
          4.3,
          4.1,
          4,
          4.1,
          3.9,
          4.2,
          4,
          4.4,
          4.2,
          3.8,
          4.3,
          4.2,
          3.9,
          4.4,
          4,
          4,
          3.8,
          4.2,
          4.2,
          4.4,
          4.2,
          4,
          4.3,
          4.1,
          4.1,
          4.1,
          4.1,
          4.4,
          3.9,
          4.3,
          4,
          4.3,
          4,
          3.6,
          4.1,
          4.2,
          4.1,
          4.1,
          4,
          4,
          3.5,
          4.3,
          4.1,
          4.1,
          4.1,
          4.1,
          3.8,
          4.3,
          4,
          4.2,
          4.1,
          4.1,
          4.1,
          4.3,
          3.9,
          4,
          4.5,
          4,
          4,
          4.1,
          4.1,
          3.9,
          4.1,
          4.1,
          4,
          4.3,
          4,
          4.1,
          4.2,
          4,
          4.1,
          4.2,
          4.6,
          4,
          4,
          4.3,
          4.3,
          4.2,
          4,
          4.2,
          4,
          4.1,
          3.9,
          3.8,
          4.7,
          4.3,
          4.2,
          4.1,
          3.3,
          4.4,
          4,
          4.2,
          4.5,
          4.6,
          4.2,
          4,
          3.7,
          4.1,
          4.1,
          4.2,
          4.2,
          4.5,
          3.8,
          4,
          4.1,
          3.8,
          4.1,
          3.8,
          4.2,
          4.2,
          4.2,
          4,
          3.5,
          4.3,
          4.1,
          3.9,
          3.9,
          3.3,
          4,
          4,
          4,
          3.9,
          4.3,
          4.1,
          4.1,
          4.3,
          4.1,
          4.1,
          4.3,
          4.4,
          4.2,
          3.3,
          4.4,
          4.3,
          4.1,
          4,
          4.1,
          4.3,
          3.8,
          3.9,
          3.7,
          4,
          4.2,
          4.4,
          3.9,
          4.5,
          4.2,
          3.9,
          4.2,
          4.1,
          4.1,
          4.3,
          4.1,
          4.3,
          3.6,
          4.1,
          4,
          4.1,
          4.3,
          3.9,
          4.1,
          4.1,
          4.4,
          3.8,
          4.3,
          4.3,
          3.5,
          4,
          3.9,
          4.3,
          2.8,
          3.8,
          4.5,
          4.3,
          4.1,
          3,
          4,
          3.9,
          4.1,
          4.1,
          4.3,
          4,
          4.4,
          4.3,
          4.2,
          3.8,
          4.3,
          4.3,
          4.3,
          4,
          3.9,
          4.1,
          3.7,
          4.2,
          4.1,
          4,
          4.6,
          3.9,
          4,
          4.3,
          4.4,
          4.1,
          4.1,
          4.1,
          4.4,
          4.5,
          4.1,
          4.2,
          4.5,
          4.1,
          3.9,
          4.3,
          3.8,
          4.3,
          4.4,
          3.8,
          3.8,
          3.5,
          4.4,
          4.1,
          4.1,
          4.3,
          3.5,
          4.1,
          4.1,
          3.9,
          3.9,
          4.1,
          4,
          4.2,
          4.3,
          4.1,
          4,
          4.2,
          3.9,
          4.3,
          4.2,
          4.5,
          4,
          4.2,
          4.5,
          4.3,
          3.9,
          4.1,
          4.3,
          4.2,
          4.2,
          4,
          3.9,
          4.1,
          4.5,
          3.7,
          3.5,
          4.2,
          3.5,
          4.3,
          3.9,
          4.2,
          4.3,
          4.2,
          4,
          4.1,
          4.5,
          4.2,
          4.1,
          3.9,
          4.3,
          3.9,
          4,
          4,
          3.5,
          4.3,
          3.8,
          4.4,
          3.7,
          4.4,
          4.4,
          4.4,
          4.2,
          4.5,
          3.8,
          3.8,
          4.1,
          4.1,
          4.4,
          3.8,
          4.2,
          4.1,
          4.4,
          4.1,
          4.1,
          3.5,
          3.6,
          4.3,
          3.8,
          4,
          3.9,
          4.1,
          4.3,
          4.4,
          4.3,
          4.3,
          4.1,
          4.4,
          4.4,
          3.8,
          3.8,
          4,
          4.4,
          4.4,
          4.5,
          4,
          4,
          4.3,
          4.2,
          3.8,
          4.3,
          4.1,
          4.3,
          4,
          4.3,
          4.2,
          4,
          4.4,
          4.4,
          4.5,
          4.2,
          4.1,
          4.5,
          4.2,
          4.3,
          3.9,
          4.5,
          4.1,
          4.2,
          3.8,
          4.3,
          3.9,
          4.3,
          4.3,
          3.9,
          3.7,
          4.2,
          4.3,
          4.2,
          3.9,
          4.3,
          3.7,
          4.3,
          4.3,
          3.9,
          4.4,
          4,
          4.5,
          3.9,
          4.3,
          4.2,
          4.1,
          4.2,
          4.5,
          4.2,
          4.2,
          4.3,
          4,
          4.5,
          3.8,
          3.9,
          4,
          4.1,
          3.4,
          4,
          3.4,
          4.3,
          3.9,
          4.1,
          4.3,
          4.5,
          4.2,
          4.1,
          4.4,
          4.3,
          4.3,
          4.3,
          4.2,
          4.1,
          4.1,
          4.5,
          4.4,
          4.3,
          4.3,
          4.3,
          4,
          4.3,
          4,
          4.4,
          4,
          4.3,
          3.3,
          3.7,
          4.1,
          5,
          4.5,
          3.9,
          4.4,
          4.1,
          3.6,
          3.8,
          3.6,
          4.2,
          4.4,
          3.8,
          4.2,
          4.3,
          4.4,
          4.1,
          4.4,
          4.4,
          4.4,
          4.4,
          4.3,
          4.3,
          4.3,
          4.2,
          4.3,
          4.2,
          3.8,
          4.3,
          4.5,
          4.1,
          4.2,
          4,
          4.1,
          4.1,
          4.3,
          4.5,
          4.5,
          4.1,
          4.3,
          3.6,
          4.4,
          4.5,
          3.9,
          4,
          4,
          4.4,
          4.6,
          4.4,
          4.4,
          4.3,
          4.3,
          4.4,
          4,
          4.2,
          3.8,
          4.1,
          4.2,
          4.2,
          4.4,
          4.3,
          4.1,
          4.4,
          3.9,
          3.9,
          3.6,
          4.4,
          4,
          3.5,
          4.1,
          4.1,
          4,
          4.1,
          4,
          3.8,
          4.3,
          4.2,
          4.1,
          4.2,
          4.5,
          4.6,
          4.3,
          4,
          4.2,
          3.3,
          4.3,
          3.7,
          3.9,
          4.3,
          4.1,
          4.2,
          4.5,
          4,
          4.5,
          3.5,
          4.5,
          4.3,
          3.3,
          4.1,
          3.8,
          3.5,
          4.1,
          4.5,
          4.4,
          4.1,
          4.3,
          3.6,
          4,
          4.1,
          4.5,
          4.2,
          4.3,
          4.2,
          4.6,
          4.5,
          4.3,
          4.1,
          4.5,
          3.5,
          4.4,
          4.2,
          4.4,
          4.4,
          4.2,
          4.5,
          4.3,
          3.8,
          3.9,
          4,
          4.1,
          4.4,
          4.4,
          4.4,
          3.5,
          4.5,
          4.1,
          4.4,
          4.1,
          4.2,
          4.2,
          4.3,
          4.3,
          3.7,
          3.9,
          4.5,
          4.1,
          4,
          3.8,
          3.4,
          4.3,
          4.3,
          4.3,
          4.2,
          4.1,
          4,
          4.3,
          4,
          4.1,
          4,
          3.8,
          4.2,
          4.3,
          4.4,
          4.1,
          4.5,
          4,
          4.2,
          3.9,
          4.3,
          4,
          4.2,
          4.3,
          4.2,
          4.2,
          4.1,
          4.3,
          4.3,
          4.2,
          4.5,
          4.4,
          4.2,
          4.1,
          4.3,
          4.4,
          4.1,
          3.6,
          4,
          4,
          4.4,
          3.9,
          4.3,
          4.6,
          4.4,
          4.5,
          3.9,
          4.1,
          4.3,
          4.5,
          4.5,
          3.6,
          4.1,
          4.3,
          3.8,
          4.6,
          4.1,
          4,
          4.5,
          4.3,
          4,
          4.5,
          4,
          4.5,
          4.1,
          4.3,
          4.1,
          4,
          4.1,
          4.1,
          4.4,
          4,
          4.1,
          4.4,
          4.3,
          4.2,
          3.6,
          4.2,
          4.2,
          3.9,
          4.2,
          4.5,
          4.3,
          4.2,
          4.1,
          4.1,
          4.6,
          3.8,
          4.3,
          4.2,
          4.2,
          4.4,
          3.9,
          4,
          4.2,
          3.7,
          4.5,
          4.5,
          3.6,
          4.3,
          4.1,
          3.9,
          3.6,
          4,
          4.1,
          3.7,
          3.9,
          4.1,
          3.9,
          3.9,
          3.9,
          3.8,
          3.8,
          4.1,
          4.1,
          3.3,
          4.2,
          4,
          4.3,
          4,
          4.5,
          4.1,
          4,
          4.2,
          3.8,
          4.2,
          4.2,
          3.6,
          3.8,
          4.1,
          4.1,
          4.1,
          4.1,
          4.2,
          4,
          4.3,
          4.2,
          4.2,
          3.7,
          4.1,
          4.4,
          3.8,
          4,
          4.2,
          3.8,
          4.2,
          4,
          3.9,
          4.3,
          3.8,
          4,
          4.2,
          4.2,
          3.6,
          4.3,
          4,
          4.2,
          4.1,
          4,
          4.3,
          4,
          3.9,
          4.2,
          4.1,
          4.4,
          4,
          3.8,
          4,
          3.1,
          4.3,
          4.2,
          4.4,
          4.1,
          4.2,
          4.1,
          4.1,
          4.1,
          3.9,
          3.9,
          3.8,
          4,
          4.2,
          4.1,
          4.3,
          3.7,
          4.2,
          4.3,
          4.3,
          4.4,
          3.8,
          4.5,
          3.8,
          3.8,
          4.1,
          4.1,
          3.8,
          3.3,
          4,
          4.6,
          3.9,
          3.7,
          4.2,
          4.1,
          4.1,
          3.8,
          4.1,
          4.6,
          4.1,
          4.2,
          3.9,
          4.1,
          4.1,
          4,
          3.7,
          4.1,
          4.1,
          4.1,
          3.3,
          4.1,
          4.1,
          4.4,
          4.3,
          4.1,
          3.7,
          4.8,
          4.5,
          4,
          4.1,
          3.9,
          4.1,
          4.2,
          4.1,
          3.5,
          4.3,
          3.9,
          4.2,
          3.8,
          4.5,
          3.8,
          4.1,
          4.2,
          4.1,
          4.2,
          4.5,
          4,
          4.4,
          4,
          4,
          3.9,
          4,
          3.8,
          4.2,
          4.3,
          4.2,
          4.3,
          4.2,
          4.4,
          3.8,
          4.1,
          3.9,
          4.3,
          4.4,
          3.6,
          3.8,
          4,
          4.1,
          4.3,
          4,
          3.9,
          4.4,
          3.7,
          3.6,
          3.7,
          4,
          4.2,
          3.8,
          4.2,
          3.9,
          4,
          4.1,
          4.8,
          4.2,
          4.1,
          4,
          3.9,
          4.1,
          4.3,
          4.1,
          4.2,
          3.9,
          3.7,
          4.1,
          4,
          3.8,
          4.2,
          4.6,
          4.1,
          3.3,
          4.2,
          4.3,
          4.3,
          4.3,
          4.7,
          4.4,
          3.9,
          4.7,
          4.1,
          3.8,
          4.4,
          4.3,
          3.4,
          4.2,
          3.7,
          4.3,
          4.3,
          4.4,
          4.1,
          4,
          4.4,
          3.8,
          4.3,
          3.8,
          2.3,
          4.5,
          4,
          3.7,
          4,
          4.4,
          4.1,
          4.4,
          3.1,
          4.3,
          4.4,
          4.4,
          4.1,
          4.1,
          4,
          3.6,
          3.9,
          3.9,
          3.8,
          4.1,
          4.1,
          4.1,
          3.8,
          4.3,
          4.5,
          4.2,
          3.9,
          3.5,
          4.3,
          3.9,
          3.9,
          4,
          4.7,
          4.1,
          3.8,
          4.1,
          3.9,
          4.1,
          3.9,
          3.8,
          4.1,
          4.3,
          3.9,
          2.8,
          4,
          4.5,
          4.6,
          4.1,
          4.1,
          3.4,
          4.6,
          4.2,
          3.9,
          4.2,
          4.2,
          4.1,
          4.8,
          4.4,
          4.3,
          4.3,
          4,
          4.3,
          4,
          4.4,
          4.1,
          3.6,
          2,
          4,
          3.7,
          3.8,
          3.9,
          3.1,
          3,
          4,
          4.4,
          4.1,
          3.6,
          4.4,
          4.2,
          4.3,
          3.8,
          4.1,
          4,
          4.2,
          3.6,
          4.2,
          4.1,
          4.2,
          3.9,
          4,
          4.2,
          4.2,
          4.1,
          4.4,
          4.1,
          4.2,
          4.1,
          3.9,
          3.9,
          4.2,
          4.2,
          3.7,
          3.7,
          3.4,
          4.2,
          4,
          4.1,
          3.9,
          4,
          3.9,
          4.2,
          4.3,
          4,
          2.6,
          3.8,
          4.5,
          3.5,
          3.9,
          4,
          4,
          3.5,
          4,
          3.4,
          4.2,
          3.8,
          4.1,
          4.2,
          4.3,
          4.2,
          4.1,
          3.9,
          3.3,
          4.3,
          3.9,
          4.3,
          3.6,
          3.8,
          3.9,
          4.6,
          3.8,
          3.9,
          4.1,
          3.6,
          4.4,
          4.3,
          4.7,
          4.3,
          3.9,
          3.9,
          3.7,
          3.5,
          4,
          4.1,
          3.9,
          4.4,
          4.3,
          4.5,
          4,
          3.9,
          4.2,
          4.1,
          3.7,
          4.1,
          4.2,
          4.3,
          3.6,
          4.1,
          4.5,
          4.2,
          4.3,
          4,
          4.2,
          4.2,
          4.5,
          3.8,
          4.4,
          4.1,
          4.2,
          4.3,
          4.1,
          4.2,
          4.1,
          3.9,
          3.9,
          3.8,
          4.6,
          3.6,
          4.1,
          4.2,
          4.3,
          3.9,
          3.9,
          4,
          4.4,
          4.2,
          4.5,
          4.1,
          4.1,
          4.2,
          4.2,
          4,
          4.3,
          3.6,
          3.5,
          4.3,
          3.6,
          2.9,
          4.2,
          4.4,
          4.1,
          3.8,
          3.5,
          4.1,
          3.2,
          4.4,
          3.6,
          3.1,
          4,
          4.1,
          3.6,
          4,
          4.3
         ],
         "yaxis": "y"
        },
        {
         "hovertemplate": "<b>OLS trendline</b><br>rating = 5.0555e-06 * discounted_price + 4.08065<br>R<sup>2</sup>=0.014493<br><br>discounted_price=%{x}<br>rating=%{y} <b>(trend)</b><extra></extra>",
         "legendgroup": "",
         "line": {
          "color": "red"
         },
         "marker": {
          "color": "#636efa",
          "symbol": "circle"
         },
         "mode": "lines",
         "name": "",
         "showlegend": false,
         "type": "scattergl",
         "x": [
          39,
          39,
          39,
          50,
          57.89,
          59,
          59,
          59,
          59,
          59,
          67,
          69,
          79,
          79,
          85,
          88,
          89,
          89,
          89,
          89,
          89,
          90,
          90,
          90,
          90,
          95,
          95,
          96,
          99,
          99,
          99,
          99,
          99,
          99,
          99,
          99,
          99,
          99,
          99,
          99,
          99,
          99,
          99,
          100,
          100,
          114,
          115,
          115,
          115,
          115,
          116,
          116,
          119,
          119,
          119,
          119,
          120,
          120,
          120,
          120,
          125,
          128.31,
          129,
          129,
          129,
          129,
          129,
          130,
          134,
          137,
          139,
          139,
          139,
          139,
          139,
          139,
          139,
          139,
          149,
          149,
          149,
          149,
          149,
          149,
          149,
          149,
          149,
          149,
          149,
          149,
          149,
          149,
          149,
          149,
          150,
          150,
          154,
          154,
          154,
          154,
          154,
          154,
          154,
          154,
          157,
          157,
          159,
          159,
          159,
          159,
          159,
          160,
          161,
          165,
          169,
          173,
          175,
          176.63,
          176.63,
          176.63,
          177,
          178,
          179,
          179,
          179,
          179,
          179,
          179,
          179,
          179,
          179,
          179,
          179,
          179,
          179,
          182,
          184,
          185,
          185,
          189,
          190,
          191,
          193,
          195,
          197,
          198,
          199,
          199,
          199,
          199,
          199,
          199,
          199,
          199,
          199,
          199,
          199,
          199,
          199,
          199,
          199,
          199,
          199,
          199,
          199,
          199,
          199,
          199,
          199,
          199,
          199,
          199,
          199,
          199,
          199,
          199,
          199,
          199,
          199,
          199,
          199,
          199,
          199,
          199,
          199,
          199,
          199,
          199,
          199,
          199,
          199,
          199,
          199,
          199,
          199,
          199,
          199,
          199,
          199,
          200,
          204,
          205,
          209,
          209,
          209,
          209,
          209,
          209,
          209,
          210,
          210,
          213,
          215,
          215,
          217,
          218,
          219,
          219,
          219,
          219,
          219,
          219,
          219,
          225,
          225,
          225,
          228,
          229,
          229,
          229,
          229,
          229,
          229,
          230,
          230,
          230,
          231,
          235,
          235,
          238,
          239,
          239,
          239,
          244,
          245,
          246,
          247,
          249,
          249,
          249,
          249,
          249,
          249,
          249,
          249,
          249,
          249,
          249,
          249,
          249,
          249,
          249,
          249,
          249,
          250,
          250,
          251,
          252,
          252,
          253,
          254,
          259,
          259,
          260,
          263,
          263,
          263,
          265,
          266,
          269,
          269,
          269,
          269,
          269,
          269,
          269,
          269,
          272,
          273.1,
          279,
          279,
          279,
          279,
          279,
          279,
          279,
          279,
          281,
          287,
          289,
          289,
          289,
          290,
          292,
          293,
          293,
          294,
          295,
          298,
          298,
          299,
          299,
          299,
          299,
          299,
          299,
          299,
          299,
          299,
          299,
          299,
          299,
          299,
          299,
          299,
          299,
          299,
          299,
          299,
          299,
          299,
          299,
          299,
          299,
          299,
          299,
          299,
          299,
          299,
          299,
          299,
          299,
          299,
          299,
          299,
          299,
          299,
          299,
          299,
          299,
          299,
          299,
          299,
          299,
          299,
          299,
          300,
          308,
          309,
          309,
          309,
          310,
          314,
          319,
          320,
          320,
          325,
          325,
          325,
          325,
          326,
          328,
          329,
          329,
          329,
          329,
          329,
          329,
          329,
          329,
          330,
          333,
          333,
          335,
          337,
          339,
          339,
          339,
          339,
          341,
          345,
          347,
          348,
          348,
          349,
          349,
          349,
          349,
          349,
          349,
          349,
          349,
          349,
          349,
          349,
          349,
          349,
          349,
          349,
          349,
          349,
          349,
          349,
          349,
          349,
          349,
          349,
          349,
          349,
          349,
          349,
          349,
          349,
          349,
          349,
          350,
          350,
          350,
          350,
          351,
          351,
          351,
          353,
          354,
          355,
          365,
          368,
          368,
          369,
          369,
          369,
          369,
          375,
          378,
          379,
          379,
          379,
          379,
          379,
          379,
          379,
          379,
          379,
          379,
          380,
          389,
          389,
          389,
          390,
          395,
          397,
          398,
          398,
          399,
          399,
          399,
          399,
          399,
          399,
          399,
          399,
          399,
          399,
          399,
          399,
          399,
          399,
          399,
          399,
          399,
          399,
          399,
          399,
          399,
          399,
          399,
          399,
          399,
          399,
          399,
          399,
          399,
          399,
          399,
          399,
          399,
          399,
          399,
          399,
          416,
          417.44,
          419,
          420,
          425,
          425,
          426,
          429,
          429,
          439,
          440,
          445,
          448,
          449,
          449,
          449,
          449,
          449,
          449,
          449,
          449,
          449,
          449,
          453,
          455,
          455,
          457,
          467,
          469,
          469,
          474,
          474,
          475,
          475,
          478,
          479,
          479,
          479,
          480,
          486,
          489,
          489,
          498,
          499,
          499,
          499,
          499,
          499,
          499,
          499,
          499,
          499,
          499,
          499,
          499,
          499,
          499,
          499,
          499,
          499,
          499,
          499,
          499,
          499,
          499,
          499,
          499,
          499,
          499,
          499,
          499,
          499,
          499,
          499,
          499,
          499,
          499,
          507,
          507,
          510,
          519,
          522,
          529,
          535,
          539,
          539,
          547,
          549,
          549,
          549,
          549,
          549,
          549,
          549,
          549,
          549,
          549,
          549,
          549,
          559,
          561,
          569,
          569,
          569,
          570,
          571,
          575,
          579,
          579,
          587,
          596,
          598,
          598,
          599,
          599,
          599,
          599,
          599,
          599,
          599,
          599,
          599,
          599,
          599,
          599,
          599,
          599,
          599,
          599,
          599,
          599,
          599,
          599,
          599,
          599,
          599,
          599,
          599,
          599,
          599,
          599,
          600,
          600,
          609,
          610,
          616,
          625,
          629,
          635,
          637,
          640,
          645,
          649,
          649,
          649,
          649,
          649,
          649,
          649,
          649,
          649,
          649,
          649,
          649,
          649,
          653,
          655,
          656,
          657,
          660,
          664,
          664,
          669,
          678,
          681,
          688,
          689,
          689,
          697,
          698,
          699,
          699,
          699,
          699,
          699,
          699,
          699,
          699,
          699,
          699,
          699,
          699,
          699,
          699,
          709,
          717,
          717,
          719,
          719,
          719,
          721,
          729,
          745,
          749,
          749,
          749,
          749,
          749,
          749,
          749,
          753,
          759,
          765,
          770,
          775,
          778,
          784,
          789,
          790,
          798,
          799,
          799,
          799,
          799,
          799,
          799,
          799,
          799,
          799,
          799,
          799,
          799,
          799,
          799,
          799,
          799,
          799,
          799,
          799,
          799,
          809,
          809,
          825,
          828,
          848.99,
          849,
          849,
          849,
          849,
          849,
          849,
          850,
          873,
          879,
          889,
          889,
          889,
          893,
          899,
          899,
          899,
          899,
          899,
          899,
          899,
          899,
          899,
          899,
          899,
          899,
          899,
          899,
          899,
          899,
          899,
          900,
          917,
          929,
          929,
          939,
          948,
          949,
          949,
          949,
          949,
          949,
          949,
          949,
          949,
          950,
          959,
          970,
          970,
          970,
          970,
          970,
          970,
          970,
          970,
          979,
          979,
          980,
          998,
          998.06,
          999,
          999,
          999,
          999,
          999,
          999,
          999,
          999,
          999,
          999,
          999,
          999,
          999,
          999,
          999,
          999,
          999,
          999,
          999,
          999,
          999,
          999,
          999,
          999,
          999,
          1043,
          1049,
          1049,
          1049,
          1049,
          1049,
          1052,
          1055,
          1059,
          1069,
          1075,
          1089,
          1090,
          1099,
          1099,
          1099,
          1099,
          1099,
          1099,
          1099,
          1099,
          1099,
          1099,
          1099,
          1099,
          1109,
          1110,
          1130,
          1149,
          1149,
          1149,
          1149,
          1149,
          1149,
          1149,
          1149,
          1180,
          1182,
          1187,
          1189,
          1190,
          1199,
          1199,
          1199,
          1199,
          1199,
          1199,
          1199,
          1199,
          1199,
          1199,
          1199,
          1199,
          1199,
          1199,
          1199,
          1199,
          1199,
          1199,
          1199,
          1199,
          1199,
          1199,
          1199,
          1219,
          1220,
          1234,
          1235,
          1249,
          1249,
          1260,
          1260,
          1289,
          1289,
          1290,
          1295,
          1295,
          1295,
          1299,
          1299,
          1299,
          1299,
          1299,
          1299,
          1299,
          1299,
          1299,
          1299,
          1299,
          1299,
          1299,
          1299,
          1299,
          1299,
          1321,
          1324,
          1324,
          1329,
          1345,
          1345,
          1349,
          1349,
          1349,
          1349,
          1369,
          1399,
          1399,
          1399,
          1399,
          1399,
          1399,
          1399,
          1399,
          1399,
          1399,
          1399,
          1399,
          1399,
          1399,
          1399,
          1400,
          1409,
          1409,
          1414,
          1434,
          1439,
          1439,
          1448,
          1449,
          1449,
          1456,
          1464,
          1469,
          1474,
          1484,
          1490,
          1490,
          1490,
          1495,
          1495,
          1498,
          1499,
          1499,
          1499,
          1499,
          1499,
          1499,
          1499,
          1499,
          1499,
          1499,
          1499,
          1499,
          1499,
          1499,
          1499,
          1499,
          1499,
          1499,
          1499,
          1499,
          1499,
          1499,
          1499,
          1499,
          1499,
          1499,
          1500,
          1519,
          1519,
          1529,
          1529,
          1547,
          1549,
          1563,
          1565,
          1595,
          1598,
          1599,
          1599,
          1599,
          1599,
          1599,
          1599,
          1599,
          1599,
          1599,
          1599,
          1599,
          1599,
          1599,
          1601,
          1614,
          1624,
          1625,
          1649,
          1656,
          1665,
          1679,
          1695,
          1699,
          1699,
          1699,
          1699,
          1699,
          1699,
          1699,
          1699,
          1699,
          1709,
          1745,
          1792,
          1799,
          1799,
          1799,
          1799,
          1799,
          1799,
          1799,
          1799,
          1799,
          1799,
          1799,
          1799,
          1799,
          1799,
          1799,
          1799,
          1799,
          1799,
          1799,
          1799,
          1799,
          1804,
          1815,
          1819,
          1849,
          1850,
          1889,
          1889,
          1890,
          1898,
          1899,
          1928,
          1959,
          1969,
          1982.84,
          1989,
          1990,
          1990,
          1990,
          1995,
          1998,
          1998,
          1999,
          1999,
          1999,
          1999,
          1999,
          1999,
          1999,
          1999,
          1999,
          1999,
          1999,
          1999,
          1999,
          1999,
          1999,
          1999,
          1999,
          1999,
          1999,
          1999,
          1999,
          2025,
          2033,
          2049,
          2079,
          2088,
          2089,
          2092,
          2095,
          2099,
          2099,
          2099,
          2099,
          2148,
          2169,
          2179,
          2199,
          2199,
          2199,
          2199,
          2199,
          2199,
          2199,
          2199,
          2219,
          2237.81,
          2249,
          2280,
          2286,
          2299,
          2299,
          2299,
          2299,
          2320,
          2339,
          2399,
          2399,
          2439,
          2449,
          2464,
          2490,
          2499,
          2499,
          2499,
          2499,
          2499,
          2499,
          2499,
          2499,
          2499,
          2499,
          2499,
          2499,
          2499,
          2575,
          2590,
          2595,
          2599,
          2599,
          2599,
          2599,
          2599,
          2599,
          2599,
          2599,
          2640,
          2649,
          2669,
          2695,
          2698,
          2699,
          2699,
          2699,
          2699,
          2719,
          2742,
          2790,
          2799,
          2799,
          2799,
          2863,
          2899,
          2899,
          2903,
          2949,
          2976,
          2998,
          2998,
          2999,
          2999,
          2999,
          2999,
          2999,
          2999,
          2999,
          2999,
          3041.67,
          3179,
          3180,
          3190,
          3199,
          3199,
          3199,
          3229,
          3249,
          3249,
          3249,
          3249,
          3249,
          3290,
          3299,
          3299,
          3299,
          3303,
          3307,
          3349,
          3349,
          3487.77,
          3498,
          3499,
          3569,
          3599,
          3599,
          3599,
          3599,
          3600,
          3645,
          3657.66,
          3685,
          3699,
          3710,
          3711,
          3799,
          3799,
          3859,
          3999,
          3999,
          3999,
          3999,
          3999,
          3999,
          4098,
          4280,
          4449,
          4499,
          4499,
          4699,
          4789,
          4790,
          4799,
          4899,
          4995,
          4999,
          4999,
          4999,
          4999,
          4999,
          5299,
          5365,
          5395,
          5490,
          5499,
          5499,
          5499,
          5599,
          5699,
          5799,
          5865,
          5890,
          5899,
          5998,
          5999,
          5999,
          5999,
          6120,
          6120,
          6199,
          6199,
          6236,
          6299,
          6299,
          6490,
          6499,
          6499,
          6499,
          6499,
          6499,
          6499,
          6499,
          6525,
          6549,
          6790,
          6800,
          6850,
          6990,
          6999,
          6999,
          6999,
          6999,
          7199,
          7299,
          7349,
          7390,
          7499,
          7499,
          7799,
          7799,
          7915,
          7998,
          7999,
          7999,
          8199,
          8349,
          8499,
          8499,
          8499,
          8499,
          8499,
          8599,
          8699,
          8699,
          8799,
          8799,
          8886,
          8990,
          8999,
          8999,
          8999,
          8999,
          8999,
          8999,
          9199,
          9490,
          9495,
          9499,
          9499,
          9590,
          9799,
          9970,
          9999,
          9999,
          10099,
          10389,
          10499,
          10499,
          10901,
          10990,
          10999,
          10999,
          11499,
          11990,
          12000,
          12490,
          12499,
          12499,
          12609,
          12999,
          12999,
          12999,
          12999,
          12999,
          12999,
          12999,
          12999,
          13490,
          13490,
          13490,
          13490,
          13990,
          13999,
          13999,
          13999,
          13999,
          13999,
          13999,
          13999,
          13999,
          13999,
          13999,
          13999,
          13999,
          14400,
          14499,
          14999,
          14999,
          15490,
          15490,
          15490,
          15499,
          15499,
          15499,
          15499,
          15990,
          15999,
          15999,
          16499,
          16499,
          16999,
          16999,
          16999,
          16999,
          16999,
          16999,
          17999,
          18499,
          18990,
          18999,
          18999,
          18999,
          19999,
          19999,
          19999,
          20990,
          20999,
          20999,
          20999,
          21990,
          21999,
          21999,
          22999,
          23999,
          23999,
          24499,
          24990,
          24999,
          24999,
          26999,
          26999,
          26999,
          27900,
          27999,
          28999,
          28999,
          28999,
          29990,
          29990,
          29999,
          29999,
          30990,
          30990,
          31999,
          32990,
          32990,
          32990,
          32999,
          32999,
          32999,
          33999,
          34999,
          35999,
          37247,
          37990,
          37999,
          42990,
          42999,
          44999,
          45999,
          46999,
          47990,
          47990,
          54990,
          61999,
          77990
         ],
         "xaxis": "x",
         "y": [
          4.080847681363647,
          4.080847681363647,
          4.080847681363647,
          4.0809032918136054,
          4.080943179672712,
          4.080948791272663,
          4.080948791272663,
          4.080948791272663,
          4.080948791272663,
          4.080948791272663,
          4.080989235236268,
          4.08099934622717,
          4.081049901181678,
          4.081049901181678,
          4.081080234154382,
          4.081095400640735,
          4.081100456136186,
          4.081100456136186,
          4.081100456136186,
          4.081100456136186,
          4.081100456136186,
          4.081105511631637,
          4.081105511631637,
          4.081105511631637,
          4.081105511631637,
          4.08113078910889,
          4.08113078910889,
          4.081135844604341,
          4.081151011090693,
          4.081151011090693,
          4.081151011090693,
          4.081151011090693,
          4.081151011090693,
          4.081151011090693,
          4.081151011090693,
          4.081151011090693,
          4.081151011090693,
          4.081151011090693,
          4.081151011090693,
          4.081151011090693,
          4.081151011090693,
          4.081151011090693,
          4.081151011090693,
          4.081156066586144,
          4.081156066586144,
          4.081226843522455,
          4.081231899017905,
          4.081231899017905,
          4.081231899017905,
          4.081231899017905,
          4.081236954513356,
          4.081236954513356,
          4.081252120999708,
          4.081252120999708,
          4.081252120999708,
          4.081252120999708,
          4.08125717649516,
          4.08125717649516,
          4.08125717649516,
          4.08125717649516,
          4.081282453972413,
          4.081299187662355,
          4.081302675954216,
          4.081302675954216,
          4.081302675954216,
          4.081302675954216,
          4.081302675954216,
          4.081307731449667,
          4.08132795343147,
          4.081343119917823,
          4.081353230908724,
          4.081353230908724,
          4.081353230908724,
          4.081353230908724,
          4.081353230908724,
          4.081353230908724,
          4.081353230908724,
          4.081353230908724,
          4.081403785863231,
          4.081403785863231,
          4.081403785863231,
          4.081403785863231,
          4.081403785863231,
          4.081403785863231,
          4.081403785863231,
          4.081403785863231,
          4.081403785863231,
          4.081403785863231,
          4.081403785863231,
          4.081403785863231,
          4.081403785863231,
          4.081403785863231,
          4.081403785863231,
          4.081403785863231,
          4.081408841358682,
          4.081408841358682,
          4.081429063340486,
          4.081429063340486,
          4.081429063340486,
          4.081429063340486,
          4.081429063340486,
          4.081429063340486,
          4.081429063340486,
          4.081429063340486,
          4.081444229826838,
          4.081444229826838,
          4.081454340817739,
          4.081454340817739,
          4.081454340817739,
          4.081454340817739,
          4.081454340817739,
          4.08145939631319,
          4.081464451808641,
          4.0814846737904436,
          4.081504895772247,
          4.08152511775405,
          4.081535228744952,
          4.081543469202536,
          4.081543469202536,
          4.081543469202536,
          4.081545339735853,
          4.081550395231304,
          4.081555450726754,
          4.081555450726754,
          4.081555450726754,
          4.081555450726754,
          4.081555450726754,
          4.081555450726754,
          4.081555450726754,
          4.081555450726754,
          4.081555450726754,
          4.081555450726754,
          4.081555450726754,
          4.081555450726754,
          4.081555450726754,
          4.0815706172131065,
          4.081580728204009,
          4.08158578369946,
          4.08158578369946,
          4.081606005681262,
          4.081611061176713,
          4.081616116672164,
          4.081626227663065,
          4.081636338653967,
          4.081646449644868,
          4.081651505140319,
          4.08165656063577,
          4.08165656063577,
          4.08165656063577,
          4.08165656063577,
          4.08165656063577,
          4.08165656063577,
          4.08165656063577,
          4.08165656063577,
          4.08165656063577,
          4.08165656063577,
          4.08165656063577,
          4.08165656063577,
          4.08165656063577,
          4.08165656063577,
          4.08165656063577,
          4.08165656063577,
          4.08165656063577,
          4.08165656063577,
          4.08165656063577,
          4.08165656063577,
          4.08165656063577,
          4.08165656063577,
          4.08165656063577,
          4.08165656063577,
          4.08165656063577,
          4.08165656063577,
          4.08165656063577,
          4.08165656063577,
          4.08165656063577,
          4.08165656063577,
          4.08165656063577,
          4.08165656063577,
          4.08165656063577,
          4.08165656063577,
          4.08165656063577,
          4.08165656063577,
          4.08165656063577,
          4.08165656063577,
          4.08165656063577,
          4.08165656063577,
          4.08165656063577,
          4.08165656063577,
          4.08165656063577,
          4.08165656063577,
          4.08165656063577,
          4.08165656063577,
          4.08165656063577,
          4.08165656063577,
          4.08165656063577,
          4.08165656063577,
          4.08165656063577,
          4.08165656063577,
          4.08165656063577,
          4.081661616131221,
          4.081681838113024,
          4.081686893608475,
          4.0817071155902775,
          4.0817071155902775,
          4.0817071155902775,
          4.0817071155902775,
          4.0817071155902775,
          4.0817071155902775,
          4.0817071155902775,
          4.081712171085728,
          4.081712171085728,
          4.08172733757208,
          4.081737448562983,
          4.081737448562983,
          4.081747559553884,
          4.081752615049335,
          4.0817576705447856,
          4.0817576705447856,
          4.0817576705447856,
          4.0817576705447856,
          4.0817576705447856,
          4.0817576705447856,
          4.0817576705447856,
          4.08178800351749,
          4.08178800351749,
          4.08178800351749,
          4.081803170003842,
          4.081808225499293,
          4.081808225499293,
          4.081808225499293,
          4.081808225499293,
          4.081808225499293,
          4.081808225499293,
          4.081813280994743,
          4.081813280994743,
          4.081813280994743,
          4.081818336490195,
          4.081838558471998,
          4.081838558471998,
          4.08185372495835,
          4.081858780453801,
          4.081858780453801,
          4.081858780453801,
          4.081884057931054,
          4.081889113426505,
          4.081894168921956,
          4.081899224417407,
          4.081909335408309,
          4.081909335408309,
          4.081909335408309,
          4.081909335408309,
          4.081909335408309,
          4.081909335408309,
          4.081909335408309,
          4.081909335408309,
          4.081909335408309,
          4.081909335408309,
          4.081909335408309,
          4.081909335408309,
          4.081909335408309,
          4.081909335408309,
          4.081909335408309,
          4.081909335408309,
          4.081909335408309,
          4.081914390903759,
          4.081914390903759,
          4.08191944639921,
          4.081924501894661,
          4.081924501894661,
          4.0819295573901115,
          4.081934612885562,
          4.081959890362816,
          4.081959890362816,
          4.0819649458582665,
          4.0819801123446195,
          4.0819801123446195,
          4.0819801123446195,
          4.081990223335521,
          4.081995278830972,
          4.082010445317324,
          4.082010445317324,
          4.082010445317324,
          4.082010445317324,
          4.082010445317324,
          4.082010445317324,
          4.082010445317324,
          4.082010445317324,
          4.082025611803676,
          4.082031172848672,
          4.082061000271832,
          4.082061000271832,
          4.082061000271832,
          4.082061000271832,
          4.082061000271832,
          4.082061000271832,
          4.082061000271832,
          4.082061000271832,
          4.082071111262733,
          4.0821014442354375,
          4.082111555226339,
          4.082111555226339,
          4.082111555226339,
          4.08211661072179,
          4.082126721712691,
          4.082131777208142,
          4.082131777208142,
          4.082136832703593,
          4.082141888199044,
          4.082157054685396,
          4.082157054685396,
          4.082162110180847,
          4.082162110180847,
          4.082162110180847,
          4.082162110180847,
          4.082162110180847,
          4.082162110180847,
          4.082162110180847,
          4.082162110180847,
          4.082162110180847,
          4.082162110180847,
          4.082162110180847,
          4.082162110180847,
          4.082162110180847,
          4.082162110180847,
          4.082162110180847,
          4.082162110180847,
          4.082162110180847,
          4.082162110180847,
          4.082162110180847,
          4.082162110180847,
          4.082162110180847,
          4.082162110180847,
          4.082162110180847,
          4.082162110180847,
          4.082162110180847,
          4.082162110180847,
          4.082162110180847,
          4.082162110180847,
          4.082162110180847,
          4.082162110180847,
          4.082162110180847,
          4.082162110180847,
          4.082162110180847,
          4.082162110180847,
          4.082162110180847,
          4.082162110180847,
          4.082162110180847,
          4.082162110180847,
          4.082162110180847,
          4.082162110180847,
          4.082162110180847,
          4.082162110180847,
          4.082162110180847,
          4.082162110180847,
          4.082162110180847,
          4.082162110180847,
          4.082167165676298,
          4.082207609639903,
          4.082212665135354,
          4.082212665135354,
          4.082212665135354,
          4.082217720630806,
          4.0822379426126085,
          4.082263220089862,
          4.082268275585313,
          4.082268275585313,
          4.082293553062566,
          4.082293553062566,
          4.082293553062566,
          4.082293553062566,
          4.082298608558018,
          4.082308719548919,
          4.08231377504437,
          4.08231377504437,
          4.08231377504437,
          4.08231377504437,
          4.08231377504437,
          4.08231377504437,
          4.08231377504437,
          4.08231377504437,
          4.082318830539821,
          4.082333997026173,
          4.082333997026173,
          4.082344108017074,
          4.082354219007976,
          4.082364329998877,
          4.082364329998877,
          4.082364329998877,
          4.082364329998877,
          4.082374440989779,
          4.082394662971582,
          4.082404773962484,
          4.0824098294579345,
          4.0824098294579345,
          4.082414884953385,
          4.082414884953385,
          4.082414884953385,
          4.082414884953385,
          4.082414884953385,
          4.082414884953385,
          4.082414884953385,
          4.082414884953385,
          4.082414884953385,
          4.082414884953385,
          4.082414884953385,
          4.082414884953385,
          4.082414884953385,
          4.082414884953385,
          4.082414884953385,
          4.082414884953385,
          4.082414884953385,
          4.082414884953385,
          4.082414884953385,
          4.082414884953385,
          4.082414884953385,
          4.082414884953385,
          4.082414884953385,
          4.082414884953385,
          4.082414884953385,
          4.082414884953385,
          4.082414884953385,
          4.082414884953385,
          4.082414884953385,
          4.082414884953385,
          4.082414884953385,
          4.082419940448836,
          4.082419940448836,
          4.082419940448836,
          4.082419940448836,
          4.082424995944287,
          4.082424995944287,
          4.082424995944287,
          4.082435106935188,
          4.082440162430639,
          4.0824452179260895,
          4.0824957728805975,
          4.08251093936695,
          4.08251093936695,
          4.0825159948624,
          4.0825159948624,
          4.0825159948624,
          4.0825159948624,
          4.0825463278351055,
          4.082561494321458,
          4.082566549816908,
          4.082566549816908,
          4.082566549816908,
          4.082566549816908,
          4.082566549816908,
          4.082566549816908,
          4.082566549816908,
          4.082566549816908,
          4.082566549816908,
          4.082566549816908,
          4.082571605312359,
          4.0826171047714155,
          4.0826171047714155,
          4.0826171047714155,
          4.082622160266867,
          4.082647437744121,
          4.082657548735022,
          4.082662604230473,
          4.082662604230473,
          4.0826676597259235,
          4.0826676597259235,
          4.0826676597259235,
          4.0826676597259235,
          4.0826676597259235,
          4.0826676597259235,
          4.0826676597259235,
          4.0826676597259235,
          4.0826676597259235,
          4.0826676597259235,
          4.0826676597259235,
          4.0826676597259235,
          4.0826676597259235,
          4.0826676597259235,
          4.0826676597259235,
          4.0826676597259235,
          4.0826676597259235,
          4.0826676597259235,
          4.0826676597259235,
          4.0826676597259235,
          4.0826676597259235,
          4.0826676597259235,
          4.0826676597259235,
          4.0826676597259235,
          4.0826676597259235,
          4.0826676597259235,
          4.0826676597259235,
          4.0826676597259235,
          4.0826676597259235,
          4.0826676597259235,
          4.0826676597259235,
          4.0826676597259235,
          4.0826676597259235,
          4.0826676597259235,
          4.0826676597259235,
          4.0826676597259235,
          4.0827536031485865,
          4.082760883062035,
          4.082768769634939,
          4.082773825130389,
          4.082799102607644,
          4.082799102607644,
          4.0828041581030945,
          4.082819324589447,
          4.082819324589447,
          4.082869879543955,
          4.082874935039405,
          4.082900212516659,
          4.082915379003011,
          4.082920434498462,
          4.082920434498462,
          4.082920434498462,
          4.082920434498462,
          4.082920434498462,
          4.082920434498462,
          4.082920434498462,
          4.082920434498462,
          4.082920434498462,
          4.082920434498462,
          4.0829406564802655,
          4.082950767471167,
          4.082950767471167,
          4.082960878462068,
          4.0830114334165755,
          4.083021544407478,
          4.083021544407478,
          4.083046821884731,
          4.083046821884731,
          4.083051877380182,
          4.083051877380182,
          4.083067043866534,
          4.083072099361985,
          4.083072099361985,
          4.083072099361985,
          4.083077154857436,
          4.083107487830141,
          4.083122654316493,
          4.083122654316493,
          4.083168153775549,
          4.083173209271,
          4.083173209271,
          4.083173209271,
          4.083173209271,
          4.083173209271,
          4.083173209271,
          4.083173209271,
          4.083173209271,
          4.083173209271,
          4.083173209271,
          4.083173209271,
          4.083173209271,
          4.083173209271,
          4.083173209271,
          4.083173209271,
          4.083173209271,
          4.083173209271,
          4.083173209271,
          4.083173209271,
          4.083173209271,
          4.083173209271,
          4.083173209271,
          4.083173209271,
          4.083173209271,
          4.083173209271,
          4.083173209271,
          4.083173209271,
          4.083173209271,
          4.083173209271,
          4.083173209271,
          4.083173209271,
          4.083173209271,
          4.083173209271,
          4.083173209271,
          4.083213653234607,
          4.083213653234607,
          4.083228819720959,
          4.083274319180016,
          4.083289485666368,
          4.083324874134523,
          4.083355207107228,
          4.083375429089031,
          4.083375429089031,
          4.083415873052637,
          4.083425984043539,
          4.083425984043539,
          4.083425984043539,
          4.083425984043539,
          4.083425984043539,
          4.083425984043539,
          4.083425984043539,
          4.083425984043539,
          4.083425984043539,
          4.083425984043539,
          4.083425984043539,
          4.083425984043539,
          4.083476538998046,
          4.083486649988948,
          4.083527093952554,
          4.083527093952554,
          4.083527093952554,
          4.083532149448005,
          4.083537204943456,
          4.083557426925259,
          4.083577648907061,
          4.083577648907061,
          4.083618092870668,
          4.083663592329725,
          4.083673703320627,
          4.083673703320627,
          4.0836787588160774,
          4.0836787588160774,
          4.0836787588160774,
          4.0836787588160774,
          4.0836787588160774,
          4.0836787588160774,
          4.0836787588160774,
          4.0836787588160774,
          4.0836787588160774,
          4.0836787588160774,
          4.0836787588160774,
          4.0836787588160774,
          4.0836787588160774,
          4.0836787588160774,
          4.0836787588160774,
          4.0836787588160774,
          4.0836787588160774,
          4.0836787588160774,
          4.0836787588160774,
          4.0836787588160774,
          4.0836787588160774,
          4.0836787588160774,
          4.0836787588160774,
          4.0836787588160774,
          4.0836787588160774,
          4.0836787588160774,
          4.0836787588160774,
          4.0836787588160774,
          4.083683814311528,
          4.083683814311528,
          4.083729313770585,
          4.083734369266035,
          4.08376470223874,
          4.083810201697797,
          4.083830423679601,
          4.083860756652305,
          4.083870867643206,
          4.083886034129558,
          4.083911311606813,
          4.083931533588616,
          4.083931533588616,
          4.083931533588616,
          4.083931533588616,
          4.083931533588616,
          4.083931533588616,
          4.083931533588616,
          4.083931533588616,
          4.083931533588616,
          4.083931533588616,
          4.083931533588616,
          4.083931533588616,
          4.083931533588616,
          4.083951755570419,
          4.08396186656132,
          4.083966922056771,
          4.083971977552221,
          4.083987144038574,
          4.084007366020377,
          4.084007366020377,
          4.084032643497631,
          4.084078142956688,
          4.08409330944304,
          4.084128697911195,
          4.084133753406646,
          4.084133753406646,
          4.084174197370253,
          4.084179252865703,
          4.084184308361154,
          4.084184308361154,
          4.084184308361154,
          4.084184308361154,
          4.084184308361154,
          4.084184308361154,
          4.084184308361154,
          4.084184308361154,
          4.084184308361154,
          4.084184308361154,
          4.084184308361154,
          4.084184308361154,
          4.084184308361154,
          4.084184308361154,
          4.084234863315662,
          4.084275307279268,
          4.084275307279268,
          4.084285418270169,
          4.084285418270169,
          4.084285418270169,
          4.0842955292610705,
          4.084335973224677,
          4.084416861151889,
          4.084437083133692,
          4.084437083133692,
          4.084437083133692,
          4.084437083133692,
          4.084437083133692,
          4.084437083133692,
          4.084437083133692,
          4.084457305115495,
          4.0844876380882,
          4.0845179710609045,
          4.084543248538158,
          4.0845685260154125,
          4.084583692501765,
          4.084614025474469,
          4.084639302951723,
          4.084644358447174,
          4.08468480241078,
          4.0846898579062305,
          4.0846898579062305,
          4.0846898579062305,
          4.0846898579062305,
          4.0846898579062305,
          4.0846898579062305,
          4.0846898579062305,
          4.0846898579062305,
          4.0846898579062305,
          4.0846898579062305,
          4.0846898579062305,
          4.0846898579062305,
          4.0846898579062305,
          4.0846898579062305,
          4.0846898579062305,
          4.0846898579062305,
          4.0846898579062305,
          4.0846898579062305,
          4.0846898579062305,
          4.0846898579062305,
          4.0847404128607385,
          4.0847404128607385,
          4.084821300787951,
          4.084836467274303,
          4.084942582123815,
          4.084942632678769,
          4.084942632678769,
          4.084942632678769,
          4.084942632678769,
          4.084942632678769,
          4.084942632678769,
          4.08494768817422,
          4.085063964569588,
          4.085094297542292,
          4.0851448524968,
          4.0851448524968,
          4.0851448524968,
          4.085165074478603,
          4.085195407451308,
          4.085195407451308,
          4.085195407451308,
          4.085195407451308,
          4.085195407451308,
          4.085195407451308,
          4.085195407451308,
          4.085195407451308,
          4.085195407451308,
          4.085195407451308,
          4.085195407451308,
          4.085195407451308,
          4.085195407451308,
          4.085195407451308,
          4.085195407451308,
          4.085195407451308,
          4.085195407451308,
          4.085200462946759,
          4.085286406369422,
          4.08534707231483,
          4.08534707231483,
          4.085397627269338,
          4.0854431267283955,
          4.085448182223846,
          4.085448182223846,
          4.085448182223846,
          4.085448182223846,
          4.085448182223846,
          4.085448182223846,
          4.085448182223846,
          4.085448182223846,
          4.085453237719297,
          4.085498737178353,
          4.085554347628312,
          4.085554347628312,
          4.085554347628312,
          4.085554347628312,
          4.085554347628312,
          4.085554347628312,
          4.085554347628312,
          4.085554347628312,
          4.085599847087369,
          4.085599847087369,
          4.08560490258282,
          4.085695901500934,
          4.08569620483066,
          4.0857009569963845,
          4.0857009569963845,
          4.0857009569963845,
          4.0857009569963845,
          4.0857009569963845,
          4.0857009569963845,
          4.0857009569963845,
          4.0857009569963845,
          4.0857009569963845,
          4.0857009569963845,
          4.0857009569963845,
          4.0857009569963845,
          4.0857009569963845,
          4.0857009569963845,
          4.0857009569963845,
          4.0857009569963845,
          4.0857009569963845,
          4.0857009569963845,
          4.0857009569963845,
          4.0857009569963845,
          4.0857009569963845,
          4.0857009569963845,
          4.0857009569963845,
          4.0857009569963845,
          4.0857009569963845,
          4.0859233987962185,
          4.085953731768923,
          4.085953731768923,
          4.085953731768923,
          4.085953731768923,
          4.085953731768923,
          4.085968898255275,
          4.085984064741627,
          4.086004286723431,
          4.086054841677938,
          4.086085174650643,
          4.086155951586954,
          4.086161007082405,
          4.086206506541461,
          4.086206506541461,
          4.086206506541461,
          4.086206506541461,
          4.086206506541461,
          4.086206506541461,
          4.086206506541461,
          4.086206506541461,
          4.086206506541461,
          4.086206506541461,
          4.086206506541461,
          4.086206506541461,
          4.086257061495969,
          4.08626211699142,
          4.086363226900435,
          4.086459281313999,
          4.086459281313999,
          4.086459281313999,
          4.086459281313999,
          4.086459281313999,
          4.086459281313999,
          4.086459281313999,
          4.086459281313999,
          4.086616001672973,
          4.0866261126638745,
          4.086651390141129,
          4.08666150113203,
          4.086666556627481,
          4.0867120560865375,
          4.0867120560865375,
          4.0867120560865375,
          4.0867120560865375,
          4.0867120560865375,
          4.0867120560865375,
          4.0867120560865375,
          4.0867120560865375,
          4.0867120560865375,
          4.0867120560865375,
          4.0867120560865375,
          4.0867120560865375,
          4.0867120560865375,
          4.0867120560865375,
          4.0867120560865375,
          4.0867120560865375,
          4.0867120560865375,
          4.0867120560865375,
          4.0867120560865375,
          4.0867120560865375,
          4.0867120560865375,
          4.0867120560865375,
          4.0867120560865375,
          4.0868131659955536,
          4.086818221491004,
          4.086888998427315,
          4.086894053922766,
          4.086964830859077,
          4.086964830859077,
          4.0870204413090345,
          4.0870204413090345,
          4.087167050677107,
          4.087167050677107,
          4.087172106172558,
          4.087197383649812,
          4.087197383649812,
          4.087197383649812,
          4.087217605631615,
          4.087217605631615,
          4.087217605631615,
          4.087217605631615,
          4.087217605631615,
          4.087217605631615,
          4.087217605631615,
          4.087217605631615,
          4.087217605631615,
          4.087217605631615,
          4.087217605631615,
          4.087217605631615,
          4.087217605631615,
          4.087217605631615,
          4.087217605631615,
          4.087217605631615,
          4.0873288265315315,
          4.087343993017884,
          4.087343993017884,
          4.087369270495138,
          4.08745015842235,
          4.08745015842235,
          4.087470380404153,
          4.087470380404153,
          4.087470380404153,
          4.087470380404153,
          4.087571490313168,
          4.0877231551766915,
          4.0877231551766915,
          4.0877231551766915,
          4.0877231551766915,
          4.0877231551766915,
          4.0877231551766915,
          4.0877231551766915,
          4.0877231551766915,
          4.0877231551766915,
          4.0877231551766915,
          4.0877231551766915,
          4.0877231551766915,
          4.0877231551766915,
          4.0877231551766915,
          4.0877231551766915,
          4.087728210672142,
          4.0877737101311995,
          4.0877737101311995,
          4.087798987608453,
          4.087900097517468,
          4.087925374994723,
          4.087925374994723,
          4.087970874453779,
          4.08797592994923,
          4.08797592994923,
          4.088011318417386,
          4.088051762380991,
          4.088077039858245,
          4.088102317335499,
          4.0881528722900065,
          4.088183205262712,
          4.088183205262712,
          4.088183205262712,
          4.088208482739965,
          4.088208482739965,
          4.088223649226317,
          4.088228704721768,
          4.088228704721768,
          4.088228704721768,
          4.088228704721768,
          4.088228704721768,
          4.088228704721768,
          4.088228704721768,
          4.088228704721768,
          4.088228704721768,
          4.088228704721768,
          4.088228704721768,
          4.088228704721768,
          4.088228704721768,
          4.088228704721768,
          4.088228704721768,
          4.088228704721768,
          4.088228704721768,
          4.088228704721768,
          4.088228704721768,
          4.088228704721768,
          4.088228704721768,
          4.088228704721768,
          4.088228704721768,
          4.088228704721768,
          4.088228704721768,
          4.088228704721768,
          4.088233760217219,
          4.088329814630784,
          4.088329814630784,
          4.088380369585291,
          4.088380369585291,
          4.088471368503405,
          4.088481479494307,
          4.088552256430617,
          4.0885623674215195,
          4.088714032285042,
          4.088729198771395,
          4.0887342542668454,
          4.0887342542668454,
          4.0887342542668454,
          4.0887342542668454,
          4.0887342542668454,
          4.0887342542668454,
          4.0887342542668454,
          4.0887342542668454,
          4.0887342542668454,
          4.0887342542668454,
          4.0887342542668454,
          4.0887342542668454,
          4.0887342542668454,
          4.088744365257747,
          4.088810086698607,
          4.088860641653114,
          4.088865697148565,
          4.088987029039384,
          4.089022417507539,
          4.089067916966596,
          4.089138693902907,
          4.089219581830119,
          4.089239803811922,
          4.089239803811922,
          4.089239803811922,
          4.089239803811922,
          4.089239803811922,
          4.089239803811922,
          4.089239803811922,
          4.089239803811922,
          4.089239803811922,
          4.08929035876643,
          4.089472356602657,
          4.0897099648888435,
          4.0897453533569985,
          4.0897453533569985,
          4.0897453533569985,
          4.0897453533569985,
          4.0897453533569985,
          4.0897453533569985,
          4.0897453533569985,
          4.0897453533569985,
          4.0897453533569985,
          4.0897453533569985,
          4.0897453533569985,
          4.0897453533569985,
          4.0897453533569985,
          4.0897453533569985,
          4.0897453533569985,
          4.0897453533569985,
          4.0897453533569985,
          4.0897453533569985,
          4.0897453533569985,
          4.0897453533569985,
          4.0897453533569985,
          4.089770630834253,
          4.089826241284211,
          4.089846463266014,
          4.089998128129537,
          4.0900031836249875,
          4.090200347947568,
          4.090200347947568,
          4.090205403443019,
          4.090245847406624,
          4.090250902902076,
          4.0903975122701475,
          4.090554232629121,
          4.090604787583629,
          4.090674755640668,
          4.0907058974926445,
          4.090710952988095,
          4.090710952988095,
          4.090710952988095,
          4.09073623046535,
          4.090751396951702,
          4.090751396951702,
          4.0907564524471525,
          4.0907564524471525,
          4.0907564524471525,
          4.0907564524471525,
          4.0907564524471525,
          4.0907564524471525,
          4.0907564524471525,
          4.0907564524471525,
          4.0907564524471525,
          4.0907564524471525,
          4.0907564524471525,
          4.0907564524471525,
          4.0907564524471525,
          4.0907564524471525,
          4.0907564524471525,
          4.0907564524471525,
          4.0907564524471525,
          4.0907564524471525,
          4.0907564524471525,
          4.0907564524471525,
          4.0907564524471525,
          4.090887895328872,
          4.0909283392924785,
          4.091009227219691,
          4.091160892083214,
          4.09120639154227,
          4.091211447037721,
          4.091226613524074,
          4.091241780010426,
          4.091262001992229,
          4.091262001992229,
          4.091262001992229,
          4.091262001992229,
          4.091509721269317,
          4.091615886673783,
          4.09166644162829,
          4.0917675515373055,
          4.0917675515373055,
          4.0917675515373055,
          4.0917675515373055,
          4.0917675515373055,
          4.0917675515373055,
          4.0917675515373055,
          4.0917675515373055,
          4.0918686614463216,
          4.09196375531575,
          4.092020326309845,
          4.0921770466688185,
          4.092207379641523,
          4.092273101082383,
          4.092273101082383,
          4.092273101082383,
          4.092273101082383,
          4.092379266486849,
          4.092475320900413,
          4.0927786506274595,
          4.0927786506274595,
          4.092980870445491,
          4.093031425399998,
          4.093107257831759,
          4.09323870071348,
          4.093284200172536,
          4.093284200172536,
          4.093284200172536,
          4.093284200172536,
          4.093284200172536,
          4.093284200172536,
          4.093284200172536,
          4.093284200172536,
          4.093284200172536,
          4.093284200172536,
          4.093284200172536,
          4.093284200172536,
          4.093284200172536,
          4.093668417826795,
          4.093744250258556,
          4.09376952773581,
          4.0937897497176134,
          4.0937897497176134,
          4.0937897497176134,
          4.0937897497176134,
          4.0937897497176134,
          4.0937897497176134,
          4.0937897497176134,
          4.0937897497176134,
          4.093997025031094,
          4.094042524490152,
          4.094143634399167,
          4.094275077280887,
          4.094290243767239,
          4.09429529926269,
          4.09429529926269,
          4.09429529926269,
          4.09429529926269,
          4.094396409171705,
          4.094512685567073,
          4.09475534934871,
          4.0948008488077665,
          4.0948008488077665,
          4.0948008488077665,
          4.095124400516616,
          4.095306398352843,
          4.095306398352843,
          4.095326620334647,
          4.095559173125382,
          4.095695671502552,
          4.09580689240247,
          4.09580689240247,
          4.0958119478979205,
          4.0958119478979205,
          4.0958119478979205,
          4.0958119478979205,
          4.0958119478979205,
          4.0958119478979205,
          4.0958119478979205,
          4.0958119478979205,
          4.096027665888805,
          4.096721937079058,
          4.096726992574509,
          4.096777547529017,
          4.0968230469880735,
          4.0968230469880735,
          4.0968230469880735,
          4.096974711851597,
          4.097075821760613,
          4.097075821760613,
          4.097075821760613,
          4.097075821760613,
          4.097075821760613,
          4.097283097074094,
          4.097328596533151,
          4.097328596533151,
          4.097328596533151,
          4.097348818514954,
          4.097369040496757,
          4.097581371305689,
          4.097581371305689,
          4.098282922409392,
          4.098334640127853,
          4.098339695623304,
          4.098693580304858,
          4.0988452451683814,
          4.0988452451683814,
          4.0988452451683814,
          4.0988452451683814,
          4.098850300663832,
          4.099077797959116,
          4.099141800531523,
          4.099280017777147,
          4.099350794713458,
          4.099406405163417,
          4.099411460658867,
          4.0998563442585345,
          4.0998563442585345,
          4.100159673985581,
          4.1008674433486885,
          4.1008674433486885,
          4.1008674433486885,
          4.1008674433486885,
          4.1008674433486885,
          4.1008674433486885,
          4.101367937398314,
          4.102288037570354,
          4.103142416301534,
          4.103395191074072,
          4.103395191074072,
          4.104406290164226,
          4.1048612847547945,
          4.104866340250246,
          4.1049118397093025,
          4.105417389254379,
          4.105902716817653,
          4.1059229387994565,
          4.1059229387994565,
          4.1059229387994565,
          4.1059229387994565,
          4.1059229387994565,
          4.107439587434687,
          4.1077732501344375,
          4.107924914997961,
          4.108405187065784,
          4.10845068652484,
          4.10845068652484,
          4.10845068652484,
          4.108956236069917,
          4.109461785614994,
          4.1099673351600705,
          4.110300997859821,
          4.110427385246091,
          4.110472884705147,
          4.110973378754774,
          4.1109784342502245,
          4.1109784342502245,
          4.1109784342502245,
          4.111590149199767,
          4.111590149199767,
          4.1119895333403775,
          4.1119895333403775,
          4.1121765866720565,
          4.112495082885454,
          4.112495082885454,
          4.113460682516552,
          4.113506181975608,
          4.113506181975608,
          4.113506181975608,
          4.113506181975608,
          4.113506181975608,
          4.113506181975608,
          4.113506181975608,
          4.113637624857328,
          4.113758956748146,
          4.114977331151781,
          4.115027886106289,
          4.1152806608788275,
          4.115988430241935,
          4.1160339297009925,
          4.1160339297009925,
          4.1160339297009925,
          4.1160339297009925,
          4.1170450287911455,
          4.117550578336222,
          4.117803353108761,
          4.118010628422242,
          4.118561677426376,
          4.118561677426376,
          4.1200783260616065,
          4.1200783260616065,
          4.120664763533895,
          4.121084369656309,
          4.1210894251517605,
          4.1210894251517605,
          4.1221005242419135,
          4.122858848559529,
          4.123617172877144,
          4.123617172877144,
          4.123617172877144,
          4.123617172877144,
          4.123617172877144,
          4.1241227224222206,
          4.124628271967298,
          4.124628271967298,
          4.1251338215123745,
          4.1251338215123745,
          4.125573649616591,
          4.126099421143471,
          4.126144920602528,
          4.126144920602528,
          4.126144920602528,
          4.126144920602528,
          4.126144920602528,
          4.126144920602528,
          4.1271560196926815,
          4.128627168868855,
          4.128652446346109,
          4.128672668327912,
          4.128672668327912,
          4.129132718413932,
          4.1301893169631425,
          4.131053806685224,
          4.131200416053296,
          4.131200416053296,
          4.131705965598373,
          4.1331720592790955,
          4.13372816377868,
          4.13372816377868,
          4.1357604729498885,
          4.136210412045007,
          4.136255911504064,
          4.136255911504064,
          4.138783659229448,
          4.141265907495775,
          4.141316462450282,
          4.143793655221159,
          4.143839154680216,
          4.143839154680216,
          4.144395259179801,
          4.1463669024056,
          4.1463669024056,
          4.1463669024056,
          4.1463669024056,
          4.1463669024056,
          4.1463669024056,
          4.1463669024056,
          4.1463669024056,
          4.148849150671927,
          4.148849150671927,
          4.148849150671927,
          4.148849150671927,
          4.151376898397311,
          4.151422397856368,
          4.151422397856368,
          4.151422397856368,
          4.151422397856368,
          4.151422397856368,
          4.151422397856368,
          4.151422397856368,
          4.151422397856368,
          4.151422397856368,
          4.151422397856368,
          4.151422397856368,
          4.151422397856368,
          4.153449651532125,
          4.153950145581752,
          4.156477893307136,
          4.156477893307136,
          4.158960141573463,
          4.158960141573463,
          4.158960141573463,
          4.15900564103252,
          4.15900564103252,
          4.15900564103252,
          4.15900564103252,
          4.161487889298847,
          4.161533388757904,
          4.161533388757904,
          4.164061136483288,
          4.164061136483288,
          4.166588884208672,
          4.166588884208672,
          4.166588884208672,
          4.166588884208672,
          4.166588884208672,
          4.166588884208672,
          4.17164437965944,
          4.174172127384823,
          4.17665437565115,
          4.176699875110208,
          4.176699875110208,
          4.176699875110208,
          4.181755370560976,
          4.181755370560976,
          4.181755370560976,
          4.186765366552686,
          4.186810866011744,
          4.186810866011744,
          4.186810866011744,
          4.191820862003454,
          4.191866361462512,
          4.191866361462512,
          4.19692185691328,
          4.201977352364048,
          4.201977352364048,
          4.204505100089431,
          4.206987348355758,
          4.207032847814816,
          4.207032847814816,
          4.217143838716351,
          4.217143838716351,
          4.217143838716351,
          4.221698840117493,
          4.222199334167119,
          4.227254829617887,
          4.227254829617887,
          4.227254829617887,
          4.232264825609598,
          4.232264825609598,
          4.232310325068655,
          4.232310325068655,
          4.237320321060366,
          4.237320321060366,
          4.242421315970191,
          4.247431311961902,
          4.247431311961902,
          4.247431311961902,
          4.247476811420959,
          4.247476811420959,
          4.247476811420959,
          4.252532306871727,
          4.257587802322495,
          4.262643297773263,
          4.2689525560958215,
          4.272708789215741,
          4.272754288674799,
          4.297986266469581,
          4.298031765928639,
          4.308142756830174,
          4.313198252280942,
          4.31825374773171,
          4.323263743723421,
          4.323263743723421,
          4.3586522118787965,
          4.39408617949323,
          4.47492860724646
         ],
         "yaxis": "y"
        }
       ],
       "layout": {
        "font": {
         "color": "black",
         "family": "Arial",
         "size": 14
        },
        "legend": {
         "tracegroupgap": 0
        },
        "template": {
         "data": {
          "bar": [
           {
            "error_x": {
             "color": "#2a3f5f"
            },
            "error_y": {
             "color": "#2a3f5f"
            },
            "marker": {
             "line": {
              "color": "#E5ECF6",
              "width": 0.5
             },
             "pattern": {
              "fillmode": "overlay",
              "size": 10,
              "solidity": 0.2
             }
            },
            "type": "bar"
           }
          ],
          "barpolar": [
           {
            "marker": {
             "line": {
              "color": "#E5ECF6",
              "width": 0.5
             },
             "pattern": {
              "fillmode": "overlay",
              "size": 10,
              "solidity": 0.2
             }
            },
            "type": "barpolar"
           }
          ],
          "carpet": [
           {
            "aaxis": {
             "endlinecolor": "#2a3f5f",
             "gridcolor": "white",
             "linecolor": "white",
             "minorgridcolor": "white",
             "startlinecolor": "#2a3f5f"
            },
            "baxis": {
             "endlinecolor": "#2a3f5f",
             "gridcolor": "white",
             "linecolor": "white",
             "minorgridcolor": "white",
             "startlinecolor": "#2a3f5f"
            },
            "type": "carpet"
           }
          ],
          "choropleth": [
           {
            "colorbar": {
             "outlinewidth": 0,
             "ticks": ""
            },
            "type": "choropleth"
           }
          ],
          "contour": [
           {
            "colorbar": {
             "outlinewidth": 0,
             "ticks": ""
            },
            "colorscale": [
             [
              0,
              "#0d0887"
             ],
             [
              0.1111111111111111,
              "#46039f"
             ],
             [
              0.2222222222222222,
              "#7201a8"
             ],
             [
              0.3333333333333333,
              "#9c179e"
             ],
             [
              0.4444444444444444,
              "#bd3786"
             ],
             [
              0.5555555555555556,
              "#d8576b"
             ],
             [
              0.6666666666666666,
              "#ed7953"
             ],
             [
              0.7777777777777778,
              "#fb9f3a"
             ],
             [
              0.8888888888888888,
              "#fdca26"
             ],
             [
              1,
              "#f0f921"
             ]
            ],
            "type": "contour"
           }
          ],
          "contourcarpet": [
           {
            "colorbar": {
             "outlinewidth": 0,
             "ticks": ""
            },
            "type": "contourcarpet"
           }
          ],
          "heatmap": [
           {
            "colorbar": {
             "outlinewidth": 0,
             "ticks": ""
            },
            "colorscale": [
             [
              0,
              "#0d0887"
             ],
             [
              0.1111111111111111,
              "#46039f"
             ],
             [
              0.2222222222222222,
              "#7201a8"
             ],
             [
              0.3333333333333333,
              "#9c179e"
             ],
             [
              0.4444444444444444,
              "#bd3786"
             ],
             [
              0.5555555555555556,
              "#d8576b"
             ],
             [
              0.6666666666666666,
              "#ed7953"
             ],
             [
              0.7777777777777778,
              "#fb9f3a"
             ],
             [
              0.8888888888888888,
              "#fdca26"
             ],
             [
              1,
              "#f0f921"
             ]
            ],
            "type": "heatmap"
           }
          ],
          "heatmapgl": [
           {
            "colorbar": {
             "outlinewidth": 0,
             "ticks": ""
            },
            "colorscale": [
             [
              0,
              "#0d0887"
             ],
             [
              0.1111111111111111,
              "#46039f"
             ],
             [
              0.2222222222222222,
              "#7201a8"
             ],
             [
              0.3333333333333333,
              "#9c179e"
             ],
             [
              0.4444444444444444,
              "#bd3786"
             ],
             [
              0.5555555555555556,
              "#d8576b"
             ],
             [
              0.6666666666666666,
              "#ed7953"
             ],
             [
              0.7777777777777778,
              "#fb9f3a"
             ],
             [
              0.8888888888888888,
              "#fdca26"
             ],
             [
              1,
              "#f0f921"
             ]
            ],
            "type": "heatmapgl"
           }
          ],
          "histogram": [
           {
            "marker": {
             "pattern": {
              "fillmode": "overlay",
              "size": 10,
              "solidity": 0.2
             }
            },
            "type": "histogram"
           }
          ],
          "histogram2d": [
           {
            "colorbar": {
             "outlinewidth": 0,
             "ticks": ""
            },
            "colorscale": [
             [
              0,
              "#0d0887"
             ],
             [
              0.1111111111111111,
              "#46039f"
             ],
             [
              0.2222222222222222,
              "#7201a8"
             ],
             [
              0.3333333333333333,
              "#9c179e"
             ],
             [
              0.4444444444444444,
              "#bd3786"
             ],
             [
              0.5555555555555556,
              "#d8576b"
             ],
             [
              0.6666666666666666,
              "#ed7953"
             ],
             [
              0.7777777777777778,
              "#fb9f3a"
             ],
             [
              0.8888888888888888,
              "#fdca26"
             ],
             [
              1,
              "#f0f921"
             ]
            ],
            "type": "histogram2d"
           }
          ],
          "histogram2dcontour": [
           {
            "colorbar": {
             "outlinewidth": 0,
             "ticks": ""
            },
            "colorscale": [
             [
              0,
              "#0d0887"
             ],
             [
              0.1111111111111111,
              "#46039f"
             ],
             [
              0.2222222222222222,
              "#7201a8"
             ],
             [
              0.3333333333333333,
              "#9c179e"
             ],
             [
              0.4444444444444444,
              "#bd3786"
             ],
             [
              0.5555555555555556,
              "#d8576b"
             ],
             [
              0.6666666666666666,
              "#ed7953"
             ],
             [
              0.7777777777777778,
              "#fb9f3a"
             ],
             [
              0.8888888888888888,
              "#fdca26"
             ],
             [
              1,
              "#f0f921"
             ]
            ],
            "type": "histogram2dcontour"
           }
          ],
          "mesh3d": [
           {
            "colorbar": {
             "outlinewidth": 0,
             "ticks": ""
            },
            "type": "mesh3d"
           }
          ],
          "parcoords": [
           {
            "line": {
             "colorbar": {
              "outlinewidth": 0,
              "ticks": ""
             }
            },
            "type": "parcoords"
           }
          ],
          "pie": [
           {
            "automargin": true,
            "type": "pie"
           }
          ],
          "scatter": [
           {
            "fillpattern": {
             "fillmode": "overlay",
             "size": 10,
             "solidity": 0.2
            },
            "type": "scatter"
           }
          ],
          "scatter3d": [
           {
            "line": {
             "colorbar": {
              "outlinewidth": 0,
              "ticks": ""
             }
            },
            "marker": {
             "colorbar": {
              "outlinewidth": 0,
              "ticks": ""
             }
            },
            "type": "scatter3d"
           }
          ],
          "scattercarpet": [
           {
            "marker": {
             "colorbar": {
              "outlinewidth": 0,
              "ticks": ""
             }
            },
            "type": "scattercarpet"
           }
          ],
          "scattergeo": [
           {
            "marker": {
             "colorbar": {
              "outlinewidth": 0,
              "ticks": ""
             }
            },
            "type": "scattergeo"
           }
          ],
          "scattergl": [
           {
            "marker": {
             "colorbar": {
              "outlinewidth": 0,
              "ticks": ""
             }
            },
            "type": "scattergl"
           }
          ],
          "scattermapbox": [
           {
            "marker": {
             "colorbar": {
              "outlinewidth": 0,
              "ticks": ""
             }
            },
            "type": "scattermapbox"
           }
          ],
          "scatterpolar": [
           {
            "marker": {
             "colorbar": {
              "outlinewidth": 0,
              "ticks": ""
             }
            },
            "type": "scatterpolar"
           }
          ],
          "scatterpolargl": [
           {
            "marker": {
             "colorbar": {
              "outlinewidth": 0,
              "ticks": ""
             }
            },
            "type": "scatterpolargl"
           }
          ],
          "scatterternary": [
           {
            "marker": {
             "colorbar": {
              "outlinewidth": 0,
              "ticks": ""
             }
            },
            "type": "scatterternary"
           }
          ],
          "surface": [
           {
            "colorbar": {
             "outlinewidth": 0,
             "ticks": ""
            },
            "colorscale": [
             [
              0,
              "#0d0887"
             ],
             [
              0.1111111111111111,
              "#46039f"
             ],
             [
              0.2222222222222222,
              "#7201a8"
             ],
             [
              0.3333333333333333,
              "#9c179e"
             ],
             [
              0.4444444444444444,
              "#bd3786"
             ],
             [
              0.5555555555555556,
              "#d8576b"
             ],
             [
              0.6666666666666666,
              "#ed7953"
             ],
             [
              0.7777777777777778,
              "#fb9f3a"
             ],
             [
              0.8888888888888888,
              "#fdca26"
             ],
             [
              1,
              "#f0f921"
             ]
            ],
            "type": "surface"
           }
          ],
          "table": [
           {
            "cells": {
             "fill": {
              "color": "#EBF0F8"
             },
             "line": {
              "color": "white"
             }
            },
            "header": {
             "fill": {
              "color": "#C8D4E3"
             },
             "line": {
              "color": "white"
             }
            },
            "type": "table"
           }
          ]
         },
         "layout": {
          "annotationdefaults": {
           "arrowcolor": "#2a3f5f",
           "arrowhead": 0,
           "arrowwidth": 1
          },
          "autotypenumbers": "strict",
          "coloraxis": {
           "colorbar": {
            "outlinewidth": 0,
            "ticks": ""
           }
          },
          "colorscale": {
           "diverging": [
            [
             0,
             "#8e0152"
            ],
            [
             0.1,
             "#c51b7d"
            ],
            [
             0.2,
             "#de77ae"
            ],
            [
             0.3,
             "#f1b6da"
            ],
            [
             0.4,
             "#fde0ef"
            ],
            [
             0.5,
             "#f7f7f7"
            ],
            [
             0.6,
             "#e6f5d0"
            ],
            [
             0.7,
             "#b8e186"
            ],
            [
             0.8,
             "#7fbc41"
            ],
            [
             0.9,
             "#4d9221"
            ],
            [
             1,
             "#276419"
            ]
           ],
           "sequential": [
            [
             0,
             "#0d0887"
            ],
            [
             0.1111111111111111,
             "#46039f"
            ],
            [
             0.2222222222222222,
             "#7201a8"
            ],
            [
             0.3333333333333333,
             "#9c179e"
            ],
            [
             0.4444444444444444,
             "#bd3786"
            ],
            [
             0.5555555555555556,
             "#d8576b"
            ],
            [
             0.6666666666666666,
             "#ed7953"
            ],
            [
             0.7777777777777778,
             "#fb9f3a"
            ],
            [
             0.8888888888888888,
             "#fdca26"
            ],
            [
             1,
             "#f0f921"
            ]
           ],
           "sequentialminus": [
            [
             0,
             "#0d0887"
            ],
            [
             0.1111111111111111,
             "#46039f"
            ],
            [
             0.2222222222222222,
             "#7201a8"
            ],
            [
             0.3333333333333333,
             "#9c179e"
            ],
            [
             0.4444444444444444,
             "#bd3786"
            ],
            [
             0.5555555555555556,
             "#d8576b"
            ],
            [
             0.6666666666666666,
             "#ed7953"
            ],
            [
             0.7777777777777778,
             "#fb9f3a"
            ],
            [
             0.8888888888888888,
             "#fdca26"
            ],
            [
             1,
             "#f0f921"
            ]
           ]
          },
          "colorway": [
           "#636efa",
           "#EF553B",
           "#00cc96",
           "#ab63fa",
           "#FFA15A",
           "#19d3f3",
           "#FF6692",
           "#B6E880",
           "#FF97FF",
           "#FECB52"
          ],
          "font": {
           "color": "#2a3f5f"
          },
          "geo": {
           "bgcolor": "white",
           "lakecolor": "white",
           "landcolor": "#E5ECF6",
           "showlakes": true,
           "showland": true,
           "subunitcolor": "white"
          },
          "hoverlabel": {
           "align": "left"
          },
          "hovermode": "closest",
          "mapbox": {
           "style": "light"
          },
          "paper_bgcolor": "white",
          "plot_bgcolor": "#E5ECF6",
          "polar": {
           "angularaxis": {
            "gridcolor": "white",
            "linecolor": "white",
            "ticks": ""
           },
           "bgcolor": "#E5ECF6",
           "radialaxis": {
            "gridcolor": "white",
            "linecolor": "white",
            "ticks": ""
           }
          },
          "scene": {
           "xaxis": {
            "backgroundcolor": "#E5ECF6",
            "gridcolor": "white",
            "gridwidth": 2,
            "linecolor": "white",
            "showbackground": true,
            "ticks": "",
            "zerolinecolor": "white"
           },
           "yaxis": {
            "backgroundcolor": "#E5ECF6",
            "gridcolor": "white",
            "gridwidth": 2,
            "linecolor": "white",
            "showbackground": true,
            "ticks": "",
            "zerolinecolor": "white"
           },
           "zaxis": {
            "backgroundcolor": "#E5ECF6",
            "gridcolor": "white",
            "gridwidth": 2,
            "linecolor": "white",
            "showbackground": true,
            "ticks": "",
            "zerolinecolor": "white"
           }
          },
          "shapedefaults": {
           "line": {
            "color": "#2a3f5f"
           }
          },
          "ternary": {
           "aaxis": {
            "gridcolor": "white",
            "linecolor": "white",
            "ticks": ""
           },
           "baxis": {
            "gridcolor": "white",
            "linecolor": "white",
            "ticks": ""
           },
           "bgcolor": "#E5ECF6",
           "caxis": {
            "gridcolor": "white",
            "linecolor": "white",
            "ticks": ""
           }
          },
          "title": {
           "x": 0.05
          },
          "xaxis": {
           "automargin": true,
           "gridcolor": "white",
           "linecolor": "white",
           "ticks": "",
           "title": {
            "standoff": 15
           },
           "zerolinecolor": "white",
           "zerolinewidth": 2
          },
          "yaxis": {
           "automargin": true,
           "gridcolor": "white",
           "linecolor": "white",
           "ticks": "",
           "title": {
            "standoff": 15
           },
           "zerolinecolor": "white",
           "zerolinewidth": 2
          }
         }
        },
        "title": {
         "text": "Relationship between Discounted Price and Rating"
        },
        "xaxis": {
         "anchor": "y",
         "domain": [
          0,
          1
         ],
         "title": {
          "text": "Discounted Price (₹)"
         }
        },
        "yaxis": {
         "anchor": "x",
         "domain": [
          0,
          1
         ],
         "title": {
          "text": "Rating"
         }
        }
       }
      }
     },
     "metadata": {},
     "output_type": "display_data"
    }
   ],
   "source": [
    "fig5 = px.scatter(\n",
    "    data_frame=df_amazon,\n",
    "    x='discounted_price',\n",
    "    y='rating',\n",
    "    trendline='ols',\n",
    "    trendline_color_override='red',\n",
    "    title='Relationship between Discounted Price and Rating'\n",
    ")\n",
    "\n",
    "\n",
    "fig5.update_xaxes(title_text='Discounted Price (₹)')\n",
    "fig5.update_yaxes(title_text='Rating')\n",
    "fig5.update_layout(font=dict(family='Arial', size=14, color='black'))  \n",
    "fig5.show()"
   ]
  },
  {
   "cell_type": "markdown",
   "metadata": {},
   "source": [
    "<p align=\"left\">\n",
    "  <img src=\"EDA plot\\plot6.png\">\n",
    "  <br>\n",
    "</p> "
   ]
  },
  {
   "cell_type": "markdown",
   "metadata": {},
   "source": [
    "***There's no clear relationship overall, it doesn’t seem like there’s a strong or direct link between the discounted price and the rating. Just because a product is cheaper doesn’t mean it’ll get a better rating, and the same goes the other way. The data points are pretty much scattered randomly on the graph, showing there’s no clear pattern in the relationship between the two variables. You can see that both products with low discounted prices and those with high discounts are getting high ratings, meaning the price alone isn’t enough to decide the product's quality or customer satisfaction.***"
   ]
  },
  {
   "cell_type": "code",
   "execution_count": 26,
   "metadata": {},
   "outputs": [
    {
     "data": {
      "application/vnd.plotly.v1+json": {
       "config": {
        "plotlyServerURL": "https://plot.ly"
       },
       "data": [
        {
         "domain": {
          "x": [
           0,
           1
          ],
          "y": [
           0,
           1
          ]
         },
         "hovertemplate": "category=%{label}<br>value=%{value}<extra></extra>",
         "labels": [
          "CarMotorbikeCarAccessoriesInteriorAccessoriesAirPurifiersIonizers",
          "ComputersAccessoriesAccessoriesPeripheralsAdaptersUSBtoUSBAdapters",
          "ComputersAccessoriesAccessoriesPeripheralsAudioVideoAccessoriesPCHeadsets",
          "ComputersAccessoriesAccessoriesPeripheralsAudioVideoAccessoriesPCMicrophones",
          "ComputersAccessoriesAccessoriesPeripheralsAudioVideoAccessoriesPCSpeakers"
         ],
         "legendgroup": "",
         "name": "",
         "showlegend": true,
         "type": "pie",
         "values": [
          2339,
          443,
          649,
          1148,
          1498
         ]
        }
       ],
       "layout": {
        "font": {
         "color": "black",
         "family": "Arial",
         "size": 14
        },
        "height": 500,
        "legend": {
         "tracegroupgap": 0
        },
        "template": {
         "data": {
          "bar": [
           {
            "error_x": {
             "color": "#2a3f5f"
            },
            "error_y": {
             "color": "#2a3f5f"
            },
            "marker": {
             "line": {
              "color": "#E5ECF6",
              "width": 0.5
             },
             "pattern": {
              "fillmode": "overlay",
              "size": 10,
              "solidity": 0.2
             }
            },
            "type": "bar"
           }
          ],
          "barpolar": [
           {
            "marker": {
             "line": {
              "color": "#E5ECF6",
              "width": 0.5
             },
             "pattern": {
              "fillmode": "overlay",
              "size": 10,
              "solidity": 0.2
             }
            },
            "type": "barpolar"
           }
          ],
          "carpet": [
           {
            "aaxis": {
             "endlinecolor": "#2a3f5f",
             "gridcolor": "white",
             "linecolor": "white",
             "minorgridcolor": "white",
             "startlinecolor": "#2a3f5f"
            },
            "baxis": {
             "endlinecolor": "#2a3f5f",
             "gridcolor": "white",
             "linecolor": "white",
             "minorgridcolor": "white",
             "startlinecolor": "#2a3f5f"
            },
            "type": "carpet"
           }
          ],
          "choropleth": [
           {
            "colorbar": {
             "outlinewidth": 0,
             "ticks": ""
            },
            "type": "choropleth"
           }
          ],
          "contour": [
           {
            "colorbar": {
             "outlinewidth": 0,
             "ticks": ""
            },
            "colorscale": [
             [
              0,
              "#0d0887"
             ],
             [
              0.1111111111111111,
              "#46039f"
             ],
             [
              0.2222222222222222,
              "#7201a8"
             ],
             [
              0.3333333333333333,
              "#9c179e"
             ],
             [
              0.4444444444444444,
              "#bd3786"
             ],
             [
              0.5555555555555556,
              "#d8576b"
             ],
             [
              0.6666666666666666,
              "#ed7953"
             ],
             [
              0.7777777777777778,
              "#fb9f3a"
             ],
             [
              0.8888888888888888,
              "#fdca26"
             ],
             [
              1,
              "#f0f921"
             ]
            ],
            "type": "contour"
           }
          ],
          "contourcarpet": [
           {
            "colorbar": {
             "outlinewidth": 0,
             "ticks": ""
            },
            "type": "contourcarpet"
           }
          ],
          "heatmap": [
           {
            "colorbar": {
             "outlinewidth": 0,
             "ticks": ""
            },
            "colorscale": [
             [
              0,
              "#0d0887"
             ],
             [
              0.1111111111111111,
              "#46039f"
             ],
             [
              0.2222222222222222,
              "#7201a8"
             ],
             [
              0.3333333333333333,
              "#9c179e"
             ],
             [
              0.4444444444444444,
              "#bd3786"
             ],
             [
              0.5555555555555556,
              "#d8576b"
             ],
             [
              0.6666666666666666,
              "#ed7953"
             ],
             [
              0.7777777777777778,
              "#fb9f3a"
             ],
             [
              0.8888888888888888,
              "#fdca26"
             ],
             [
              1,
              "#f0f921"
             ]
            ],
            "type": "heatmap"
           }
          ],
          "heatmapgl": [
           {
            "colorbar": {
             "outlinewidth": 0,
             "ticks": ""
            },
            "colorscale": [
             [
              0,
              "#0d0887"
             ],
             [
              0.1111111111111111,
              "#46039f"
             ],
             [
              0.2222222222222222,
              "#7201a8"
             ],
             [
              0.3333333333333333,
              "#9c179e"
             ],
             [
              0.4444444444444444,
              "#bd3786"
             ],
             [
              0.5555555555555556,
              "#d8576b"
             ],
             [
              0.6666666666666666,
              "#ed7953"
             ],
             [
              0.7777777777777778,
              "#fb9f3a"
             ],
             [
              0.8888888888888888,
              "#fdca26"
             ],
             [
              1,
              "#f0f921"
             ]
            ],
            "type": "heatmapgl"
           }
          ],
          "histogram": [
           {
            "marker": {
             "pattern": {
              "fillmode": "overlay",
              "size": 10,
              "solidity": 0.2
             }
            },
            "type": "histogram"
           }
          ],
          "histogram2d": [
           {
            "colorbar": {
             "outlinewidth": 0,
             "ticks": ""
            },
            "colorscale": [
             [
              0,
              "#0d0887"
             ],
             [
              0.1111111111111111,
              "#46039f"
             ],
             [
              0.2222222222222222,
              "#7201a8"
             ],
             [
              0.3333333333333333,
              "#9c179e"
             ],
             [
              0.4444444444444444,
              "#bd3786"
             ],
             [
              0.5555555555555556,
              "#d8576b"
             ],
             [
              0.6666666666666666,
              "#ed7953"
             ],
             [
              0.7777777777777778,
              "#fb9f3a"
             ],
             [
              0.8888888888888888,
              "#fdca26"
             ],
             [
              1,
              "#f0f921"
             ]
            ],
            "type": "histogram2d"
           }
          ],
          "histogram2dcontour": [
           {
            "colorbar": {
             "outlinewidth": 0,
             "ticks": ""
            },
            "colorscale": [
             [
              0,
              "#0d0887"
             ],
             [
              0.1111111111111111,
              "#46039f"
             ],
             [
              0.2222222222222222,
              "#7201a8"
             ],
             [
              0.3333333333333333,
              "#9c179e"
             ],
             [
              0.4444444444444444,
              "#bd3786"
             ],
             [
              0.5555555555555556,
              "#d8576b"
             ],
             [
              0.6666666666666666,
              "#ed7953"
             ],
             [
              0.7777777777777778,
              "#fb9f3a"
             ],
             [
              0.8888888888888888,
              "#fdca26"
             ],
             [
              1,
              "#f0f921"
             ]
            ],
            "type": "histogram2dcontour"
           }
          ],
          "mesh3d": [
           {
            "colorbar": {
             "outlinewidth": 0,
             "ticks": ""
            },
            "type": "mesh3d"
           }
          ],
          "parcoords": [
           {
            "line": {
             "colorbar": {
              "outlinewidth": 0,
              "ticks": ""
             }
            },
            "type": "parcoords"
           }
          ],
          "pie": [
           {
            "automargin": true,
            "type": "pie"
           }
          ],
          "scatter": [
           {
            "fillpattern": {
             "fillmode": "overlay",
             "size": 10,
             "solidity": 0.2
            },
            "type": "scatter"
           }
          ],
          "scatter3d": [
           {
            "line": {
             "colorbar": {
              "outlinewidth": 0,
              "ticks": ""
             }
            },
            "marker": {
             "colorbar": {
              "outlinewidth": 0,
              "ticks": ""
             }
            },
            "type": "scatter3d"
           }
          ],
          "scattercarpet": [
           {
            "marker": {
             "colorbar": {
              "outlinewidth": 0,
              "ticks": ""
             }
            },
            "type": "scattercarpet"
           }
          ],
          "scattergeo": [
           {
            "marker": {
             "colorbar": {
              "outlinewidth": 0,
              "ticks": ""
             }
            },
            "type": "scattergeo"
           }
          ],
          "scattergl": [
           {
            "marker": {
             "colorbar": {
              "outlinewidth": 0,
              "ticks": ""
             }
            },
            "type": "scattergl"
           }
          ],
          "scattermapbox": [
           {
            "marker": {
             "colorbar": {
              "outlinewidth": 0,
              "ticks": ""
             }
            },
            "type": "scattermapbox"
           }
          ],
          "scatterpolar": [
           {
            "marker": {
             "colorbar": {
              "outlinewidth": 0,
              "ticks": ""
             }
            },
            "type": "scatterpolar"
           }
          ],
          "scatterpolargl": [
           {
            "marker": {
             "colorbar": {
              "outlinewidth": 0,
              "ticks": ""
             }
            },
            "type": "scatterpolargl"
           }
          ],
          "scatterternary": [
           {
            "marker": {
             "colorbar": {
              "outlinewidth": 0,
              "ticks": ""
             }
            },
            "type": "scatterternary"
           }
          ],
          "surface": [
           {
            "colorbar": {
             "outlinewidth": 0,
             "ticks": ""
            },
            "colorscale": [
             [
              0,
              "#0d0887"
             ],
             [
              0.1111111111111111,
              "#46039f"
             ],
             [
              0.2222222222222222,
              "#7201a8"
             ],
             [
              0.3333333333333333,
              "#9c179e"
             ],
             [
              0.4444444444444444,
              "#bd3786"
             ],
             [
              0.5555555555555556,
              "#d8576b"
             ],
             [
              0.6666666666666666,
              "#ed7953"
             ],
             [
              0.7777777777777778,
              "#fb9f3a"
             ],
             [
              0.8888888888888888,
              "#fdca26"
             ],
             [
              1,
              "#f0f921"
             ]
            ],
            "type": "surface"
           }
          ],
          "table": [
           {
            "cells": {
             "fill": {
              "color": "#EBF0F8"
             },
             "line": {
              "color": "white"
             }
            },
            "header": {
             "fill": {
              "color": "#C8D4E3"
             },
             "line": {
              "color": "white"
             }
            },
            "type": "table"
           }
          ]
         },
         "layout": {
          "annotationdefaults": {
           "arrowcolor": "#2a3f5f",
           "arrowhead": 0,
           "arrowwidth": 1
          },
          "autotypenumbers": "strict",
          "coloraxis": {
           "colorbar": {
            "outlinewidth": 0,
            "ticks": ""
           }
          },
          "colorscale": {
           "diverging": [
            [
             0,
             "#8e0152"
            ],
            [
             0.1,
             "#c51b7d"
            ],
            [
             0.2,
             "#de77ae"
            ],
            [
             0.3,
             "#f1b6da"
            ],
            [
             0.4,
             "#fde0ef"
            ],
            [
             0.5,
             "#f7f7f7"
            ],
            [
             0.6,
             "#e6f5d0"
            ],
            [
             0.7,
             "#b8e186"
            ],
            [
             0.8,
             "#7fbc41"
            ],
            [
             0.9,
             "#4d9221"
            ],
            [
             1,
             "#276419"
            ]
           ],
           "sequential": [
            [
             0,
             "#0d0887"
            ],
            [
             0.1111111111111111,
             "#46039f"
            ],
            [
             0.2222222222222222,
             "#7201a8"
            ],
            [
             0.3333333333333333,
             "#9c179e"
            ],
            [
             0.4444444444444444,
             "#bd3786"
            ],
            [
             0.5555555555555556,
             "#d8576b"
            ],
            [
             0.6666666666666666,
             "#ed7953"
            ],
            [
             0.7777777777777778,
             "#fb9f3a"
            ],
            [
             0.8888888888888888,
             "#fdca26"
            ],
            [
             1,
             "#f0f921"
            ]
           ],
           "sequentialminus": [
            [
             0,
             "#0d0887"
            ],
            [
             0.1111111111111111,
             "#46039f"
            ],
            [
             0.2222222222222222,
             "#7201a8"
            ],
            [
             0.3333333333333333,
             "#9c179e"
            ],
            [
             0.4444444444444444,
             "#bd3786"
            ],
            [
             0.5555555555555556,
             "#d8576b"
            ],
            [
             0.6666666666666666,
             "#ed7953"
            ],
            [
             0.7777777777777778,
             "#fb9f3a"
            ],
            [
             0.8888888888888888,
             "#fdca26"
            ],
            [
             1,
             "#f0f921"
            ]
           ]
          },
          "colorway": [
           "#636efa",
           "#EF553B",
           "#00cc96",
           "#ab63fa",
           "#FFA15A",
           "#19d3f3",
           "#FF6692",
           "#B6E880",
           "#FF97FF",
           "#FECB52"
          ],
          "font": {
           "color": "#2a3f5f"
          },
          "geo": {
           "bgcolor": "white",
           "lakecolor": "white",
           "landcolor": "#E5ECF6",
           "showlakes": true,
           "showland": true,
           "subunitcolor": "white"
          },
          "hoverlabel": {
           "align": "left"
          },
          "hovermode": "closest",
          "mapbox": {
           "style": "light"
          },
          "paper_bgcolor": "white",
          "plot_bgcolor": "#E5ECF6",
          "polar": {
           "angularaxis": {
            "gridcolor": "white",
            "linecolor": "white",
            "ticks": ""
           },
           "bgcolor": "#E5ECF6",
           "radialaxis": {
            "gridcolor": "white",
            "linecolor": "white",
            "ticks": ""
           }
          },
          "scene": {
           "xaxis": {
            "backgroundcolor": "#E5ECF6",
            "gridcolor": "white",
            "gridwidth": 2,
            "linecolor": "white",
            "showbackground": true,
            "ticks": "",
            "zerolinecolor": "white"
           },
           "yaxis": {
            "backgroundcolor": "#E5ECF6",
            "gridcolor": "white",
            "gridwidth": 2,
            "linecolor": "white",
            "showbackground": true,
            "ticks": "",
            "zerolinecolor": "white"
           },
           "zaxis": {
            "backgroundcolor": "#E5ECF6",
            "gridcolor": "white",
            "gridwidth": 2,
            "linecolor": "white",
            "showbackground": true,
            "ticks": "",
            "zerolinecolor": "white"
           }
          },
          "shapedefaults": {
           "line": {
            "color": "#2a3f5f"
           }
          },
          "ternary": {
           "aaxis": {
            "gridcolor": "white",
            "linecolor": "white",
            "ticks": ""
           },
           "baxis": {
            "gridcolor": "white",
            "linecolor": "white",
            "ticks": ""
           },
           "bgcolor": "#E5ECF6",
           "caxis": {
            "gridcolor": "white",
            "linecolor": "white",
            "ticks": ""
           }
          },
          "title": {
           "x": 0.05
          },
          "xaxis": {
           "automargin": true,
           "gridcolor": "white",
           "linecolor": "white",
           "ticks": "",
           "title": {
            "standoff": 15
           },
           "zerolinecolor": "white",
           "zerolinewidth": 2
          },
          "yaxis": {
           "automargin": true,
           "gridcolor": "white",
           "linecolor": "white",
           "ticks": "",
           "title": {
            "standoff": 15
           },
           "zerolinecolor": "white",
           "zerolinewidth": 2
          }
         }
        },
        "title": {
         "text": "Sales Percentage by Category"
        },
        "width": 1200
       }
      }
     },
     "metadata": {},
     "output_type": "display_data"
    }
   ],
   "source": [
    "category_sales = df_amazon.groupby('category')['discounted_price'].sum().head(5)\n",
    "\n",
    "fig6= px.pie(category_sales, \n",
    "             values=category_sales.values, names=category_sales.index\n",
    "             ,title='Sales Percentage by Category')\n",
    "\n",
    "fig6.update_layout(width = 1200 , height = 500,font = dict(family = 'Arial', size = 14, color = 'black'))\n",
    "fig6.show()"
   ]
  },
  {
   "cell_type": "markdown",
   "metadata": {},
   "source": [
    "<p align=\"left\">\n",
    "  <img src=\"EDA plot\\plot7.png\">\n",
    "  <br>\n",
    "</p> "
   ]
  },
  {
   "cell_type": "markdown",
   "metadata": {},
   "source": [
    "***The top-selling category is \"CarMotorbikeCarAccessoriesInterior Accessories Air Purifiers\" at 38.5%, followed by \"ComputersAccessoriesAudioVideoAccessoriesPCSpeakers\" at 18.9%, \"ComputersAccessoriesAudioVideoAccessoriesPCHeadsets\" at 10.7%, USB adapters at 7.3%, and microphones at 4.4%..***"
   ]
  }
 ],
 "metadata": {
  "kernelspec": {
   "display_name": "Python 3",
   "language": "python",
   "name": "python3"
  },
  "language_info": {
   "codemirror_mode": {
    "name": "ipython",
    "version": 3
   },
   "file_extension": ".py",
   "mimetype": "text/x-python",
   "name": "python",
   "nbconvert_exporter": "python",
   "pygments_lexer": "ipython3",
   "version": "3.12.6"
  }
 },
 "nbformat": 4,
 "nbformat_minor": 2
}
